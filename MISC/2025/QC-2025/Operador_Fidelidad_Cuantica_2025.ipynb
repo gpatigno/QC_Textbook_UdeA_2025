{
 "cells": [
  {
   "cell_type": "code",
   "execution_count": 1,
   "id": "364c80db",
   "metadata": {},
   "outputs": [],
   "source": [
    "from qiskit import QuantumCircuit\n",
    "from qiskit.quantum_info import SparsePauliOp\n",
    "from qiskit.primitives import StatevectorEstimator\n",
    "from qiskit.transpiler import generate_preset_pass_manager"
   ]
  },
  {
   "cell_type": "code",
   "execution_count": 2,
   "id": "8015f0e7",
   "metadata": {},
   "outputs": [],
   "source": [
    "pm = generate_preset_pass_manager(optimization_level=1)\n",
    "estimator = StatevectorEstimator()"
   ]
  },
  {
   "cell_type": "code",
   "execution_count": 3,
   "id": "50363cd7",
   "metadata": {},
   "outputs": [
    {
     "data": {
      "text/plain": [
       "<qiskit.circuit.instructionset.InstructionSet at 0x7f7e79179f60>"
      ]
     },
     "execution_count": 3,
     "metadata": {},
     "output_type": "execute_result"
    }
   ],
   "source": [
    "# Ejemplo 1: Fidelidad entre |+> y |0>\n",
    "qc1 = QuantumCircuit(1)\n",
    "qc1.h(0) # Definición del estado cuántico |+>"
   ]
  },
  {
   "cell_type": "code",
   "execution_count": 4,
   "id": "18859073",
   "metadata": {},
   "outputs": [],
   "source": [
    "# Observable para medir fidelidad con respecto al estado |0⟩: Π₀ = (I + Z)/2\n",
    "observable1 = 0.5 * (SparsePauliOp(\"I\") + SparsePauliOp(\"Z\"))"
   ]
  },
  {
   "cell_type": "code",
   "execution_count": 5,
   "id": "14ebd33e",
   "metadata": {},
   "outputs": [],
   "source": [
    "isa_circuit1 = pm.run(qc1)\n",
    "isa_observable1 = observable1.apply_layout(isa_circuit1.layout)"
   ]
  },
  {
   "cell_type": "code",
   "execution_count": 6,
   "id": "cf12a0e1",
   "metadata": {},
   "outputs": [
    {
     "name": "stdout",
     "output_type": "stream",
     "text": [
      "Ejemplo 1: Fidelidad entre |+> y |0⟩ = 0.4999999999999999\n"
     ]
    }
   ],
   "source": [
    "job1 = estimator.run([(isa_circuit1, isa_observable1)])\n",
    "result1 = job1.result()\n",
    "\n",
    "fidelidad1 = result1[0].data.evs\n",
    "\n",
    "# Muestra del resultado de fidelidad:\n",
    "print(\"Ejemplo 1: Fidelidad entre |+> y |0⟩ =\", fidelidad1)"
   ]
  },
  {
   "cell_type": "code",
   "execution_count": 7,
   "id": "692ab0e1",
   "metadata": {},
   "outputs": [],
   "source": [
    "# Ejemplo 2: Fidelidad perfecta tras aplicar U y luego U†\n",
    "qc2 = QuantumCircuit(2)\n",
    "qc2.h([0, 1])      # Definición del circuito con matriz U = H\n",
    "qc2.h([0, 1])      # Definición del circuito con matriz U† = U = H\n",
    "\n",
    "# Observable: Π₀ = (I + Z)⊗(I + Z)/4 para medir |00⟩\n",
    "observable2 = 0.25 * SparsePauliOp.from_list([\n",
    "    (\"II\", 1),\n",
    "    (\"IZ\", 1),\n",
    "    (\"ZI\", 1),\n",
    "    (\"ZZ\", 1)\n",
    "])"
   ]
  },
  {
   "cell_type": "code",
   "execution_count": 8,
   "id": "f04f1086",
   "metadata": {},
   "outputs": [],
   "source": [
    "isa_circuit2 = pm.run(qc2)\n",
    "isa_observable2 = observable2.apply_layout(isa_circuit2.layout)"
   ]
  },
  {
   "cell_type": "code",
   "execution_count": 9,
   "id": "74748cad",
   "metadata": {},
   "outputs": [
    {
     "name": "stdout",
     "output_type": "stream",
     "text": [
      "Ejemplo 2: Fidelidad tras U seguido de U† = 1.0\n"
     ]
    }
   ],
   "source": [
    "job2 = estimator.run([(isa_circuit2, isa_observable2)])\n",
    "result2 = job2.result()\n",
    "# print(f\" > Result class: {type(result1)}\")\n",
    "fidelidad2 = result2[0].data.evs\n",
    "\n",
    "# Muestra del resultado de fidelidad:\n",
    "print(\"Ejemplo 2: Fidelidad tras U seguido de U† =\", fidelidad2)"
   ]
  },
  {
   "cell_type": "code",
   "execution_count": 10,
   "id": "1a6b04e2",
   "metadata": {},
   "outputs": [
    {
     "name": "stdout",
     "output_type": "stream",
     "text": [
      "Qiskit Version: 1.3.2\n",
      "Python Version: 3.13.1\n",
      "2025 ©\n"
     ]
    }
   ],
   "source": [
    "from qiskit import __version__ as qiskit_version\n",
    "from platform import python_version\n",
    "\n",
    "print('Qiskit Version:', qiskit_version)\n",
    "print('Python Version:', python_version())\n",
    "print('2025 ©')"
   ]
  }
 ],
 "metadata": {
  "kernelspec": {
   "display_name": "MyQiskit2025-V1",
   "language": "python",
   "name": "python3"
  },
  "language_info": {
   "codemirror_mode": {
    "name": "ipython",
    "version": 3
   },
   "file_extension": ".py",
   "mimetype": "text/x-python",
   "name": "python",
   "nbconvert_exporter": "python",
   "pygments_lexer": "ipython3",
   "version": "3.13.1"
  }
 },
 "nbformat": 4,
 "nbformat_minor": 5
}
