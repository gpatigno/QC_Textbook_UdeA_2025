{
 "cells": [
  {
   "cell_type": "markdown",
   "metadata": {
    "id": "Su_wIgHR0Ujk"
   },
   "source": [
    "## _*Comparing Strings with Quantum Superpositon*_\n",
    "\n",
    "This code is based on the notebook available on\n",
    "\n",
    "https://github.com/qiskit-community/qiskit-community-tutorials/blob/master/hello_world/string_comparison.ipynb"
   ]
  },
  {
   "cell_type": "markdown",
   "metadata": {
    "id": "nGbmMg1BGcys"
   },
   "source": [
    "## _*Código modificado en la UdeA, Medellín, Colombia*_\n",
    " El presente *notebook* difiere del original debido a diversos cambios realizados para lograr su ejecución en la versión de **Qiskit 2.0**.\n",
    "\n",
    "### **Gustavo Patino-Alvarez**\n",
    "Facultad de Ingeniería\n",
    "\n",
    "Universidad de Antioquia\n",
    "\n",
    "Medellin, Colombia. 2020 - 2025"
   ]
  },
  {
   "cell_type": "markdown",
   "metadata": {
    "id": "Gs3r0B6U0Ujn"
   },
   "source": [
    "## Motivation\n",
    "\n",
    "If we can use quantum states to represent genetic codes, we may be able to compare them, and/or find similar genetic codes quickly.\n",
    "\n",
    "For example, according to [this site](http://www.bioinformatics.org/sms2/genetic_code.html) the starts of the genetic codes for the Yeast Mitochondrial, Protozoan Mitochondrial, and Bacterial Code are respectively as follow."
   ]
  },
  {
   "cell_type": "code",
   "execution_count": 1,
   "metadata": {
    "ExecuteTime": {
     "end_time": "2018-09-25T16:52:52.597525Z",
     "start_time": "2018-09-25T16:52:52.593598Z"
    },
    "id": "3alSdf660Ujo"
   },
   "outputs": [],
   "source": [
    "YEAST     = \"----------------------------------MM----------------------------\"\n",
    "PROTOZOAN = \"--MM---------------M------------MMMM---------------M------------\"\n",
    "BACTERIAL = \"---M---------------M------------MMMM---------------M------------\""
   ]
  },
  {
   "cell_type": "markdown",
   "metadata": {
    "id": "uWwKtoBV0Ujp"
   },
   "source": [
    "Notice that each of the codes is represented by a bitstring of length 64. By comparing characters at the same position in the strings, we can see that Protozoan's is closer to Bacterial's than Yeast's.\n",
    "\n",
    "Exploiting quantum superposition, we can create quantum states by using only 7 qubits such that each of the quantum states corresponds to the genetic code of Yeast, Protozoan, and Bacterial. We then compare the closeness of their genetic codes by comparing their quantum states, which is made possible by the reversibility of quantum circuit.\n",
    "\n",
    "The reversibility of quantum circuit to test the similarity of quantum states works as follow. Assume that we can create a quantum superposition starting from all-zero states by a quantum circuit. Then by inverting the same quantum circuit and we give it the same quantum superposition as input, we will get exactly all-zero bits as the output. Now, when we give a similar quantum superposition as input to the inverted circuit, we can still get all-zero bits as the output with probability proportional to the similarity of the quantum states: the more similar, the more we observe all-zero bits.\n",
    "\n",
    "Thus, to decide which code (*Yeast's* *or* *Bacterial's*) is the most similar to the Protozoan, we can do the following:\n",
    "\n",
    "1. We first prepare the quantum state that encodes the Protozoan's\n",
    "2. We then use the quantum state as inputs to the inverted circuits that each prepare the quantum state of Yeast's and Bacterial's. Run and measure the circuits\n",
    "3. Output the name of the inverted circuit whose measurements result in more frequent measurements of all-zero bits.\n",
    "\n",
    "\n",
    "## Quantum Superposition for Bitstrings\n",
    "\n",
    "A qubit can be in a superposition of two basis states: \"0\" and \"1\" at the same time. Going further, two qubits can be in a superposition of four basis states: \"00\", \"01\", \"10\", and \"11\". In general, $n$ qubits can be in a superposition of $2^n$ (exponential in the number of qubits!) basis states.\n",
    "\n",
    "Here, we show a simple example to create quantum superpositon for bitstrings and use them to compare the similarity between two bitstrings. This tutorial makes use the [quantum state initialization function](https://docs.quantum.ibm.com/api/qiskit/qiskit.circuit.library.Initialize) and **circuit inversion**. It also illustrates the power of loading data into quantum states."
   ]
  },
  {
   "cell_type": "markdown",
   "metadata": {
    "id": "mxWLy9f10Ujr"
   },
   "source": [
    "## Comparing bitstrings of length 64 with 7 qubits\n",
    "\n",
    "Let say we have three genetic codes as above.\n",
    "\n",
    "```\n",
    "YEAST     = \"----------------------------------MM----------------------------\"\n",
    "PROTOZOAN = \"--MM---------------M------------MMMM---------------M------------\"\n",
    "BACTERIAL = \"---M---------------M------------MMMM---------------M------------\"\n",
    "```\n",
    "\n",
    "Let use 7 qubits to encode the above codes: the first 6 qubits for indexing the location in the code (because we have 64 positions that we number from 0 to 63), and the last qubit for the content of the code (we use \"0\" for \"-\" and \"1\" for \"M\"). Thus, numbering the position of the code from left to right, we can create quantum states for each of the code as below:\n",
    "\n",
    "\\begin{align}\n",
    "|YEAST \\rangle &=& \\frac{1}{8} \\left( |000000\\rangle |0\\rangle +  |000001\\rangle |0\\rangle  + |000010\\rangle |0\\rangle + |000011\\rangle |0\\rangle + \\ldots \\right) \\\\\n",
    "|PROTOZOAN \\rangle &=& \\frac{1}{8} \\left( |000000\\rangle |0\\rangle +  |000001\\rangle |0\\rangle + |000010\\rangle |1\\rangle + |000011\\rangle |1\\rangle + \\ldots \\right) \\\\\n",
    "|BACTERIAL \\rangle &=& \\frac{1}{8} \\left( |000000\\rangle |0\\rangle +  |000001\\rangle |0\\rangle + |000010\\rangle |0\\rangle + |000011\\rangle |1\\rangle + \\ldots \\right)\n",
    "\\end{align}\n",
    "\n",
    "The first four codes of Yeast's are all \"-\", and therefore at the above all of the second registers of the corresponding state are \"0\". And so on.\n",
    "\n",
    "### Creating quantum superposition for genetic codes\n",
    "\n",
    "Below is the python function to create a quantum superposition for a given genetic code as above."
   ]
  },
  {
   "cell_type": "code",
   "execution_count": 2,
   "metadata": {
    "id": "Th9aLFtUNAMO"
   },
   "outputs": [],
   "source": [
    "# !pip install qiskit\n",
    "# !pip install qiskit-ibm-runtime\n",
    "# !pip install qiskit[visualization]\n",
    "# !pip install qiskit-aer"
   ]
  },
  {
   "cell_type": "code",
   "execution_count": 3,
   "metadata": {
    "ExecuteTime": {
     "end_time": "2018-09-25T16:52:53.178637Z",
     "start_time": "2018-09-25T16:52:53.170526Z"
    },
    "executionInfo": {
     "elapsed": 14,
     "status": "ok",
     "timestamp": 1744388797421,
     "user": {
      "displayName": "GUSTAVO ADOLFO PATI�O ALVAREZ",
      "userId": "13728227204889328138"
     },
     "user_tz": 300
    },
    "id": "DrIreivv0Ujt"
   },
   "outputs": [],
   "source": [
    "import sys\n",
    "import numpy as np\n",
    "import math"
   ]
  },
  {
   "cell_type": "code",
   "execution_count": 4,
   "metadata": {
    "executionInfo": {
     "elapsed": 3,
     "status": "ok",
     "timestamp": 1744388797427,
     "user": {
      "displayName": "GUSTAVO ADOLFO PATI�O ALVAREZ",
      "userId": "13728227204889328138"
     },
     "user_tz": 300
    },
    "id": "IUWCiQAQGcyw"
   },
   "outputs": [],
   "source": [
    "from qiskit import QuantumCircuit, QuantumRegister, ClassicalRegister, transpile\n",
    "\n",
    "# , execute, BasicAer, IBMQ\n",
    "from qiskit.visualization import plot_histogram, plot_bloch_multivector\n",
    "\n",
    "# from qiskit.extensions import Initialize\n",
    "from qiskit.circuit.library import Initialize\n",
    "\n",
    "from qiskit.visualization import array_to_latex\n",
    "from qiskit.quantum_info import Statevector\n",
    "\n",
    "from qiskit_aer import AerSimulator"
   ]
  },
  {
   "cell_type": "code",
   "execution_count": 5,
   "metadata": {
    "executionInfo": {
     "elapsed": 17,
     "status": "ok",
     "timestamp": 1744388797446,
     "user": {
      "displayName": "GUSTAVO ADOLFO PATI�O ALVAREZ",
      "userId": "13728227204889328138"
     },
     "user_tz": 300
    },
    "id": "l9z8XP_DGcy1"
   },
   "outputs": [],
   "source": [
    "simulator = AerSimulator() # Simulator selected to simulate the quantum system."
   ]
  },
  {
   "cell_type": "code",
   "execution_count": 6,
   "metadata": {
    "colab": {
     "base_uri": "https://localhost:8080/"
    },
    "executionInfo": {
     "elapsed": 28,
     "status": "ok",
     "timestamp": 1744388797477,
     "user": {
      "displayName": "GUSTAVO ADOLFO PATI�O ALVAREZ",
      "userId": "13728227204889328138"
     },
     "user_tz": 300
    },
    "id": "mUj8VxoMGcyx",
    "outputId": "05249159-ab84-4400-c33f-3ac11bbe2fc8"
   },
   "outputs": [
    {
     "name": "stdout",
     "output_type": "stream",
     "text": [
      "Example: Let's print the Yeast genetic code: ----------------------------------MM----------------------------\n",
      "Its size is: 64\n"
     ]
    }
   ],
   "source": [
    "print(\"Example: Let's print the Yeast genetic code:\", YEAST)\n",
    "print(\"Its size is:\", len(YEAST))"
   ]
  },
  {
   "cell_type": "markdown",
   "metadata": {
    "id": "yf6i1LGA0Ujv"
   },
   "source": [
    "### Codificación de la cadena de BitString cada secuencia genética:"
   ]
  },
  {
   "cell_type": "code",
   "execution_count": 7,
   "metadata": {
    "ExecuteTime": {
     "end_time": "2018-09-25T16:52:53.351971Z",
     "start_time": "2018-09-25T16:52:53.339024Z"
    },
    "executionInfo": {
     "elapsed": 6,
     "status": "ok",
     "timestamp": 1744388797503,
     "user": {
      "displayName": "GUSTAVO ADOLFO PATI�O ALVAREZ",
      "userId": "13728227204889328138"
     },
     "user_tz": 300
    },
    "id": "06Ls5vxx0Ujw"
   },
   "outputs": [],
   "source": [
    "def encode_bitstring(bitstring, qr, cr, inverse=False):\n",
    "    \"\"\"\n",
    "    create a circuit for constructing the quantum superposition of the bitstring\n",
    "    \"\"\"\n",
    "    n = math.ceil(math.log2(len(bitstring))) + 1                 #number of qubits\n",
    "    assert n > 2, \"the length of bitstring must be at least 2\"\n",
    "\n",
    "    qc = QuantumCircuit(qr, cr)\n",
    "\n",
    "    #the probability amplitude of the desired state\n",
    "    desired_vector = np.array([ 0.0 for i in range(2**n) ])     #initialize to zero\n",
    "\n",
    "    print(len(desired_vector))\n",
    "\n",
    "    display(array_to_latex(Statevector(desired_vector), prefix=\"\\\\ket{\\\\psi_0} = \"))\n",
    "\n",
    "    qc_init = QuantumCircuit(n) # Creación de compuertas circuitales para inicialización\n",
    "    inverse_qc_init = QuantumCircuit(n) # Creación de compuertas circuitales para inversión de la inicialización\n",
    "\n",
    "    amplitude = np.sqrt(1.0/2**(n-1))\n",
    "\n",
    "    for i, b in enumerate(bitstring):\n",
    "        pos = i * 2\n",
    "        if b == \"1\" or b == \"M\":\n",
    "            pos += 1\n",
    "        desired_vector[pos] = amplitude\n",
    "\n",
    "    display('The circuit state vector is', array_to_latex(Statevector(desired_vector), prefix=\"\\\\ket{\\\\psi_{initilized}} = \"))\n",
    "\n",
    "    init = Initialize(desired_vector)\n",
    "\n",
    "    if not inverse:\n",
    "        qc_init.append(init, qc_init.qubits)\n",
    "        qc.append(qc_init, qr)\n",
    "        qc.barrier(qr)\n",
    "\n",
    "    else:\n",
    "        uncompute = init.gates_to_uncompute().decompose()\n",
    "\n",
    "        inverse_qc_init.append(uncompute, inverse_qc_init.qubits)\n",
    "        qc.append(inverse_qc_init, qr)\n",
    "\n",
    "        qc.barrier(qr)\n",
    "        for i in range(n):\n",
    "            qc.measure(qr[i], cr[i])\n",
    "    print()\n",
    "    return qc"
   ]
  },
  {
   "cell_type": "markdown",
   "metadata": {
    "id": "Os676jtV0Ujy"
   },
   "source": [
    "We can now create quantum circuits to create the quantum states for the Yeast's, Protozoan's, and Bacterial's."
   ]
  },
  {
   "cell_type": "code",
   "execution_count": 8,
   "metadata": {
    "ExecuteTime": {
     "end_time": "2018-09-25T16:52:53.884331Z",
     "start_time": "2018-09-25T16:52:53.649109Z"
    },
    "colab": {
     "base_uri": "https://localhost:8080/",
     "height": 304
    },
    "executionInfo": {
     "elapsed": 32,
     "status": "ok",
     "timestamp": 1744388797543,
     "user": {
      "displayName": "GUSTAVO ADOLFO PATI�O ALVAREZ",
      "userId": "13728227204889328138"
     },
     "user_tz": 300
    },
    "id": "me0yXEUX0Ujy",
    "outputId": "ef01efe3-e5a2-45ca-b54d-3a912722f0f9"
   },
   "outputs": [
    {
     "name": "stdout",
     "output_type": "stream",
     "text": [
      "128\n"
     ]
    },
    {
     "data": {
      "text/latex": [
       "$$\n",
       "\\ket{\\psi_0} = \n",
       "\\begin{bmatrix}\n",
       "0 & 0 & 0 & 0 & \\cdots & 0 & 0 & 0  \\\\\n",
       " \\end{bmatrix}\n",
       "$$"
      ],
      "text/plain": [
       "<IPython.core.display.Latex object>"
      ]
     },
     "metadata": {},
     "output_type": "display_data"
    },
    {
     "data": {
      "text/plain": [
       "'The circuit state vector is'"
      ]
     },
     "metadata": {},
     "output_type": "display_data"
    },
    {
     "data": {
      "text/latex": [
       "$$\n",
       "\\ket{\\psi_{initilized}} = \n",
       "\\begin{bmatrix}\n",
       "\\frac{1}{8} & 0 & \\frac{1}{8} & 0 & \\cdots & 0 & \\frac{1}{8} & 0  \\\\\n",
       " \\end{bmatrix}\n",
       "$$"
      ],
      "text/plain": [
       "<IPython.core.display.Latex object>"
      ]
     },
     "metadata": {},
     "output_type": "display_data"
    },
    {
     "name": "stdout",
     "output_type": "stream",
     "text": [
      "\n",
      "128\n"
     ]
    },
    {
     "data": {
      "text/latex": [
       "$$\n",
       "\\ket{\\psi_0} = \n",
       "\\begin{bmatrix}\n",
       "0 & 0 & 0 & 0 & \\cdots & 0 & 0 & 0  \\\\\n",
       " \\end{bmatrix}\n",
       "$$"
      ],
      "text/plain": [
       "<IPython.core.display.Latex object>"
      ]
     },
     "metadata": {},
     "output_type": "display_data"
    },
    {
     "data": {
      "text/plain": [
       "'The circuit state vector is'"
      ]
     },
     "metadata": {},
     "output_type": "display_data"
    },
    {
     "data": {
      "text/latex": [
       "$$\n",
       "\\ket{\\psi_{initilized}} = \n",
       "\\begin{bmatrix}\n",
       "\\frac{1}{8} & 0 & \\frac{1}{8} & 0 & \\cdots & 0 & \\frac{1}{8} & 0  \\\\\n",
       " \\end{bmatrix}\n",
       "$$"
      ],
      "text/plain": [
       "<IPython.core.display.Latex object>"
      ]
     },
     "metadata": {},
     "output_type": "display_data"
    },
    {
     "name": "stdout",
     "output_type": "stream",
     "text": [
      "\n",
      "128\n"
     ]
    },
    {
     "data": {
      "text/latex": [
       "$$\n",
       "\\ket{\\psi_0} = \n",
       "\\begin{bmatrix}\n",
       "0 & 0 & 0 & 0 & \\cdots & 0 & 0 & 0  \\\\\n",
       " \\end{bmatrix}\n",
       "$$"
      ],
      "text/plain": [
       "<IPython.core.display.Latex object>"
      ]
     },
     "metadata": {},
     "output_type": "display_data"
    },
    {
     "data": {
      "text/plain": [
       "'The circuit state vector is'"
      ]
     },
     "metadata": {},
     "output_type": "display_data"
    },
    {
     "data": {
      "text/latex": [
       "$$\n",
       "\\ket{\\psi_{initilized}} = \n",
       "\\begin{bmatrix}\n",
       "\\frac{1}{8} & 0 & \\frac{1}{8} & 0 & \\cdots & 0 & \\frac{1}{8} & 0  \\\\\n",
       " \\end{bmatrix}\n",
       "$$"
      ],
      "text/plain": [
       "<IPython.core.display.Latex object>"
      ]
     },
     "metadata": {},
     "output_type": "display_data"
    },
    {
     "name": "stdout",
     "output_type": "stream",
     "text": [
      "\n"
     ]
    }
   ],
   "source": [
    "n = math.ceil(math.log2(len(YEAST))) + 1                 #number of qubits\n",
    "qr = QuantumRegister(n)\n",
    "cr = ClassicalRegister(n)\n",
    "\n",
    "qc_yeast     = encode_bitstring(YEAST, qr, cr)\n",
    "qc_protozoan = encode_bitstring(PROTOZOAN, qr, cr)\n",
    "qc_bacterial = encode_bitstring(BACTERIAL, qr, cr)\n",
    "\n",
    "circs = {\"YEAST\": qc_yeast, \"PROTOZOAN\": qc_protozoan, \"BACTERIAL\": qc_bacterial}"
   ]
  },
  {
   "cell_type": "code",
   "execution_count": 9,
   "metadata": {
    "executionInfo": {
     "elapsed": 3,
     "status": "ok",
     "timestamp": 1744388797548,
     "user": {
      "displayName": "GUSTAVO ADOLFO PATI�O ALVAREZ",
      "userId": "13728227204889328138"
     },
     "user_tz": 300
    },
    "id": "DALrGgShGcyz"
   },
   "outputs": [],
   "source": [
    "# qc_bacterial.decompose(reps=5).draw('mpl')"
   ]
  },
  {
   "cell_type": "code",
   "execution_count": 10,
   "metadata": {
    "colab": {
     "base_uri": "https://localhost:8080/",
     "height": 1000
    },
    "executionInfo": {
     "elapsed": 319,
     "status": "ok",
     "timestamp": 1744388797869,
     "user": {
      "displayName": "GUSTAVO ADOLFO PATI�O ALVAREZ",
      "userId": "13728227204889328138"
     },
     "user_tz": 300
    },
    "id": "KHag7btKGcy0",
    "outputId": "f8535869-535b-4b64-8ee2-cde7433aaee0"
   },
   "outputs": [
    {
     "name": "stdout",
     "output_type": "stream",
     "text": [
      "\n",
      "Circuit: YEAST\n"
     ]
    },
    {
     "data": {
      "image/png": "[encoded data removed]",
      "text/plain": [
       "<Figure size 389.338x702.333 with 1 Axes>"
      ]
     },
     "metadata": {},
     "output_type": "display_data"
    },
    {
     "name": "stdout",
     "output_type": "stream",
     "text": [
      "\n",
      "Circuit: PROTOZOAN\n"
     ]
    },
    {
     "data": {
      "image/png": "[encoded data removed]",
      "text/plain": [
       "<Figure size 389.338x702.333 with 1 Axes>"
      ]
     },
     "metadata": {},
     "output_type": "display_data"
    },
    {
     "name": "stdout",
     "output_type": "stream",
     "text": [
      "\n",
      "Circuit: BACTERIAL\n"
     ]
    },
    {
     "data": {
      "image/png": "[encoded data removed]",
      "text/plain": [
       "<Figure size 389.338x702.333 with 1 Axes>"
      ]
     },
     "metadata": {},
     "output_type": "display_data"
    }
   ],
   "source": [
    "for name, circuit in circs.items():\n",
    "    print(f\"\\nCircuit: {name}\")\n",
    "    display(circuit.draw(output='mpl'))  # Use 'mpl' for better-looking diagrams (requires matplotlib)\n"
   ]
  },
  {
   "cell_type": "markdown",
   "metadata": {
    "id": "8swHLkmQ0Uj0"
   },
   "source": [
    "### Inverting quantum circuit\n",
    "\n",
    "We can easily invert a quantum circuit by `inverse()` function. These inversed circuits are desirable to compute the closeness of the quantum states."
   ]
  },
  {
   "cell_type": "code",
   "execution_count": 11,
   "metadata": {
    "ExecuteTime": {
     "end_time": "2018-09-25T16:52:54.207679Z",
     "start_time": "2018-09-25T16:52:53.960262Z"
    },
    "colab": {
     "base_uri": "https://localhost:8080/",
     "height": 304
    },
    "executionInfo": {
     "elapsed": 66,
     "status": "ok",
     "timestamp": 1744388797937,
     "user": {
      "displayName": "GUSTAVO ADOLFO PATI�O ALVAREZ",
      "userId": "13728227204889328138"
     },
     "user_tz": 300
    },
    "id": "tpLYghdI0Uj0",
    "outputId": "3c37a2de-b4a8-474a-cde6-dc5fc8cfab50"
   },
   "outputs": [
    {
     "name": "stdout",
     "output_type": "stream",
     "text": [
      "128\n"
     ]
    },
    {
     "data": {
      "text/latex": [
       "$$\n",
       "\\ket{\\psi_0} = \n",
       "\\begin{bmatrix}\n",
       "0 & 0 & 0 & 0 & \\cdots & 0 & 0 & 0  \\\\\n",
       " \\end{bmatrix}\n",
       "$$"
      ],
      "text/plain": [
       "<IPython.core.display.Latex object>"
      ]
     },
     "metadata": {},
     "output_type": "display_data"
    },
    {
     "data": {
      "text/plain": [
       "'The circuit state vector is'"
      ]
     },
     "metadata": {},
     "output_type": "display_data"
    },
    {
     "data": {
      "text/latex": [
       "$$\n",
       "\\ket{\\psi_{initilized}} = \n",
       "\\begin{bmatrix}\n",
       "\\frac{1}{8} & 0 & \\frac{1}{8} & 0 & \\cdots & 0 & \\frac{1}{8} & 0  \\\\\n",
       " \\end{bmatrix}\n",
       "$$"
      ],
      "text/plain": [
       "<IPython.core.display.Latex object>"
      ]
     },
     "metadata": {},
     "output_type": "display_data"
    },
    {
     "name": "stdout",
     "output_type": "stream",
     "text": [
      "\n",
      "128\n"
     ]
    },
    {
     "data": {
      "text/latex": [
       "$$\n",
       "\\ket{\\psi_0} = \n",
       "\\begin{bmatrix}\n",
       "0 & 0 & 0 & 0 & \\cdots & 0 & 0 & 0  \\\\\n",
       " \\end{bmatrix}\n",
       "$$"
      ],
      "text/plain": [
       "<IPython.core.display.Latex object>"
      ]
     },
     "metadata": {},
     "output_type": "display_data"
    },
    {
     "data": {
      "text/plain": [
       "'The circuit state vector is'"
      ]
     },
     "metadata": {},
     "output_type": "display_data"
    },
    {
     "data": {
      "text/latex": [
       "$$\n",
       "\\ket{\\psi_{initilized}} = \n",
       "\\begin{bmatrix}\n",
       "\\frac{1}{8} & 0 & \\frac{1}{8} & 0 & \\cdots & 0 & \\frac{1}{8} & 0  \\\\\n",
       " \\end{bmatrix}\n",
       "$$"
      ],
      "text/plain": [
       "<IPython.core.display.Latex object>"
      ]
     },
     "metadata": {},
     "output_type": "display_data"
    },
    {
     "name": "stdout",
     "output_type": "stream",
     "text": [
      "\n",
      "128\n"
     ]
    },
    {
     "data": {
      "text/latex": [
       "$$\n",
       "\\ket{\\psi_0} = \n",
       "\\begin{bmatrix}\n",
       "0 & 0 & 0 & 0 & \\cdots & 0 & 0 & 0  \\\\\n",
       " \\end{bmatrix}\n",
       "$$"
      ],
      "text/plain": [
       "<IPython.core.display.Latex object>"
      ]
     },
     "metadata": {},
     "output_type": "display_data"
    },
    {
     "data": {
      "text/plain": [
       "'The circuit state vector is'"
      ]
     },
     "metadata": {},
     "output_type": "display_data"
    },
    {
     "data": {
      "text/latex": [
       "$$\n",
       "\\ket{\\psi_{initilized}} = \n",
       "\\begin{bmatrix}\n",
       "\\frac{1}{8} & 0 & \\frac{1}{8} & 0 & \\cdots & 0 & \\frac{1}{8} & 0  \\\\\n",
       " \\end{bmatrix}\n",
       "$$"
      ],
      "text/plain": [
       "<IPython.core.display.Latex object>"
      ]
     },
     "metadata": {},
     "output_type": "display_data"
    },
    {
     "name": "stdout",
     "output_type": "stream",
     "text": [
      "\n"
     ]
    }
   ],
   "source": [
    "inverse_qc_yeast     = encode_bitstring(YEAST,     qr, cr, inverse=True)\n",
    "inverse_qc_protozoan = encode_bitstring(PROTOZOAN, qr, cr, inverse=True)\n",
    "inverse_qc_bacterial = encode_bitstring(BACTERIAL, qr, cr, inverse=True)\n",
    "\n",
    "inverse_circs = {\"YEAST\": inverse_qc_yeast, \"PROTOZOAN\": inverse_qc_protozoan, \"BACTERIAL\": inverse_qc_bacterial}"
   ]
  },
  {
   "cell_type": "markdown",
   "metadata": {
    "id": "2vQjppAo0Uj1"
   },
   "source": [
    "### Comparing bitsrings\n",
    "\n",
    "We can now compare how close the starts of the genetic codes of Protozoan to Yeast's and Bacterial's by performing the test."
   ]
  },
  {
   "cell_type": "code",
   "execution_count": 12,
   "metadata": {
    "executionInfo": {
     "elapsed": 47,
     "status": "ok",
     "timestamp": 1744388797986,
     "user": {
      "displayName": "GUSTAVO ADOLFO PATI�O ALVAREZ",
      "userId": "13728227204889328138"
     },
     "user_tz": 300
    },
    "id": "79Cyso55Gcy1"
   },
   "outputs": [],
   "source": [
    "key = \"PROTOZOAN\"       #the name of the code used as key to find similar ones"
   ]
  },
  {
   "cell_type": "code",
   "execution_count": 13,
   "metadata": {
    "executionInfo": {
     "elapsed": 3,
     "status": "ok",
     "timestamp": 1744388797992,
     "user": {
      "displayName": "GUSTAVO ADOLFO PATI�O ALVAREZ",
      "userId": "13728227204889328138"
     },
     "user_tz": 300
    },
    "id": "nYOfBcK-Gcy1"
   },
   "outputs": [],
   "source": [
    "# # use local simulator\n",
    "# backend = BasicAer.get_backend(\"qasm_simulator\")\n",
    "shots = 8192\n",
    "\n",
    "combined_circs = {}\n",
    "count = {}\n",
    "\n",
    "most_similar, most_similar_score = \"\", -1.0"
   ]
  },
  {
   "cell_type": "code",
   "execution_count": 14,
   "metadata": {
    "colab": {
     "base_uri": "https://localhost:8080/"
    },
    "executionInfo": {
     "elapsed": 262,
     "status": "ok",
     "timestamp": 1744388798256,
     "user": {
      "displayName": "GUSTAVO ADOLFO PATI�O ALVAREZ",
      "userId": "13728227204889328138"
     },
     "user_tz": 300
    },
    "id": "kUagK1j9Gcy2",
    "outputId": "0bd3c967-46bc-4f85-aac4-696f2e45bac1"
   },
   "outputs": [
    {
     "name": "stdout",
     "output_type": "stream",
     "text": [
      "Similarity score of PROTOZOAN and YEAST is 0.818603515625\n",
      "Similarity score of PROTOZOAN and BACTERIAL is 0.9671630859375\n",
      "[ANSWER] PROTOZOAN is most similar to BACTERIAL\n"
     ]
    }
   ],
   "source": [
    "for other_key in inverse_circs:\n",
    "    if other_key == key:\n",
    "        continue\n",
    "\n",
    "    combined_circs[other_key] = circs[key].compose(inverse_circs[other_key])   #combined circuits to look for similar codes\n",
    "\n",
    "    job = simulator.run(transpile(combined_circs[other_key], simulator), shots=shots)\n",
    "    # job.result().get_counts(qc)\n",
    "\n",
    "    # job = execute(combined_circs[other_key], backend=backend,shots=shots)\n",
    "    st = job.result().get_counts(combined_circs[other_key])\n",
    "\n",
    "    if \"0\"*n in st:\n",
    "        sim_score = st[\"0\"*n]/shots\n",
    "    else:\n",
    "        sim_score = 0.0\n",
    "\n",
    "    print(\"Similarity score of\",key,\"and\",other_key,\"is\",sim_score)\n",
    "    if most_similar_score < sim_score:\n",
    "        most_similar, most_similar_score = other_key, sim_score\n",
    "\n",
    "print(\"[ANSWER]\", key,\"is most similar to\", most_similar)"
   ]
  },
  {
   "cell_type": "markdown",
   "metadata": {
    "id": "4HKglXZu0Uj2"
   },
   "source": [
    "We observe that the test can be used to determine which code is closer: bacterial's is closer to protozoan's than yeast's.\n",
    "\n",
    "There are many other genetic codes listed at [bioinformatics.org](http://www.bioinformatics.org/sms2/genetic_code.html) which can be used as input strings. In general, DNA has four nucleotides: \"A\", \"C\", \"G\", and \"T\". Thus, instead of one qubit like in this notebook, two qubits are required to encode the nucleotides. However, the asymptotic amount of quantum bits for encoding the whole sequence of length $N$ is still in the order of $\\log{N}$, which is exponentially small."
   ]
  },
  {
   "cell_type": "markdown",
   "metadata": {
    "id": "e7g5BoAG0Uj3"
   },
   "source": [
    "## Deep Dive\n",
    "\n",
    "The technique of using circuit inversion to measure how close two quantum states has been used in many literature. For example, it is used for Quantum Kernel Estimation in [Havlicek et al., 2018](https://arxiv.org/pdf/1804.11326.pdf) for supervised learning. The idea of using quantum superposition to encode bistrings appeared in [Quantum Fingerprinting](https://arxiv.org/pdf/quant-ph/0102001.pdf) where a quantum exponential advantage is shown for a communication task of comparing two bitstrings.\n",
    "\n",
    "The intuition of why combining a circuit which creates a quantum state with another circuit which is the inverted circuit of creating another quantum state can be used to measure how close two quantum states is as follow.\n",
    "\n",
    "All operations (except measurements) in quantum computers are unitary and hence, distance preserving. This means if we apply the same operation (or, circuit) to two states that are similar, the resulting states will also be similar. All those operations are also reversible, that means, if we know a circuit $C$ to create a particular quantum state $|\\phi\\rangle$ from the all-zero state, we can also design the circuit $C'$ that transforms back the quantum state $|\\phi\\rangle$ to the all-zero state. Now, if we apply $C'$ to a quantum state $|\\psi\\rangle$ which is similar to $|\\phi\\rangle$, we will obtain a quantum state which is also similar to the all-zero state. The distance of the resulting state to the all-zero state is the same as the distance between  $|\\phi\\rangle$ and $|\\psi\\rangle$.\n",
    "\n",
    "\n",
    "We can notice that the similarity of two different quantum states can be very close to zero, and thus making difficult to find the discrepancies. However, we can use encoding techniques, such as, by [employing repetition code](https://arxiv.org/abs/1709.00990), to guarantee that different quantum states are separated far enough. In general, we can exploit error correcting codes, such as, [Justesen code](https://en.wikipedia.org/wiki/Justesen_code), or [locality-sensitive hashing](https://en.wikipedia.org/wiki/Locality-sensitive_hashing) to encode bitstrings efficiently."
   ]
  },
  {
   "cell_type": "code",
   "execution_count": 15,
   "metadata": {
    "colab": {
     "base_uri": "https://localhost:8080/"
    },
    "executionInfo": {
     "elapsed": 39,
     "status": "ok",
     "timestamp": 1744388798278,
     "user": {
      "displayName": "GUSTAVO ADOLFO PATI�O ALVAREZ",
      "userId": "13728227204889328138"
     },
     "user_tz": 300
    },
    "id": "iEGCiBNLGcy2",
    "outputId": "d321e80c-7bed-4ecc-dd47-7f1f7517043a"
   },
   "outputs": [
    {
     "name": "stdout",
     "output_type": "stream",
     "text": [
      "Qiskit Version: 1.3.2\n",
      "IBM RunTime Version: 0.35.0\n",
      "Python Version: 3.13.1\n",
      "2025 ©\n"
     ]
    }
   ],
   "source": [
    "from qiskit import __version__ as qiskit_version\n",
    "from qiskit_ibm_runtime import __version__ as runtime_version\n",
    "# from qiskit_aer import __version__ as aer_version\n",
    "from IPython.display import display, Math\n",
    "from platform import python_version\n",
    "\n",
    "print('Qiskit Version:', qiskit_version)\n",
    "print('IBM RunTime Version:', runtime_version)\n",
    "# print('Qiskit_Aer Version:', aer_version)\n",
    "print('Python Version:', python_version())\n",
    "print('2025 ©')"
   ]
  },
  {
   "cell_type": "code",
   "execution_count": 16,
   "metadata": {
    "executionInfo": {
     "elapsed": 2,
     "status": "ok",
     "timestamp": 1744388798282,
     "user": {
      "displayName": "GUSTAVO ADOLFO PATI�O ALVAREZ",
      "userId": "13728227204889328138"
     },
     "user_tz": 300
    },
    "id": "esPc386NQGQs"
   },
   "outputs": [],
   "source": [
    "from qiskit.circuit.library import iqp\n",
    "from qiskit.transpiler import generate_preset_pass_manager\n",
    "from qiskit.quantum_info import SparsePauliOp, random_hermitian\n",
    "from qiskit_ibm_runtime import QiskitRuntimeService, EstimatorV2 as Estimator\n",
    "\n",
    "from qiskit_ibm_runtime.fake_provider import *\n",
    "from qiskit_aer.primitives import EstimatorV2\n",
    "\n",
    "from functools import reduce"
   ]
  },
  {
   "cell_type": "code",
   "execution_count": 17,
   "metadata": {},
   "outputs": [],
   "source": [
    "# service = QiskitRuntimeService()\n",
    "# backend = service.least_busy(\n",
    "#     operational=True, simulator=False, min_num_qubits=n_qubits\n",
    "# )"
   ]
  },
  {
   "cell_type": "code",
   "execution_count": 18,
   "metadata": {},
   "outputs": [],
   "source": [
    "# backend = FakeGuadalupeV2()\n",
    "# backend.num_qubits"
   ]
  },
  {
   "cell_type": "code",
   "execution_count": 19,
   "metadata": {},
   "outputs": [],
   "source": [
    "n_qubits = n\n",
    "# n_qubits = backend.num_qubits"
   ]
  },
  {
   "cell_type": "code",
   "execution_count": 20,
   "metadata": {},
   "outputs": [],
   "source": [
    "sim_estimator = EstimatorV2()\n",
    "\n",
    "# estimator = Estimator(mode=backend)\n",
    "# estimator.options.default_shots = shots"
   ]
  },
  {
   "cell_type": "code",
   "execution_count": 21,
   "metadata": {},
   "outputs": [
    {
     "data": {
      "image/png": "[encoded data removed]",
      "text/plain": [
       "<Figure size 454.719x618.722 with 1 Axes>"
      ]
     },
     "execution_count": 21,
     "metadata": {},
     "output_type": "execute_result"
    }
   ],
   "source": [
    "mat = np.real(random_hermitian(n_qubits, seed=1234))\n",
    "circuit = iqp(mat)\n",
    "\n",
    "circuit.draw('mpl')"
   ]
  },
  {
   "cell_type": "code",
   "execution_count": 22,
   "metadata": {},
   "outputs": [],
   "source": [
    "# observable = SparsePauliOp(\"Z\" * n_qubits)\n",
    "operator = SparsePauliOp([\"I\", \"Z\"], coeffs = [0.5, 0.5])"
   ]
  },
  {
   "cell_type": "code",
   "execution_count": 23,
   "metadata": {},
   "outputs": [],
   "source": [
    "observable = reduce(lambda a, b: a ^ b, [operator] * n_qubits)  # Tensor product\n",
    "# observable = reduce(lambda a, b: a ^ b, [operator] * backend.num_qubits)  # Tensor product"
   ]
  },
  {
   "cell_type": "code",
   "execution_count": 24,
   "metadata": {},
   "outputs": [],
   "source": [
    "# pm = generate_preset_pass_manager(backend=backend, optimization_level=1)"
   ]
  },
  {
   "cell_type": "code",
   "execution_count": 25,
   "metadata": {},
   "outputs": [],
   "source": [
    "# isa_circuit = pm.run(circuit)\n",
    "# isa_circuit.draw('mpl')"
   ]
  },
  {
   "cell_type": "code",
   "execution_count": 26,
   "metadata": {},
   "outputs": [],
   "source": [
    "# isa_observable = observable.apply_layout(isa_circuit.layout)"
   ]
  },
  {
   "cell_type": "code",
   "execution_count": 27,
   "metadata": {},
   "outputs": [],
   "source": [
    "# job = estimator.run([(isa_circuit, isa_observable)])\n",
    "# result = job.result()"
   ]
  },
  {
   "cell_type": "code",
   "execution_count": 28,
   "metadata": {},
   "outputs": [],
   "source": [
    "# print(f\" > Expectation value: {result[0].data.evs}\")\n",
    "# print(f\" > Metadata: {result[0].metadata}\")"
   ]
  },
  {
   "cell_type": "code",
   "execution_count": 29,
   "metadata": {},
   "outputs": [],
   "source": [
    "combined_circs = {}\n",
    "count = {}\n",
    "\n",
    "most_similar, most_similar_score = \"\", -1.0"
   ]
  },
  {
   "cell_type": "code",
   "execution_count": 30,
   "metadata": {},
   "outputs": [
    {
     "name": "stdout",
     "output_type": "stream",
     "text": [
      "Similarity score of PROTOZOAN and YEAST is 0.8368464463495399\n",
      "Similarity score of PROTOZOAN and PROTOZOAN is 1.0035944009244824\n",
      "Similarity score of PROTOZOAN and BACTERIAL is 0.9613337231526677\n",
      "[ANSWER] PROTOZOAN is most similar to PROTOZOAN\n"
     ]
    }
   ],
   "source": [
    "for other_key in inverse_circs:\n",
    "    # if other_key == key:\n",
    "    #     continue\n",
    "\n",
    "    combined_circs[other_key] = circs[key].compose(inverse_circs[other_key])   #combined circuits to look for similar codes\n",
    "\n",
    "    # isa_circuit = pm.run(combined_circs[other_key])\n",
    "    # display(isa_circuit.draw('mpl'))\n",
    "    \n",
    "    # isa_observable = observable.apply_layout(isa_circuit.layout)\n",
    "    # job = estimator.run([(isa_circuit, isa_observable)], precision= 0.01)\n",
    "\n",
    "    psi1 = transpile(combined_circs[other_key], simulator)\n",
    "    # psi1 = transpile(combined_circs[other_key], backend)\n",
    "\n",
    "    job = sim_estimator.run([(psi1, observable)], precision=0.01)\n",
    "    # job = estimator.run([(psi1, observable)], precision=0.01)\n",
    "\n",
    "    result = job.result()\n",
    "\n",
    "    sim_score = result[0].data.evs\n",
    "    # print(f\" > Expectation value: {sim_score}\")\n",
    "\n",
    "    # job = simulator.run(transpile(combined_circs[other_key], simulator), shots=shots)\n",
    "    # job.result().get_counts(qc)\n",
    "\n",
    "    # job = execute(combined_circs[other_key], backend=backend,shots=shots)\n",
    "    # st = job.result().get_counts(combined_circs[other_key])\n",
    "\n",
    "    # if \"0\"*n in st:\n",
    "    #     sim_score = st[\"0\"*n]/shots\n",
    "    # else:\n",
    "    #     sim_score = 0.0\n",
    "\n",
    "    print(\"Similarity score of\",key,\"and\",other_key,\"is\",sim_score)\n",
    "    if most_similar_score < sim_score:\n",
    "        most_similar, most_similar_score = other_key, sim_score\n",
    "\n",
    "print(\"[ANSWER]\", key,\"is most similar to\", most_similar)"
   ]
  },
  {
   "cell_type": "markdown",
   "metadata": {},
   "source": [
    "Similarity score of PROTOZOAN and YEAST is 0.8177490234375\n",
    "\n",
    "Similarity score of PROTOZOAN and BACTERIAL is 0.9676513671875\n",
    "\n",
    "[ANSWER] PROTOZOAN is most similar to BACTERIAL"
   ]
  },
  {
   "cell_type": "markdown",
   "metadata": {},
   "source": []
  }
 ],
 "metadata": {
  "colab": {
   "provenance": []
  },
  "kernelspec": {
   "display_name": "MyQiskit2025-V1",
   "language": "python",
   "name": "python3"
  },
  "language_info": {
   "codemirror_mode": {
    "name": "ipython",
    "version": 3
   },
   "file_extension": ".py",
   "mimetype": "text/x-python",
   "name": "python",
   "nbconvert_exporter": "python",
   "pygments_lexer": "ipython3",
   "version": "3.13.1"
  },
  "toc": {
   "colors": {
    "hover_highlight": "#DAA520",
    "running_highlight": "#FF0000",
    "selected_highlight": "#FFD700"
   },
   "moveMenuLeft": true,
   "nav_menu": {
    "height": "48px",
    "width": "252px"
   },
   "navigate_menu": true,
   "number_sections": true,
   "sideBar": true,
   "threshold": 4,
   "toc_cell": false,
   "toc_section_display": "block",
   "toc_window_display": false
  }
 },
 "nbformat": 4,
 "nbformat_minor": 0
}
