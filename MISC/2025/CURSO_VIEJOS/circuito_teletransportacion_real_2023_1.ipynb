{
 "cells": [
  {
   "cell_type": "code",
   "execution_count": 1,
   "metadata": {},
   "outputs": [],
   "source": [
    "#***********************************************************************************************#\n",
    "# Implementación del circuito de Teletransportación Cuántica en la plataforma Qiskit de IBM.\n",
    "#***********************************************************************************************#\n",
    "\n",
    "#***********************************************************************************************#\n",
    "# Para esta implementación se ha tenido en cuenta la descripción del circuito dada en el siguiente \n",
    "# tutorial del libro de Qiskit:\n",
    "# https://qiskit.org/textbook/ch-algorithms/teleportation.html\n",
    "\n",
    "# Además se han tomando instrucciones e ideas del tutorial de la comunidad de desarrolladores de Qiskit disponible en:\n",
    "# https://github.com/Qiskit/qiskit-community-tutorials/blob/master/terra/qis_intro/teleportation_superdensecoding.ipynb\n",
    "#***********************************************************************************************#\n",
    "\n",
    "#***********************************************************************************************#\n",
    "# Curso de Computación Cuántica\n",
    "# Prof. Gustavo Patino\n",
    "# Departamento de Ingeniería Electrónica y Telecomunicaciones\n",
    "# Facultad de Ingeniería\n",
    "# Universidad de Antioquia\n",
    "# Medellin, 2020-2023\n",
    "#***********************************************************************************************#"
   ]
  },
  {
   "cell_type": "code",
   "execution_count": 2,
   "metadata": {},
   "outputs": [],
   "source": [
    "# Ejecución en un Computador Cuántico real"
   ]
  },
  {
   "cell_type": "code",
   "execution_count": 3,
   "metadata": {},
   "outputs": [],
   "source": [
    "import numpy as np\n",
    "from qiskit import QuantumCircuit, QuantumRegister, ClassicalRegister, execute, Aer, IBMQ\n",
    "from qiskit.visualization import plot_histogram, plot_bloch_multivector"
   ]
  },
  {
   "cell_type": "code",
   "execution_count": 4,
   "metadata": {},
   "outputs": [],
   "source": [
    "from qiskit_textbook.tools import random_state, vector2latex\n",
    "from qiskit.extensions import Initialize"
   ]
  },
  {
   "cell_type": "code",
   "execution_count": 5,
   "metadata": {},
   "outputs": [],
   "source": [
    "from qiskit_ibm_provider import IBMProvider, least_busy\n",
    "from qiskit.tools.monitor import job_monitor"
   ]
  },
  {
   "cell_type": "code",
   "execution_count": 6,
   "metadata": {
    "slideshow": {
     "slide_type": "-"
    }
   },
   "outputs": [],
   "source": [
    "# Descomente la siguiente linea si desea ver las imágenes más grandes.\n",
    "# %config InlineBackend.figure_format = 'svg' # Makes the images look nice"
   ]
  },
  {
   "cell_type": "code",
   "execution_count": 7,
   "metadata": {},
   "outputs": [],
   "source": [
    "# Definición de funciones para implementar las diversas etapas del circuito de teletransportación cuántica"
   ]
  },
  {
   "cell_type": "code",
   "execution_count": 8,
   "metadata": {},
   "outputs": [],
   "source": [
    "def crear_estado_bell00(qc, a, b):\n",
    "    qc.h(a)\n",
    "    qc.cx(a,b)"
   ]
  },
  {
   "cell_type": "code",
   "execution_count": 9,
   "metadata": {},
   "outputs": [],
   "source": [
    "def alice_circuit(qc, q2send, beta0):\n",
    "    qc.cx(q2send, beta0)\n",
    "    qc.h(q2send)"
   ]
  },
  {
   "cell_type": "code",
   "execution_count": 10,
   "metadata": {},
   "outputs": [],
   "source": [
    "def alice_mide(qc, a, b):\n",
    "    qc.barrier()\n",
    "    qc.measure(a, 0)\n",
    "    qc.measure(b, 1)\n",
    "    qc.barrier()\n",
    "    qc.barrier()"
   ]
  },
  {
   "cell_type": "code",
   "execution_count": 11,
   "metadata": {},
   "outputs": [],
   "source": [
    "# def bob_circuit(qc, beta1, m1, m2):\n",
    "#     qc.z(beta1).c_if(m1, 1)\n",
    "#     qc.x(beta1).c_if(m2, 1)"
   ]
  },
  {
   "cell_type": "code",
   "execution_count": 12,
   "metadata": {},
   "outputs": [],
   "source": [
    "def bob_circuit(qc, q0, q1, beta1):\n",
    "    qc.cz(q0, beta1)\n",
    "    qc.cx(q1, beta1)"
   ]
  },
  {
   "cell_type": "code",
   "execution_count": 13,
   "metadata": {},
   "outputs": [],
   "source": [
    "# Definición del circuito de teletransportación cuántica sin medidas de Alice"
   ]
  },
  {
   "cell_type": "code",
   "execution_count": 14,
   "metadata": {},
   "outputs": [
    {
     "data": {
      "text/latex": [
       "$\\displaystyle \n",
       "$$ |\\psi\\rangle =\\begin{bmatrix}\n",
       "-0.04763+0.69661j \\\\\n",
       "-0.68387-0.21161j\\end{bmatrix} $"
      ],
      "text/plain": [
       "<IPython.core.display.Math object>"
      ]
     },
     "metadata": {},
     "output_type": "display_data"
    },
    {
     "data": {
      "text/plain": [
       "<qiskit.circuit.instructionset.InstructionSet at 0x7f3d9b295c30>"
      ]
     },
     "execution_count": 14,
     "metadata": {},
     "output_type": "execute_result"
    }
   ],
   "source": [
    "qr = QuantumRegister(3)\n",
    "crz = ClassicalRegister(1)\n",
    "crx = ClassicalRegister(1)\n",
    "crbob = ClassicalRegister(1)\n",
    "\n",
    "teleport_cir_real = QuantumCircuit(qr, crz, crx, crbob)\n",
    "\n",
    "qrandom = random_state(1)\n",
    "vector2latex(qrandom, pretext=\"|\\\\psi\\\\rangle =\")\n",
    "\n",
    "init_gate =Initialize(qrandom)\n",
    "\n",
    "teleport_cir_real.append(init_gate, [0])\n",
    "teleport_cir_real.barrier()\n",
    "\n",
    "crear_estado_bell00(teleport_cir_real, qr[1], qr[2])\n",
    "teleport_cir_real.barrier()\n",
    "\n",
    "alice_circuit(teleport_cir_real, qr[0], qr[1])\n",
    "teleport_cir_real.barrier()\n",
    "\n",
    "bob_circuit(teleport_cir_real, qr[0], qr[1], qr[2])\n",
    "teleport_cir_real.barrier()\n",
    "teleport_cir_real.measure(qr[0], crz)\n",
    "teleport_cir_real.measure(qr[1], crx)\n",
    "teleport_cir_real.measure(qr[2], crbob)"
   ]
  },
  {
   "cell_type": "code",
   "execution_count": 15,
   "metadata": {},
   "outputs": [
    {
     "data": {
      "image/png": "[encoded data removed]",
      "text/plain": [
       "<Figure size 1559.69x535.111 with 1 Axes>"
      ]
     },
     "execution_count": 15,
     "metadata": {},
     "output_type": "execute_result"
    }
   ],
   "source": [
    "teleport_cir_real.draw('mpl')"
   ]
  },
  {
   "cell_type": "code",
   "execution_count": 16,
   "metadata": {},
   "outputs": [],
   "source": [
    "local_backend = Aer.get_backend('qasm_simulator') # note that this circuit can not be run on an IBM Q device\n",
    "teleport_job = execute(teleport_cir_real, local_backend, shots=1024) \n",
    "teleport_result = teleport_job.result()"
   ]
  },
  {
   "cell_type": "code",
   "execution_count": 17,
   "metadata": {},
   "outputs": [
    {
     "data": {
      "image/png": "[encoded data removed]",
      "text/plain": [
       "<Figure size 700x500 with 1 Axes>"
      ]
     },
     "execution_count": 17,
     "metadata": {},
     "output_type": "execute_result"
    }
   ],
   "source": [
    "data = teleport_result.get_counts(teleport_cir_real)\n",
    "alice = {}\n",
    "alice['00'] = data['0 0 0'] + data['1 0 0']\n",
    "alice['10'] = data['0 1 0'] + data['1 1 0']\n",
    "alice['01'] = data['0 0 1'] + data['1 0 1']\n",
    "alice['11'] = data['0 1 1'] + data['1 1 1']\n",
    "plot_histogram(alice)"
   ]
  },
  {
   "cell_type": "code",
   "execution_count": 18,
   "metadata": {},
   "outputs": [
    {
     "data": {
      "image/png": "[encoded data removed]",
      "text/plain": [
       "<Figure size 700x500 with 1 Axes>"
      ]
     },
     "execution_count": 18,
     "metadata": {},
     "output_type": "execute_result"
    }
   ],
   "source": [
    "bob = {}\n",
    "bob['0'] = data['0 0 0'] + data['0 1 0'] +  data['0 0 1'] + data['0 1 1']\n",
    "bob['1'] = data['1 0 0'] + data['1 1 0'] +  data['1 0 1'] + data['1 1 1']\n",
    "plot_histogram(bob)"
   ]
  },
  {
   "cell_type": "code",
   "execution_count": 19,
   "metadata": {},
   "outputs": [],
   "source": [
    "provider = IBMProvider(instance=\"ibm-q-education/uni-antioquia-2/quantum-alg\")"
   ]
  },
  {
   "cell_type": "code",
   "execution_count": 20,
   "metadata": {},
   "outputs": [
    {
     "name": "stdout",
     "output_type": "stream",
     "text": [
      "El procesador cuántico menos ocupado es el ibm_lagos\n"
     ]
    }
   ],
   "source": [
    "remote_backend = least_busy(provider.backends(filters=lambda procesador_cuantico: procesador_cuantico.configuration().n_qubits >= 3 \n",
    "                                       and not procesador_cuantico.configuration().simulator \n",
    "                                       and procesador_cuantico.status().operational==True))\n",
    "print(\"El procesador cuántico menos ocupado es el \" + remote_backend.name)"
   ]
  },
  {
   "cell_type": "code",
   "execution_count": 21,
   "metadata": {},
   "outputs": [
    {
     "name": "stdout",
     "output_type": "stream",
     "text": [
      "Job Status: job has successfully run\n"
     ]
    }
   ],
   "source": [
    "job_exp = execute(teleport_cir_real, remote_backend, shots=8192)\n",
    "job_monitor(job_exp)"
   ]
  },
  {
   "cell_type": "code",
   "execution_count": 22,
   "metadata": {},
   "outputs": [],
   "source": [
    "job_exp_result = job_exp.result()"
   ]
  },
  {
   "cell_type": "code",
   "execution_count": 23,
   "metadata": {},
   "outputs": [
    {
     "data": {
      "image/png": "[encoded data removed]",
      "text/plain": [
       "<Figure size 700x500 with 1 Axes>"
      ]
     },
     "execution_count": 23,
     "metadata": {},
     "output_type": "execute_result"
    }
   ],
   "source": [
    "data = job_exp_result.get_counts(teleport_cir_real)\n",
    "alice_real = {}\n",
    "alice_real['00'] = data['0 0 0'] + data['1 0 0']\n",
    "alice_real['10'] = data['0 1 0'] + data['1 1 0']\n",
    "alice_real['01'] = data['0 0 1'] + data['1 0 1']\n",
    "alice_real['11'] = data['0 1 1'] + data['1 1 1']\n",
    "plot_histogram(alice_real)"
   ]
  },
  {
   "cell_type": "code",
   "execution_count": 24,
   "metadata": {},
   "outputs": [
    {
     "data": {
      "image/png": "[encoded data removed]",
      "text/plain": [
       "<Figure size 700x500 with 1 Axes>"
      ]
     },
     "execution_count": 24,
     "metadata": {},
     "output_type": "execute_result"
    }
   ],
   "source": [
    "bob_real = {}\n",
    "bob_real['0'] = data['0 0 0'] + data['0 1 0'] +  data['0 0 1'] + data['0 1 1']\n",
    "bob_real['1'] = data['1 0 0'] + data['1 1 0'] +  data['1 0 1'] + data['1 1 1']\n",
    "plot_histogram(bob_real)"
   ]
  },
  {
   "cell_type": "code",
   "execution_count": 25,
   "metadata": {},
   "outputs": [
    {
     "name": "stdout",
     "output_type": "stream",
     "text": [
      "0.5244140625\n",
      "0.5457763671875\n",
      "La tasa de error experimental fue del:  4.073556797020484 %\n"
     ]
    }
   ],
   "source": [
    "bob_sim_1 = sum([bob[result] for result in bob.keys() if result[0]=='1'])/sum(list(bob.values()))\n",
    "print(bob_sim_1)\n",
    "\n",
    "bob_real_1 = sum([bob_real[result] for result in bob_real.keys() if result[0]=='1'])/sum(list(bob_real.values()))\n",
    "print(bob_real_1)\n",
    "\n",
    "error_rate_percent =(abs(bob_real_1 - bob_sim_1)/bob_sim_1)*100\n",
    "print(\"La tasa de error experimental fue del: \", error_rate_percent, \"%\")"
   ]
  },
  {
   "cell_type": "code",
   "execution_count": 26,
   "metadata": {
    "tags": []
   },
   "outputs": [
    {
     "data": {
      "text/html": [
       "<h3>Version Information</h3><table><tr><th>Qiskit Software</th><th>Version</th></tr><tr><td><code>qiskit-terra</code></td><td>0.23.3</td></tr><tr><td><code>qiskit-aer</code></td><td>0.12.0</td></tr><tr><td><code>qiskit-ibmq-provider</code></td><td>0.20.2</td></tr><tr><td><code>qiskit</code></td><td>0.42.1</td></tr><tr><td><code>qiskit-nature</code></td><td>0.5.2</td></tr><tr><td><code>qiskit-finance</code></td><td>0.3.4</td></tr><tr><td><code>qiskit-optimization</code></td><td>0.5.0</td></tr><tr><td><code>qiskit-machine-learning</code></td><td>0.5.0</td></tr><tr><th>System information</th></tr><tr><td>Python version</td><td>3.10.8</td></tr><tr><td>Python compiler</td><td>GCC 10.4.0</td></tr><tr><td>Python build</td><td>main, Nov 22 2022 08:26:04</td></tr><tr><td>OS</td><td>Linux</td></tr><tr><td>CPUs</td><td>8</td></tr><tr><td>Memory (Gb)</td><td>31.211318969726562</td></tr><tr><td colspan='2'>Fri Apr 14 02:52:38 2023 UTC</td></tr></table>"
      ],
      "text/plain": [
       "<IPython.core.display.HTML object>"
      ]
     },
     "metadata": {},
     "output_type": "display_data"
    },
    {
     "data": {
      "text/html": [
       "<div style='width: 100%; background-color:#d5d9e0;padding-left: 10px; padding-bottom: 10px; padding-right: 10px; padding-top: 5px'><h3>This code is a part of Qiskit</h3><p>&copy; Copyright IBM 2017, 2023.</p><p>This code is licensed under the Apache License, Version 2.0. You may<br>obtain a copy of this license in the LICENSE.txt file in the root directory<br> of this source tree or at http://www.apache.org/licenses/LICENSE-2.0.<p>Any modifications or derivative works of this code must retain this<br>copyright notice, and modified files need to carry a notice indicating<br>that they have been altered from the originals.</p></div>"
      ],
      "text/plain": [
       "<IPython.core.display.HTML object>"
      ]
     },
     "metadata": {},
     "output_type": "display_data"
    }
   ],
   "source": [
    "import qiskit.tools.jupyter\n",
    "%qiskit_version_table\n",
    "%qiskit_copyright"
   ]
  }
 ],
 "metadata": {
  "kernelspec": {
   "display_name": "Python 3 (ipykernel)",
   "language": "python",
   "name": "python3"
  },
  "language_info": {
   "codemirror_mode": {
    "name": "ipython",
    "version": 3
   },
   "file_extension": ".py",
   "mimetype": "text/x-python",
   "name": "python",
   "nbconvert_exporter": "python",
   "pygments_lexer": "ipython3",
   "version": "3.10.8"
  },
  "widgets": {
   "application/vnd.jupyter.widget-state+json": {
    "state": {
     "08bed8705ebf4d5fb1cc055de0334166": {
      "model_module": "@jupyter-widgets/base",
      "model_module_version": "2.0.0",
      "model_name": "LayoutModel",
      "state": {
       "width": "145px"
      }
     },
     "11b70a15679f424eb9371d42cc5f7b6a": {
      "model_module": "@jupyter-widgets/base",
      "model_module_version": "2.0.0",
      "model_name": "LayoutModel",
      "state": {
       "width": "190px"
      }
     },
     "29db68d5747c446980ba081beb7d2f2b": {
      "model_module": "@jupyter-widgets/controls",
      "model_module_version": "2.0.0",
      "model_name": "ButtonStyleModel",
      "state": {
       "font_family": null,
       "font_size": null,
       "font_style": null,
       "font_variant": null,
       "font_weight": null,
       "text_color": null,
       "text_decoration": null
      }
     },
     "2e66595f788a4ba58f105a36dc6609d2": {
      "model_module": "@jupyter-widgets/controls",
      "model_module_version": "2.0.0",
      "model_name": "HTMLStyleModel",
      "state": {
       "description_width": "",
       "font_size": null,
       "text_color": null
      }
     },
     "3509a8ee0a3047e2a8abaac0c632bb3b": {
      "model_module": "@jupyter-widgets/controls",
      "model_module_version": "2.0.0",
      "model_name": "HTMLStyleModel",
      "state": {
       "description_width": "",
       "font_size": null,
       "text_color": null
      }
     },
     "37a0579a132142c3ad62f7dd1a94cf91": {
      "model_module": "@jupyter-widgets/base",
      "model_module_version": "2.0.0",
      "model_name": "LayoutModel",
      "state": {
       "margin": "0px 0px 0px 37px",
       "width": "600px"
      }
     },
     "390f6403dcf74fd4991aa1bce621e507": {
      "model_module": "@jupyter-widgets/controls",
      "model_module_version": "2.0.0",
      "model_name": "HTMLStyleModel",
      "state": {
       "description_width": "",
       "font_size": null,
       "text_color": null
      }
     },
     "3fb8f114ca0f4f46b8297c88761b2b9f": {
      "model_module": "@jupyter-widgets/controls",
      "model_module_version": "2.0.0",
      "model_name": "HTMLModel",
      "state": {
       "layout": "IPY_MODEL_95e391b723eb4d71b83df26b20ce5e78",
       "style": "IPY_MODEL_3509a8ee0a3047e2a8abaac0c632bb3b",
       "value": "<p style='font-family: IBM Plex Sans, Arial, Helvetica, sans-serif; font-size: 20px; font-weight: medium;'>Circuit Properties</p>"
      }
     },
     "5ca3cfc332724e2c92f621d313514823": {
      "model_module": "@jupyter-widgets/controls",
      "model_module_version": "2.0.0",
      "model_name": "GridBoxModel",
      "state": {
       "children": [
        "IPY_MODEL_ff97c251419945ba9f32737bff48445e"
       ],
       "layout": "IPY_MODEL_f6edb21fbcfd43e584ad397d5edfebcd"
      }
     },
     "687f266a23da429c9e54fb4a8806520f": {
      "model_module": "@jupyter-widgets/controls",
      "model_module_version": "2.0.0",
      "model_name": "HTMLModel",
      "state": {
       "layout": "IPY_MODEL_11b70a15679f424eb9371d42cc5f7b6a",
       "style": "IPY_MODEL_7c305346cc2d497f80be841deaff8e3b",
       "value": "<h5>Job ID</h5>"
      }
     },
     "71f696cb438d4da388fc624ff069e9d8": {
      "model_module": "@jupyter-widgets/controls",
      "model_module_version": "2.0.0",
      "model_name": "HTMLModel",
      "state": {
       "layout": "IPY_MODEL_a55ef5513db6432cb59fa2bec3ab7756",
       "style": "IPY_MODEL_390f6403dcf74fd4991aa1bce621e507",
       "value": "<h5>Queue</h5>"
      }
     },
     "7c305346cc2d497f80be841deaff8e3b": {
      "model_module": "@jupyter-widgets/controls",
      "model_module_version": "2.0.0",
      "model_name": "HTMLStyleModel",
      "state": {
       "description_width": "",
       "font_size": null,
       "text_color": null
      }
     },
     "7e3469a5f5bf45bc9962122262fff508": {
      "model_module": "@jupyter-widgets/base",
      "model_module_version": "2.0.0",
      "model_name": "LayoutModel",
      "state": {}
     },
     "8def50aa1b434d24b4bb26aeed86248c": {
      "model_module": "@jupyter-widgets/controls",
      "model_module_version": "2.0.0",
      "model_name": "HBoxModel",
      "state": {
       "children": [
        "IPY_MODEL_687f266a23da429c9e54fb4a8806520f",
        "IPY_MODEL_e61686e0086844b6873d6f908216df2b",
        "IPY_MODEL_a57540d78c194b54b13fd62980e65bf4",
        "IPY_MODEL_71f696cb438d4da388fc624ff069e9d8",
        "IPY_MODEL_caaafbdc28d1429fb216967780c33245"
       ],
       "layout": "IPY_MODEL_37a0579a132142c3ad62f7dd1a94cf91"
      }
     },
     "92b588da70d544ed916515072a6fa315": {
      "model_module": "@jupyter-widgets/controls",
      "model_module_version": "2.0.0",
      "model_name": "HTMLStyleModel",
      "state": {
       "description_width": "",
       "font_size": null,
       "text_color": null
      }
     },
     "95e391b723eb4d71b83df26b20ce5e78": {
      "model_module": "@jupyter-widgets/base",
      "model_module_version": "2.0.0",
      "model_name": "LayoutModel",
      "state": {
       "margin": "0px 0px 10px 0px"
      }
     },
     "a0d8129863c14a1ebc6383105c0d1409": {
      "model_module": "@jupyter-widgets/controls",
      "model_module_version": "2.0.0",
      "model_name": "HTMLStyleModel",
      "state": {
       "description_width": "",
       "font_size": null,
       "text_color": null
      }
     },
     "a34fcd1157d14e53844f53a869d98c31": {
      "model_module": "@jupyter-widgets/base",
      "model_module_version": "2.0.0",
      "model_name": "LayoutModel",
      "state": {
       "width": "95px"
      }
     },
     "a55ef5513db6432cb59fa2bec3ab7756": {
      "model_module": "@jupyter-widgets/base",
      "model_module_version": "2.0.0",
      "model_name": "LayoutModel",
      "state": {
       "width": "70px"
      }
     },
     "a57540d78c194b54b13fd62980e65bf4": {
      "model_module": "@jupyter-widgets/controls",
      "model_module_version": "2.0.0",
      "model_name": "HTMLModel",
      "state": {
       "layout": "IPY_MODEL_a34fcd1157d14e53844f53a869d98c31",
       "style": "IPY_MODEL_92b588da70d544ed916515072a6fa315",
       "value": "<h5>Status</h5>"
      }
     },
     "b52d94accf0949f99bc6416d11dcf374": {
      "model_module": "@jupyter-widgets/base",
      "model_module_version": "2.0.0",
      "model_name": "LayoutModel",
      "state": {
       "grid_area": "right",
       "padding": "0px 0px 0px 0px",
       "width": "70px"
      }
     },
     "caaafbdc28d1429fb216967780c33245": {
      "model_module": "@jupyter-widgets/controls",
      "model_module_version": "2.0.0",
      "model_name": "HTMLModel",
      "state": {
       "layout": "IPY_MODEL_7e3469a5f5bf45bc9962122262fff508",
       "style": "IPY_MODEL_a0d8129863c14a1ebc6383105c0d1409",
       "value": "<h5>Message</h5>"
      }
     },
     "e61686e0086844b6873d6f908216df2b": {
      "model_module": "@jupyter-widgets/controls",
      "model_module_version": "2.0.0",
      "model_name": "HTMLModel",
      "state": {
       "layout": "IPY_MODEL_08bed8705ebf4d5fb1cc055de0334166",
       "style": "IPY_MODEL_2e66595f788a4ba58f105a36dc6609d2",
       "value": "<h5>Backend</h5>"
      }
     },
     "f6edb21fbcfd43e584ad397d5edfebcd": {
      "model_module": "@jupyter-widgets/base",
      "model_module_version": "2.0.0",
      "model_name": "LayoutModel",
      "state": {
       "grid_template_areas": "\n                                       \". . . . right \"\n                                        ",
       "grid_template_columns": "20% 20% 20% 20% 20%",
       "width": "100%"
      }
     },
     "ff97c251419945ba9f32737bff48445e": {
      "model_module": "@jupyter-widgets/controls",
      "model_module_version": "2.0.0",
      "model_name": "ButtonModel",
      "state": {
       "button_style": "primary",
       "description": "Clear",
       "layout": "IPY_MODEL_b52d94accf0949f99bc6416d11dcf374",
       "style": "IPY_MODEL_29db68d5747c446980ba081beb7d2f2b",
       "tooltip": null
      }
     }
    },
    "version_major": 2,
    "version_minor": 0
   }
  }
 },
 "nbformat": 4,
 "nbformat_minor": 4
}
