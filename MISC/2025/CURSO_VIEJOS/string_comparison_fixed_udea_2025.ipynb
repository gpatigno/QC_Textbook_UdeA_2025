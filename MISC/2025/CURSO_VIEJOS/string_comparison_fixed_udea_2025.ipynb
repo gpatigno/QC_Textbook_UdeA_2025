{
 "cells": [
  {
   "cell_type": "markdown",
   "metadata": {
    "id": "Su_wIgHR0Ujk"
   },
   "source": [
    "## _*Comparing Strings with Quantum Superpositon*_ \n",
    "\n",
    "The latest version of this notebook is available on \n",
    "\n",
    "https://github.com/qiskit-community/qiskit-community-tutorials/blob/master/hello_world/string_comparison.ipynb\n",
    "\n",
    "For more information about how to use the IBM Q Experience (QX), consult the [tutorials](https://quantum-computing.ibm.com/lab/docs/iql/tutorials-overview), or check out the [community](https://research.ibm.com/topics/quantum-community).\n",
    "\n",
    "### Contributors\n",
    "Rudy Raymond"
   ]
  },
  {
   "cell_type": "markdown",
   "metadata": {},
   "source": [
    "## _*Código modificado en la UdeA, Medellín, Colombia*_ \n",
    " El presente código tiene múltiples cambios debido a errores presentados en la versión original de este código, especificamente en la operación de inversión de compuertas inicializadas con amplitudes complejas numéricas. Este error fue originado por una actualización en las *Class Instruction* y *Class Initialize* de la plataforma Qiskit Terra.\n",
    "\n",
    "### Gustavo Patino\n",
    "Facultad de Ingeniería\n",
    "\n",
    "Universidad de Antioquia\n",
    "\n",
    "Medellin, Colombia. 2020 - 2025"
   ]
  },
  {
   "cell_type": "markdown",
   "metadata": {
    "id": "Gs3r0B6U0Ujn"
   },
   "source": [
    "## Motivation\n",
    "\n",
    "If we can use quantum states to represent genetic codes, we may be able to compare them, and/or find similar genetic codes quickly. \n",
    "\n",
    "For example, according to [this site](http://www.bioinformatics.org/sms2/genetic_code.html) the starts of the genetic codes for the Yeast Mitochondrial, Protozoan Mitochondrial, and Bacterial Code are respectively as follow. "
   ]
  },
  {
   "cell_type": "code",
   "execution_count": 168,
   "metadata": {
    "ExecuteTime": {
     "end_time": "2018-09-25T16:52:52.597525Z",
     "start_time": "2018-09-25T16:52:52.593598Z"
    },
    "id": "3alSdf660Ujo"
   },
   "outputs": [],
   "source": [
    "YEAST     = \"----------------------------------MM----------------------------\"\n",
    "PROTOZOAN = \"--MM---------------M------------MMMM---------------M------------\"\n",
    "BACTERIAL = \"---M---------------M------------MMMM---------------M------------\""
   ]
  },
  {
   "cell_type": "markdown",
   "metadata": {
    "id": "uWwKtoBV0Ujp"
   },
   "source": [
    "Notice that each of the codes is represented by a bitstring of length 64. By comparing characters at the same position in the strings, we can see that Protozoan's is closer to Bacterial's than Yeast's. \n",
    "\n",
    "Exploiting quantum superposition, we can create quantum states by using only 7 qubits such that each of the quantum states corresponds to the genetic code of Yeast, Protozoan, and Bacterial. We then compare the closeness of their genetic codes by comparing their quantum states, which is made possible by the reversibility of quantum circuit.\n",
    "\n",
    "The reversibility of quantum circuit to test the similarity of quantum states works as follow. Assume that we can create a quantum superposition starting from all-zero states by a quantum circuit. Then by inverting the same quantum circuit and we give it the same quantum superposition as input, we will get exactly all-zero bits as the output. Now, when we give a similar quantum superposition as input to the inverted circuit, we can still get all-zero bits as the output with probability proportional to the similarity of the quantum states: the more similar, the more we observe all-zero bits. \n",
    "\n",
    "Thus, to decide which code (*Yeast's* *or* *Bacterial's*) is the most similar to the Protozoan, we can do the following:\n",
    "\n",
    "1. We first prepare the quantum state that encodes the Protozoan's\n",
    "2. We then use the quantum state as inputs to the inverted circuits that each prepare the quantum state of Yeast's and Bacterial's. Run and measure the circuits\n",
    "3. Output the name of the inverted circuit whose measurements result in more frequent measurements of all-zero bits. \n",
    "\n",
    "\n",
    "## Quantum Superposition for Bitstrings\n",
    "\n",
    "A qubit can be in a superposition of two basis states: \"0\" and \"1\" at the same time. Going further, two qubits can be in a superposition of four basis states: \"00\", \"01\", \"10\", and \"11\". In general, $n$ qubits can be in a superposition of $2^n$ (exponential in the number of qubits!) basis states. \n",
    "\n",
    "Here, we show a simple example to create quantum superpositon for bitstrings and use them to compare the similarity between two bitstrings. This tutorial makes use the [quantum state initialization function](https://nbviewer.jupyter.org/github/QISKit/qiskit-tutorial/blob/master/reference/tools/quantum_gates_and_linear_algebra.ipynb#Arbitrary-initialization) and **circuit inversion**. It also illustrates the power of loading data into quantum states. "
   ]
  },
  {
   "cell_type": "markdown",
   "metadata": {
    "id": "mxWLy9f10Ujr"
   },
   "source": [
    "## Comparing bitstrings of length 64 with 7 qubits\n",
    "\n",
    "Let say we have three genetic codes as above.\n",
    "\n",
    "```\n",
    "YEAST     = \"----------------------------------MM----------------------------\"\n",
    "PROTOZOAN = \"--MM---------------M------------MMMM---------------M------------\"\n",
    "BACTERIAL = \"---M---------------M------------MMMM---------------M------------\"\n",
    "```\n",
    "\n",
    "Let use 7 qubits to encode the above codes: the first 6 qubits for indexing the location in the code (because we have 64 positions that we number from 0 to 63), and the last qubit for the content of the code (we use \"0\" for \"-\" and \"1\" for \"M\"). Thus, numbering the position of the code from left to right, we can create quantum states for each of the code as below: \n",
    "\n",
    "\\begin{align}\n",
    "|YEAST \\rangle &=& \\frac{1}{8} \\left( |000000\\rangle |0\\rangle +  |000001\\rangle |0\\rangle  + |000010\\rangle |0\\rangle + |000011\\rangle |0\\rangle + \\ldots \\right) \\\\\n",
    "|PROTOZOAN \\rangle &=& \\frac{1}{8} \\left( |000000\\rangle |0\\rangle +  |000001\\rangle |0\\rangle + |000010\\rangle |1\\rangle + |000011\\rangle |1\\rangle + \\ldots \\right) \\\\\n",
    "|BACTERIAL \\rangle &=& \\frac{1}{8} \\left( |000000\\rangle |0\\rangle +  |000001\\rangle |0\\rangle + |000010\\rangle |0\\rangle + |000011\\rangle |1\\rangle + \\ldots \\right)\n",
    "\\end{align}\n",
    "\n",
    "The first four codes of Yeast's are all \"-\", and therefore at the above all of the second registers of the corresponding state are \"0\". And so on. \n",
    "\n",
    "### Creating quantum superposition for genetic codes\n",
    "\n",
    "Below is the python function to create a quantum superposition for a given genetic code as above. "
   ]
  },
  {
   "cell_type": "code",
   "execution_count": 169,
   "metadata": {
    "ExecuteTime": {
     "end_time": "2018-09-25T16:52:53.178637Z",
     "start_time": "2018-09-25T16:52:53.170526Z"
    },
    "id": "DrIreivv0Ujt"
   },
   "outputs": [],
   "source": [
    "import sys\n",
    "import numpy as np\n",
    "import math"
   ]
  },
  {
   "cell_type": "code",
   "execution_count": 170,
   "metadata": {},
   "outputs": [],
   "source": [
    "from qiskit import QuantumCircuit, QuantumRegister, ClassicalRegister\n",
    "\n",
    "# , execute, BasicAer, IBMQ\n",
    "from qiskit.visualization import plot_histogram, plot_bloch_multivector\n",
    "\n",
    "# from qiskit.extensions import Initialize\n",
    "from qiskit.circuit.library import Initialize\n",
    "\n",
    "from qiskit.visualization import array_to_latex\n",
    "from qiskit.quantum_info import Statevector"
   ]
  },
  {
   "cell_type": "code",
   "execution_count": 185,
   "metadata": {},
   "outputs": [
    {
     "name": "stdout",
     "output_type": "stream",
     "text": [
      "----------------------------------MM----------------------------\n"
     ]
    },
    {
     "data": {
      "text/plain": [
       "64"
      ]
     },
     "execution_count": 185,
     "metadata": {},
     "output_type": "execute_result"
    }
   ],
   "source": [
    "print(YEAST)\n",
    "len(YEAST)"
   ]
  },
  {
   "cell_type": "code",
   "execution_count": 172,
   "metadata": {},
   "outputs": [],
   "source": [
    "# # Define a state to initialize\n",
    "# state = [1/2, 1/2, 1/2, 1/2]  # 2-qubit uniform superposition\n",
    "\n",
    "# # Create the Initialize gate\n",
    "# init = Initialize(state)\n",
    "\n",
    "# # Create a circuit and append the initialization\n",
    "# qc = QuantumCircuit(2)\n",
    "# qc.append(init, [0, 1])\n",
    "\n",
    "# # Apply some operations (optional)\n",
    "# qc.h(0)\n",
    "# qc.cx(0, 1)\n",
    "\n",
    "# # Now get the uncompute circuit from the Initialize object\n",
    "# uncompute = init.gates_to_uncompute()\n",
    "\n",
    "# # Append the uncompute circuit to revert the initialization\n",
    "# qc.append(uncompute, [0, 1])\n",
    "\n",
    "# # Draw the circuit\n",
    "# qc.draw('mpl')"
   ]
  },
  {
   "cell_type": "markdown",
   "metadata": {
    "id": "yf6i1LGA0Ujv"
   },
   "source": [
    "### Cambio realizado UdeA 2020 - 2025\n",
    "En la definición de la siguiente función se encuentran los cambios que fueron necesarios para corregir el error presentado."
   ]
  },
  {
   "cell_type": "code",
   "execution_count": 173,
   "metadata": {
    "ExecuteTime": {
     "end_time": "2018-09-25T16:52:53.351971Z",
     "start_time": "2018-09-25T16:52:53.339024Z"
    },
    "id": "06Ls5vxx0Ujw"
   },
   "outputs": [],
   "source": [
    "def encode_bitstring(bitstring, qr, cr, inverse=False):\n",
    "    \"\"\"\n",
    "    create a circuit for constructing the quantum superposition of the bitstring\n",
    "    \"\"\"\n",
    "    n = math.ceil(math.log2(len(bitstring))) + 1                 #number of qubits\n",
    "    assert n > 2, \"the length of bitstring must be at least 2\"\n",
    "    \n",
    "    qc = QuantumCircuit(qr, cr)\n",
    "    \n",
    "    #the probability amplitude of the desired state\n",
    "    desired_vector = np.array([ 0.0 for i in range(2**n) ])     #initialize to zero\n",
    "\n",
    "    print(len(desired_vector))\n",
    "\n",
    "    display(array_to_latex(Statevector(desired_vector), prefix=\"\\\\ket{\\\\psi_1} = \"))\n",
    "################################################################################################################    \n",
    " #         Cambio requerido en el código para corregir error presentado   #\n",
    "    \n",
    "    qc_init = QuantumCircuit(n) # Creación de compuertas circuitales para inicialización\n",
    "    inverse_qc_init = QuantumCircuit(n) # Creación de compuertas circuitales para inversión de la inicialización\n",
    "\n",
    "################################################################################################################\n",
    "\n",
    "    amplitude = np.sqrt(1.0/2**(n-1))\n",
    "    \n",
    "    for i, b in enumerate(bitstring):\n",
    "        print(i)\n",
    "        pos = i * 2\n",
    "        if b == \"1\" or b == \"M\":\n",
    "            print(\"b =\", b)\n",
    "            pos += 1\n",
    "        desired_vector[pos] = amplitude\n",
    "\n",
    "    print(desired_vector)\n",
    "\n",
    "    display(array_to_latex(Statevector(desired_vector), prefix=\"\\\\ket{\\\\psi_2} = \"))\n",
    "    print(type(desired_vector))\n",
    "\n",
    "################################################################################################################    \n",
    " #         Cambio requerido en el código para corregir error presentado   #\n",
    "    \n",
    "    init = Initialize(desired_vector)\n",
    "    \n",
    " ################################################################################################################       \n",
    "    \n",
    "    if not inverse:\n",
    "        # qc.initialize(desired_vector, qr)\n",
    "\n",
    "        qc_init.append(init, qc_init.qubits)\n",
    "        qc.append(qc_init, qr)  #  Cambio requerido en el código para corregir error presentado   #\n",
    "    \n",
    "        qc.barrier(qr)\n",
    "        \n",
    "    else:\n",
    "        uncompute = init.gates_to_uncompute()\n",
    "\n",
    "        inverse_qc_init.append(uncompute, inverse_qc_init.qubits)\n",
    "        qc.append(inverse_qc_init, qr)  # Cambio requerido en el código para corregir error presentado   #\n",
    "        \n",
    "        qc.barrier(qr)\n",
    "        for i in range(n):\n",
    "            qc.measure(qr[i], cr[i])\n",
    "    print()\n",
    "    return qc"
   ]
  },
  {
   "cell_type": "markdown",
   "metadata": {
    "id": "Os676jtV0Ujy"
   },
   "source": [
    "We can now create quantum circuits to create the quantum states for the Yeast's, Protozoan's, and Bacterial's."
   ]
  },
  {
   "cell_type": "code",
   "execution_count": 174,
   "metadata": {
    "ExecuteTime": {
     "end_time": "2018-09-25T16:52:53.884331Z",
     "start_time": "2018-09-25T16:52:53.649109Z"
    },
    "id": "me0yXEUX0Ujy",
    "outputId": "7b7baa3d-c1ac-40b5-bca8-ec89e148306b"
   },
   "outputs": [
    {
     "name": "stdout",
     "output_type": "stream",
     "text": [
      "128\n"
     ]
    },
    {
     "data": {
      "text/latex": [
       "$$\n",
       "\\ket{\\psi_1} = \n",
       "\\begin{bmatrix}\n",
       "0 & 0 & 0 & 0 & \\cdots & 0 & 0 & 0  \\\\\n",
       " \\end{bmatrix}\n",
       "$$"
      ],
      "text/plain": [
       "<IPython.core.display.Latex object>"
      ]
     },
     "metadata": {},
     "output_type": "display_data"
    },
    {
     "name": "stdout",
     "output_type": "stream",
     "text": [
      "0\n",
      "1\n",
      "2\n",
      "3\n",
      "4\n",
      "5\n",
      "6\n",
      "7\n",
      "8\n",
      "9\n",
      "10\n",
      "11\n",
      "12\n",
      "13\n",
      "14\n",
      "15\n",
      "16\n",
      "17\n",
      "18\n",
      "19\n",
      "20\n",
      "21\n",
      "22\n",
      "23\n",
      "24\n",
      "25\n",
      "26\n",
      "27\n",
      "28\n",
      "29\n",
      "30\n",
      "31\n",
      "32\n",
      "33\n",
      "34\n",
      "b = M\n",
      "35\n",
      "b = M\n",
      "36\n",
      "37\n",
      "38\n",
      "39\n",
      "40\n",
      "41\n",
      "42\n",
      "43\n",
      "44\n",
      "45\n",
      "46\n",
      "47\n",
      "48\n",
      "49\n",
      "50\n",
      "51\n",
      "52\n",
      "53\n",
      "54\n",
      "55\n",
      "56\n",
      "57\n",
      "58\n",
      "59\n",
      "60\n",
      "61\n",
      "62\n",
      "63\n",
      "[0.125 0.    0.125 0.    0.125 0.    0.125 0.    0.125 0.    0.125 0.\n",
      " 0.125 0.    0.125 0.    0.125 0.    0.125 0.    0.125 0.    0.125 0.\n",
      " 0.125 0.    0.125 0.    0.125 0.    0.125 0.    0.125 0.    0.125 0.\n",
      " 0.125 0.    0.125 0.    0.125 0.    0.125 0.    0.125 0.    0.125 0.\n",
      " 0.125 0.    0.125 0.    0.125 0.    0.125 0.    0.125 0.    0.125 0.\n",
      " 0.125 0.    0.125 0.    0.125 0.    0.125 0.    0.    0.125 0.    0.125\n",
      " 0.125 0.    0.125 0.    0.125 0.    0.125 0.    0.125 0.    0.125 0.\n",
      " 0.125 0.    0.125 0.    0.125 0.    0.125 0.    0.125 0.    0.125 0.\n",
      " 0.125 0.    0.125 0.    0.125 0.    0.125 0.    0.125 0.    0.125 0.\n",
      " 0.125 0.    0.125 0.    0.125 0.    0.125 0.    0.125 0.    0.125 0.\n",
      " 0.125 0.    0.125 0.    0.125 0.    0.125 0.   ]\n"
     ]
    },
    {
     "data": {
      "text/latex": [
       "$$\n",
       "\\ket{\\psi_2} = \n",
       "\\begin{bmatrix}\n",
       "\\frac{1}{8} & 0 & \\frac{1}{8} & 0 & \\cdots & 0 & \\frac{1}{8} & 0  \\\\\n",
       " \\end{bmatrix}\n",
       "$$"
      ],
      "text/plain": [
       "<IPython.core.display.Latex object>"
      ]
     },
     "metadata": {},
     "output_type": "display_data"
    },
    {
     "name": "stdout",
     "output_type": "stream",
     "text": [
      "<class 'numpy.ndarray'>\n",
      "\n",
      "128\n"
     ]
    },
    {
     "data": {
      "text/latex": [
       "$$\n",
       "\\ket{\\psi_1} = \n",
       "\\begin{bmatrix}\n",
       "0 & 0 & 0 & 0 & \\cdots & 0 & 0 & 0  \\\\\n",
       " \\end{bmatrix}\n",
       "$$"
      ],
      "text/plain": [
       "<IPython.core.display.Latex object>"
      ]
     },
     "metadata": {},
     "output_type": "display_data"
    },
    {
     "name": "stdout",
     "output_type": "stream",
     "text": [
      "0\n",
      "1\n",
      "2\n",
      "b = M\n",
      "3\n",
      "b = M\n",
      "4\n",
      "5\n",
      "6\n",
      "7\n",
      "8\n",
      "9\n",
      "10\n",
      "11\n",
      "12\n",
      "13\n",
      "14\n",
      "15\n",
      "16\n",
      "17\n",
      "18\n",
      "19\n",
      "b = M\n",
      "20\n",
      "21\n",
      "22\n",
      "23\n",
      "24\n",
      "25\n",
      "26\n",
      "27\n",
      "28\n",
      "29\n",
      "30\n",
      "31\n",
      "32\n",
      "b = M\n",
      "33\n",
      "b = M\n",
      "34\n",
      "b = M\n",
      "35\n",
      "b = M\n",
      "36\n",
      "37\n",
      "38\n",
      "39\n",
      "40\n",
      "41\n",
      "42\n",
      "43\n",
      "44\n",
      "45\n",
      "46\n",
      "47\n",
      "48\n",
      "49\n",
      "50\n",
      "51\n",
      "b = M\n",
      "52\n",
      "53\n",
      "54\n",
      "55\n",
      "56\n",
      "57\n",
      "58\n",
      "59\n",
      "60\n",
      "61\n",
      "62\n",
      "63\n",
      "[0.125 0.    0.125 0.    0.    0.125 0.    0.125 0.125 0.    0.125 0.\n",
      " 0.125 0.    0.125 0.    0.125 0.    0.125 0.    0.125 0.    0.125 0.\n",
      " 0.125 0.    0.125 0.    0.125 0.    0.125 0.    0.125 0.    0.125 0.\n",
      " 0.125 0.    0.    0.125 0.125 0.    0.125 0.    0.125 0.    0.125 0.\n",
      " 0.125 0.    0.125 0.    0.125 0.    0.125 0.    0.125 0.    0.125 0.\n",
      " 0.125 0.    0.125 0.    0.    0.125 0.    0.125 0.    0.125 0.    0.125\n",
      " 0.125 0.    0.125 0.    0.125 0.    0.125 0.    0.125 0.    0.125 0.\n",
      " 0.125 0.    0.125 0.    0.125 0.    0.125 0.    0.125 0.    0.125 0.\n",
      " 0.125 0.    0.125 0.    0.125 0.    0.    0.125 0.125 0.    0.125 0.\n",
      " 0.125 0.    0.125 0.    0.125 0.    0.125 0.    0.125 0.    0.125 0.\n",
      " 0.125 0.    0.125 0.    0.125 0.    0.125 0.   ]\n"
     ]
    },
    {
     "data": {
      "text/latex": [
       "$$\n",
       "\\ket{\\psi_2} = \n",
       "\\begin{bmatrix}\n",
       "\\frac{1}{8} & 0 & \\frac{1}{8} & 0 & \\cdots & 0 & \\frac{1}{8} & 0  \\\\\n",
       " \\end{bmatrix}\n",
       "$$"
      ],
      "text/plain": [
       "<IPython.core.display.Latex object>"
      ]
     },
     "metadata": {},
     "output_type": "display_data"
    },
    {
     "name": "stdout",
     "output_type": "stream",
     "text": [
      "<class 'numpy.ndarray'>\n",
      "\n",
      "128\n"
     ]
    },
    {
     "data": {
      "text/latex": [
       "$$\n",
       "\\ket{\\psi_1} = \n",
       "\\begin{bmatrix}\n",
       "0 & 0 & 0 & 0 & \\cdots & 0 & 0 & 0  \\\\\n",
       " \\end{bmatrix}\n",
       "$$"
      ],
      "text/plain": [
       "<IPython.core.display.Latex object>"
      ]
     },
     "metadata": {},
     "output_type": "display_data"
    },
    {
     "name": "stdout",
     "output_type": "stream",
     "text": [
      "0\n",
      "1\n",
      "2\n",
      "3\n",
      "b = M\n",
      "4\n",
      "5\n",
      "6\n",
      "7\n",
      "8\n",
      "9\n",
      "10\n",
      "11\n",
      "12\n",
      "13\n",
      "14\n",
      "15\n",
      "16\n",
      "17\n",
      "18\n",
      "19\n",
      "b = M\n",
      "20\n",
      "21\n",
      "22\n",
      "23\n",
      "24\n",
      "25\n",
      "26\n",
      "27\n",
      "28\n",
      "29\n",
      "30\n",
      "31\n",
      "32\n",
      "b = M\n",
      "33\n",
      "b = M\n",
      "34\n",
      "b = M\n",
      "35\n",
      "b = M\n",
      "36\n",
      "37\n",
      "38\n",
      "39\n",
      "40\n",
      "41\n",
      "42\n",
      "43\n",
      "44\n",
      "45\n",
      "46\n",
      "47\n",
      "48\n",
      "49\n",
      "50\n",
      "51\n",
      "b = M\n",
      "52\n",
      "53\n",
      "54\n",
      "55\n",
      "56\n",
      "57\n",
      "58\n",
      "59\n",
      "60\n",
      "61\n",
      "62\n",
      "63\n",
      "[0.125 0.    0.125 0.    0.125 0.    0.    0.125 0.125 0.    0.125 0.\n",
      " 0.125 0.    0.125 0.    0.125 0.    0.125 0.    0.125 0.    0.125 0.\n",
      " 0.125 0.    0.125 0.    0.125 0.    0.125 0.    0.125 0.    0.125 0.\n",
      " 0.125 0.    0.    0.125 0.125 0.    0.125 0.    0.125 0.    0.125 0.\n",
      " 0.125 0.    0.125 0.    0.125 0.    0.125 0.    0.125 0.    0.125 0.\n",
      " 0.125 0.    0.125 0.    0.    0.125 0.    0.125 0.    0.125 0.    0.125\n",
      " 0.125 0.    0.125 0.    0.125 0.    0.125 0.    0.125 0.    0.125 0.\n",
      " 0.125 0.    0.125 0.    0.125 0.    0.125 0.    0.125 0.    0.125 0.\n",
      " 0.125 0.    0.125 0.    0.125 0.    0.    0.125 0.125 0.    0.125 0.\n",
      " 0.125 0.    0.125 0.    0.125 0.    0.125 0.    0.125 0.    0.125 0.\n",
      " 0.125 0.    0.125 0.    0.125 0.    0.125 0.   ]\n"
     ]
    },
    {
     "data": {
      "text/latex": [
       "$$\n",
       "\\ket{\\psi_2} = \n",
       "\\begin{bmatrix}\n",
       "\\frac{1}{8} & 0 & \\frac{1}{8} & 0 & \\cdots & 0 & \\frac{1}{8} & 0  \\\\\n",
       " \\end{bmatrix}\n",
       "$$"
      ],
      "text/plain": [
       "<IPython.core.display.Latex object>"
      ]
     },
     "metadata": {},
     "output_type": "display_data"
    },
    {
     "name": "stdout",
     "output_type": "stream",
     "text": [
      "<class 'numpy.ndarray'>\n",
      "\n"
     ]
    }
   ],
   "source": [
    "n = math.ceil(math.log2(len(YEAST))) + 1                 #number of qubits\n",
    "qr = QuantumRegister(n)\n",
    "cr = ClassicalRegister(n)\n",
    "\n",
    "qc_yeast     = encode_bitstring(YEAST, qr, cr)\n",
    "qc_protozoan = encode_bitstring(PROTOZOAN, qr, cr)\n",
    "qc_bacterial = encode_bitstring(BACTERIAL, qr, cr)\n",
    "\n",
    "circs = {\"YEAST\": qc_yeast, \"PROTOZOAN\": qc_protozoan, \"BACTERIAL\": qc_bacterial}"
   ]
  },
  {
   "cell_type": "code",
   "execution_count": 175,
   "metadata": {},
   "outputs": [],
   "source": [
    "# qc_bacterial.decompose(reps=5).draw('mpl')"
   ]
  },
  {
   "cell_type": "code",
   "execution_count": 176,
   "metadata": {},
   "outputs": [
    {
     "name": "stdout",
     "output_type": "stream",
     "text": [
      "\n",
      "Circuit: YEAST\n"
     ]
    },
    {
     "data": {
      "image/png": "[encoded data removed]",
      "text/plain": [
       "<Figure size 407.771x702.333 with 1 Axes>"
      ]
     },
     "metadata": {},
     "output_type": "display_data"
    },
    {
     "name": "stdout",
     "output_type": "stream",
     "text": [
      "\n",
      "Circuit: PROTOZOAN\n"
     ]
    },
    {
     "data": {
      "image/png": "[encoded data removed]",
      "text/plain": [
       "<Figure size 407.771x702.333 with 1 Axes>"
      ]
     },
     "metadata": {},
     "output_type": "display_data"
    },
    {
     "name": "stdout",
     "output_type": "stream",
     "text": [
      "\n",
      "Circuit: BACTERIAL\n"
     ]
    },
    {
     "data": {
      "image/png": "[encoded data removed]",
      "text/plain": [
       "<Figure size 407.771x702.333 with 1 Axes>"
      ]
     },
     "metadata": {},
     "output_type": "display_data"
    }
   ],
   "source": [
    "# from qiskit.visualization import circuit_drawer\n",
    "\n",
    "# circs = {\n",
    "#     \"YEAST\": qc_yeast,\n",
    "#     \"PROTOZOAN\": qc_protozoan,\n",
    "#     \"BACTERIAL\": qc_bacterial\n",
    "# }\n",
    "\n",
    "for name, circuit in circs.items():\n",
    "    print(f\"\\nCircuit: {name}\")\n",
    "    display(circuit.draw(output='mpl'))  # Use 'mpl' for better-looking diagrams (requires matplotlib)\n"
   ]
  },
  {
   "cell_type": "markdown",
   "metadata": {
    "id": "8swHLkmQ0Uj0"
   },
   "source": [
    "### Inverting quantum circuit\n",
    "\n",
    "We can easily invert a quantum circuit by `inverse()` function. These inversed circuits are desirable to compute the closeness of the quantum states. "
   ]
  },
  {
   "cell_type": "code",
   "execution_count": 177,
   "metadata": {
    "ExecuteTime": {
     "end_time": "2018-09-25T16:52:54.207679Z",
     "start_time": "2018-09-25T16:52:53.960262Z"
    },
    "id": "tpLYghdI0Uj0",
    "outputId": "c9958e13-a282-4935-814a-5e72246f7ff4"
   },
   "outputs": [
    {
     "name": "stdout",
     "output_type": "stream",
     "text": [
      "128\n"
     ]
    },
    {
     "data": {
      "text/latex": [
       "$$\n",
       "\\ket{\\psi_1} = \n",
       "\\begin{bmatrix}\n",
       "0 & 0 & 0 & 0 & \\cdots & 0 & 0 & 0  \\\\\n",
       " \\end{bmatrix}\n",
       "$$"
      ],
      "text/plain": [
       "<IPython.core.display.Latex object>"
      ]
     },
     "metadata": {},
     "output_type": "display_data"
    },
    {
     "name": "stdout",
     "output_type": "stream",
     "text": [
      "0\n",
      "1\n",
      "2\n",
      "3\n",
      "4\n",
      "5\n",
      "6\n",
      "7\n",
      "8\n",
      "9\n",
      "10\n",
      "11\n",
      "12\n",
      "13\n",
      "14\n",
      "15\n",
      "16\n",
      "17\n",
      "18\n",
      "19\n",
      "20\n",
      "21\n",
      "22\n",
      "23\n",
      "24\n",
      "25\n",
      "26\n",
      "27\n",
      "28\n",
      "29\n",
      "30\n",
      "31\n",
      "32\n",
      "33\n",
      "34\n",
      "b = M\n",
      "35\n",
      "b = M\n",
      "36\n",
      "37\n",
      "38\n",
      "39\n",
      "40\n",
      "41\n",
      "42\n",
      "43\n",
      "44\n",
      "45\n",
      "46\n",
      "47\n",
      "48\n",
      "49\n",
      "50\n",
      "51\n",
      "52\n",
      "53\n",
      "54\n",
      "55\n",
      "56\n",
      "57\n",
      "58\n",
      "59\n",
      "60\n",
      "61\n",
      "62\n",
      "63\n",
      "[0.125 0.    0.125 0.    0.125 0.    0.125 0.    0.125 0.    0.125 0.\n",
      " 0.125 0.    0.125 0.    0.125 0.    0.125 0.    0.125 0.    0.125 0.\n",
      " 0.125 0.    0.125 0.    0.125 0.    0.125 0.    0.125 0.    0.125 0.\n",
      " 0.125 0.    0.125 0.    0.125 0.    0.125 0.    0.125 0.    0.125 0.\n",
      " 0.125 0.    0.125 0.    0.125 0.    0.125 0.    0.125 0.    0.125 0.\n",
      " 0.125 0.    0.125 0.    0.125 0.    0.125 0.    0.    0.125 0.    0.125\n",
      " 0.125 0.    0.125 0.    0.125 0.    0.125 0.    0.125 0.    0.125 0.\n",
      " 0.125 0.    0.125 0.    0.125 0.    0.125 0.    0.125 0.    0.125 0.\n",
      " 0.125 0.    0.125 0.    0.125 0.    0.125 0.    0.125 0.    0.125 0.\n",
      " 0.125 0.    0.125 0.    0.125 0.    0.125 0.    0.125 0.    0.125 0.\n",
      " 0.125 0.    0.125 0.    0.125 0.    0.125 0.   ]\n"
     ]
    },
    {
     "data": {
      "text/latex": [
       "$$\n",
       "\\ket{\\psi_2} = \n",
       "\\begin{bmatrix}\n",
       "\\frac{1}{8} & 0 & \\frac{1}{8} & 0 & \\cdots & 0 & \\frac{1}{8} & 0  \\\\\n",
       " \\end{bmatrix}\n",
       "$$"
      ],
      "text/plain": [
       "<IPython.core.display.Latex object>"
      ]
     },
     "metadata": {},
     "output_type": "display_data"
    },
    {
     "name": "stdout",
     "output_type": "stream",
     "text": [
      "<class 'numpy.ndarray'>\n",
      "\n",
      "128\n"
     ]
    },
    {
     "data": {
      "text/latex": [
       "$$\n",
       "\\ket{\\psi_1} = \n",
       "\\begin{bmatrix}\n",
       "0 & 0 & 0 & 0 & \\cdots & 0 & 0 & 0  \\\\\n",
       " \\end{bmatrix}\n",
       "$$"
      ],
      "text/plain": [
       "<IPython.core.display.Latex object>"
      ]
     },
     "metadata": {},
     "output_type": "display_data"
    },
    {
     "name": "stdout",
     "output_type": "stream",
     "text": [
      "0\n",
      "1\n",
      "2\n",
      "b = M\n",
      "3\n",
      "b = M\n",
      "4\n",
      "5\n",
      "6\n",
      "7\n",
      "8\n",
      "9\n",
      "10\n",
      "11\n",
      "12\n",
      "13\n",
      "14\n",
      "15\n",
      "16\n",
      "17\n",
      "18\n",
      "19\n",
      "b = M\n",
      "20\n",
      "21\n",
      "22\n",
      "23\n",
      "24\n",
      "25\n",
      "26\n",
      "27\n",
      "28\n",
      "29\n",
      "30\n",
      "31\n",
      "32\n",
      "b = M\n",
      "33\n",
      "b = M\n",
      "34\n",
      "b = M\n",
      "35\n",
      "b = M\n",
      "36\n",
      "37\n",
      "38\n",
      "39\n",
      "40\n",
      "41\n",
      "42\n",
      "43\n",
      "44\n",
      "45\n",
      "46\n",
      "47\n",
      "48\n",
      "49\n",
      "50\n",
      "51\n",
      "b = M\n",
      "52\n",
      "53\n",
      "54\n",
      "55\n",
      "56\n",
      "57\n",
      "58\n",
      "59\n",
      "60\n",
      "61\n",
      "62\n",
      "63\n",
      "[0.125 0.    0.125 0.    0.    0.125 0.    0.125 0.125 0.    0.125 0.\n",
      " 0.125 0.    0.125 0.    0.125 0.    0.125 0.    0.125 0.    0.125 0.\n",
      " 0.125 0.    0.125 0.    0.125 0.    0.125 0.    0.125 0.    0.125 0.\n",
      " 0.125 0.    0.    0.125 0.125 0.    0.125 0.    0.125 0.    0.125 0.\n",
      " 0.125 0.    0.125 0.    0.125 0.    0.125 0.    0.125 0.    0.125 0.\n",
      " 0.125 0.    0.125 0.    0.    0.125 0.    0.125 0.    0.125 0.    0.125\n",
      " 0.125 0.    0.125 0.    0.125 0.    0.125 0.    0.125 0.    0.125 0.\n",
      " 0.125 0.    0.125 0.    0.125 0.    0.125 0.    0.125 0.    0.125 0.\n",
      " 0.125 0.    0.125 0.    0.125 0.    0.    0.125 0.125 0.    0.125 0.\n",
      " 0.125 0.    0.125 0.    0.125 0.    0.125 0.    0.125 0.    0.125 0.\n",
      " 0.125 0.    0.125 0.    0.125 0.    0.125 0.   ]\n"
     ]
    },
    {
     "data": {
      "text/latex": [
       "$$\n",
       "\\ket{\\psi_2} = \n",
       "\\begin{bmatrix}\n",
       "\\frac{1}{8} & 0 & \\frac{1}{8} & 0 & \\cdots & 0 & \\frac{1}{8} & 0  \\\\\n",
       " \\end{bmatrix}\n",
       "$$"
      ],
      "text/plain": [
       "<IPython.core.display.Latex object>"
      ]
     },
     "metadata": {},
     "output_type": "display_data"
    },
    {
     "name": "stdout",
     "output_type": "stream",
     "text": [
      "<class 'numpy.ndarray'>\n",
      "\n",
      "128\n"
     ]
    },
    {
     "data": {
      "text/latex": [
       "$$\n",
       "\\ket{\\psi_1} = \n",
       "\\begin{bmatrix}\n",
       "0 & 0 & 0 & 0 & \\cdots & 0 & 0 & 0  \\\\\n",
       " \\end{bmatrix}\n",
       "$$"
      ],
      "text/plain": [
       "<IPython.core.display.Latex object>"
      ]
     },
     "metadata": {},
     "output_type": "display_data"
    },
    {
     "name": "stdout",
     "output_type": "stream",
     "text": [
      "0\n",
      "1\n",
      "2\n",
      "3\n",
      "b = M\n",
      "4\n",
      "5\n",
      "6\n",
      "7\n",
      "8\n",
      "9\n",
      "10\n",
      "11\n",
      "12\n",
      "13\n",
      "14\n",
      "15\n",
      "16\n",
      "17\n",
      "18\n",
      "19\n",
      "b = M\n",
      "20\n",
      "21\n",
      "22\n",
      "23\n",
      "24\n",
      "25\n",
      "26\n",
      "27\n",
      "28\n",
      "29\n",
      "30\n",
      "31\n",
      "32\n",
      "b = M\n",
      "33\n",
      "b = M\n",
      "34\n",
      "b = M\n",
      "35\n",
      "b = M\n",
      "36\n",
      "37\n",
      "38\n",
      "39\n",
      "40\n",
      "41\n",
      "42\n",
      "43\n",
      "44\n",
      "45\n",
      "46\n",
      "47\n",
      "48\n",
      "49\n",
      "50\n",
      "51\n",
      "b = M\n",
      "52\n",
      "53\n",
      "54\n",
      "55\n",
      "56\n",
      "57\n",
      "58\n",
      "59\n",
      "60\n",
      "61\n",
      "62\n",
      "63\n",
      "[0.125 0.    0.125 0.    0.125 0.    0.    0.125 0.125 0.    0.125 0.\n",
      " 0.125 0.    0.125 0.    0.125 0.    0.125 0.    0.125 0.    0.125 0.\n",
      " 0.125 0.    0.125 0.    0.125 0.    0.125 0.    0.125 0.    0.125 0.\n",
      " 0.125 0.    0.    0.125 0.125 0.    0.125 0.    0.125 0.    0.125 0.\n",
      " 0.125 0.    0.125 0.    0.125 0.    0.125 0.    0.125 0.    0.125 0.\n",
      " 0.125 0.    0.125 0.    0.    0.125 0.    0.125 0.    0.125 0.    0.125\n",
      " 0.125 0.    0.125 0.    0.125 0.    0.125 0.    0.125 0.    0.125 0.\n",
      " 0.125 0.    0.125 0.    0.125 0.    0.125 0.    0.125 0.    0.125 0.\n",
      " 0.125 0.    0.125 0.    0.125 0.    0.    0.125 0.125 0.    0.125 0.\n",
      " 0.125 0.    0.125 0.    0.125 0.    0.125 0.    0.125 0.    0.125 0.\n",
      " 0.125 0.    0.125 0.    0.125 0.    0.125 0.   ]\n"
     ]
    },
    {
     "data": {
      "text/latex": [
       "$$\n",
       "\\ket{\\psi_2} = \n",
       "\\begin{bmatrix}\n",
       "\\frac{1}{8} & 0 & \\frac{1}{8} & 0 & \\cdots & 0 & \\frac{1}{8} & 0  \\\\\n",
       " \\end{bmatrix}\n",
       "$$"
      ],
      "text/plain": [
       "<IPython.core.display.Latex object>"
      ]
     },
     "metadata": {},
     "output_type": "display_data"
    },
    {
     "name": "stdout",
     "output_type": "stream",
     "text": [
      "<class 'numpy.ndarray'>\n",
      "\n"
     ]
    }
   ],
   "source": [
    "inverse_qc_yeast     = encode_bitstring(YEAST,     qr, cr, inverse=True)\n",
    "inverse_qc_protozoan = encode_bitstring(PROTOZOAN, qr, cr, inverse=True)\n",
    "inverse_qc_bacterial = encode_bitstring(BACTERIAL, qr, cr, inverse=True)\n",
    "\n",
    "inverse_circs = {\"YEAST\": inverse_qc_yeast, \"PROTOZOAN\": inverse_qc_protozoan, \"BACTERIAL\": inverse_qc_bacterial}"
   ]
  },
  {
   "cell_type": "markdown",
   "metadata": {
    "id": "2vQjppAo0Uj1"
   },
   "source": [
    "### Comparing bitsrings\n",
    "\n",
    "We can now compare how close the starts of the genetic codes of Protozoan to Yeast's and Bacterial's by performing the test."
   ]
  },
  {
   "cell_type": "code",
   "execution_count": 178,
   "metadata": {
    "ExecuteTime": {
     "end_time": "2018-09-25T16:54:49.528857Z",
     "start_time": "2018-09-25T16:52:54.299872Z"
    },
    "id": "pABPCM-U0Uj1",
    "outputId": "30f33edb-29b0-4052-b1a9-d4d769ff8eda"
   },
   "outputs": [],
   "source": [
    "from qiskit_aer import AerSimulator"
   ]
  },
  {
   "cell_type": "code",
   "execution_count": 179,
   "metadata": {},
   "outputs": [],
   "source": [
    "simulator = AerSimulator()"
   ]
  },
  {
   "cell_type": "code",
   "execution_count": 180,
   "metadata": {},
   "outputs": [],
   "source": [
    "key = \"PROTOZOAN\"       #the name of the code used as key to find similar ones"
   ]
  },
  {
   "cell_type": "code",
   "execution_count": 181,
   "metadata": {},
   "outputs": [],
   "source": [
    "# # use local simulator\n",
    "# backend = BasicAer.get_backend(\"qasm_simulator\")\n",
    "shots = 8192\n",
    "\n",
    "combined_circs = {}\n",
    "count = {}\n",
    "\n",
    "most_similar, most_similar_score = \"\", -1.0"
   ]
  },
  {
   "cell_type": "code",
   "execution_count": 182,
   "metadata": {},
   "outputs": [],
   "source": [
    "from qiskit import QuantumCircuit, transpile"
   ]
  },
  {
   "cell_type": "code",
   "execution_count": 183,
   "metadata": {},
   "outputs": [
    {
     "name": "stdout",
     "output_type": "stream",
     "text": [
      "Similarity score of PROTOZOAN and YEAST is 0.8260498046875\n",
      "Similarity score of PROTOZOAN and BACTERIAL is 0.9693603515625\n",
      "[ANSWER] PROTOZOAN is most similar to BACTERIAL\n"
     ]
    }
   ],
   "source": [
    "for other_key in inverse_circs:\n",
    "    if other_key == key:\n",
    "        continue\n",
    "        \n",
    "    combined_circs[other_key] = circs[key].compose(inverse_circs[other_key])   #combined circuits to look for similar codes\n",
    "\n",
    "    job = simulator.run(transpile(combined_circs[other_key], simulator), shots=shots)\n",
    "    # job.result().get_counts(qc)\n",
    "\n",
    "    # job = execute(combined_circs[other_key], backend=backend,shots=shots)\n",
    "    st = job.result().get_counts(combined_circs[other_key])\n",
    "    \n",
    "    if \"0\"*n in st:\n",
    "        sim_score = st[\"0\"*n]/shots\n",
    "    else:\n",
    "        sim_score = 0.0\n",
    "    \n",
    "    print(\"Similarity score of\",key,\"and\",other_key,\"is\",sim_score)\n",
    "    if most_similar_score < sim_score:\n",
    "        most_similar, most_similar_score = other_key, sim_score\n",
    "\n",
    "print(\"[ANSWER]\", key,\"is most similar to\", most_similar)"
   ]
  },
  {
   "cell_type": "markdown",
   "metadata": {
    "id": "4HKglXZu0Uj2"
   },
   "source": [
    "We observe that the test can be used to determine which code is closer: bacterial's is closer to protozoan's than yeast's. \n",
    "\n",
    "There are many other genetic codes listed at [bioinformatics.org](http://www.bioinformatics.org/sms2/genetic_code.html) which can be used as input strings. In general, DNA has four nucleotides: \"A\", \"C\", \"G\", and \"T\". Thus, instead of one qubit like in this notebook, two qubits are required to encode the nucleotides. However, the asymptotic amount of quantum bits for encoding the whole sequence of length $N$ is still in the order of $\\log{N}$, which is exponentially small. "
   ]
  },
  {
   "cell_type": "markdown",
   "metadata": {
    "id": "e7g5BoAG0Uj3"
   },
   "source": [
    "## Deep Dive\n",
    "\n",
    "The technique of using circuit inversion to measure how close two quantum states has been used in many literature. For example, it is used for Quantum Kernel Estimation in [Havlicek et al., 2018](https://arxiv.org/pdf/1804.11326.pdf) for supervised learning. The idea of using quantum superposition to encode bistrings appeared in [Quantum Fingerprinting](https://arxiv.org/pdf/quant-ph/0102001.pdf) where a quantum exponential advantage is shown for a communication task of comparing two bitstrings. \n",
    "\n",
    "The intuition of why combining a circuit which creates a quantum state with another circuit which is the inverted circuit of creating another quantum state can be used to measure how close two quantum states is as follow. \n",
    "\n",
    "All operations (except measurements) in quantum computers are unitary and hence, distance preserving. This means if we apply the same operation (or, circuit) to two states that are similar, the resulting states will also be similar. All those operations are also reversible, that means, if we know a circuit $C$ to create a particular quantum state $|\\phi\\rangle$ from the all-zero state, we can also design the circuit $C'$ that transforms back the quantum state $|\\phi\\rangle$ to the all-zero state. Now, if we apply $C'$ to a quantum state $|\\psi\\rangle$ which is similar to $|\\phi\\rangle$, we will obtain a quantum state which is also similar to the all-zero state. The distance of the resulting state to the all-zero state is the same as the distance between  $|\\phi\\rangle$ and $|\\psi\\rangle$. \n",
    "\n",
    "\n",
    "We can notice that the similarity of two different quantum states can be very close to zero, and thus making difficult to find the discrepancies. However, we can use encoding techniques, such as, by [employing repetition code](https://arxiv.org/abs/1709.00990), to guarantee that different quantum states are separated far enough. In general, we can exploit error correcting codes, such as, [Justesen code](https://en.wikipedia.org/wiki/Justesen_code), or [locality-sensitive hashing](https://en.wikipedia.org/wiki/Locality-sensitive_hashing) to encode bitstrings efficiently. "
   ]
  },
  {
   "cell_type": "code",
   "execution_count": 184,
   "metadata": {},
   "outputs": [
    {
     "ename": "ModuleNotFoundError",
     "evalue": "No module named 'qiskit.tools'",
     "output_type": "error",
     "traceback": [
      "\u001b[0;31m---------------------------------------------------------------------------\u001b[0m",
      "\u001b[0;31mModuleNotFoundError\u001b[0m                       Traceback (most recent call last)",
      "Cell \u001b[0;32mIn[184], line 1\u001b[0m\n\u001b[0;32m----> 1\u001b[0m \u001b[38;5;28;01mimport\u001b[39;00m \u001b[38;5;21;01mqiskit\u001b[39;00m\u001b[38;5;21;01m.\u001b[39;00m\u001b[38;5;21;01mtools\u001b[39;00m\u001b[38;5;21;01m.\u001b[39;00m\u001b[38;5;21;01mjupyter\u001b[39;00m\n\u001b[1;32m      2\u001b[0m get_ipython()\u001b[38;5;241m.\u001b[39mrun_line_magic(\u001b[38;5;124m'\u001b[39m\u001b[38;5;124mqiskit_version_table\u001b[39m\u001b[38;5;124m'\u001b[39m, \u001b[38;5;124m'\u001b[39m\u001b[38;5;124m'\u001b[39m)\n\u001b[1;32m      3\u001b[0m get_ipython()\u001b[38;5;241m.\u001b[39mrun_line_magic(\u001b[38;5;124m'\u001b[39m\u001b[38;5;124mqiskit_copyright\u001b[39m\u001b[38;5;124m'\u001b[39m, \u001b[38;5;124m'\u001b[39m\u001b[38;5;124m'\u001b[39m)\n",
      "\u001b[0;31mModuleNotFoundError\u001b[0m: No module named 'qiskit.tools'"
     ]
    }
   ],
   "source": [
    "import qiskit.tools.jupyter\n",
    "%qiskit_version_table\n",
    "%qiskit_copyright"
   ]
  }
 ],
 "metadata": {
  "colab": {
   "name": "string_comparison_fixed_udea.ipynb",
   "provenance": []
  },
  "kernelspec": {
   "display_name": "MyQiskit2025-V1",
   "language": "python",
   "name": "python3"
  },
  "language_info": {
   "codemirror_mode": {
    "name": "ipython",
    "version": 3
   },
   "file_extension": ".py",
   "mimetype": "text/x-python",
   "name": "python",
   "nbconvert_exporter": "python",
   "pygments_lexer": "ipython3",
   "version": "3.13.1"
  },
  "toc": {
   "colors": {
    "hover_highlight": "#DAA520",
    "running_highlight": "#FF0000",
    "selected_highlight": "#FFD700"
   },
   "moveMenuLeft": true,
   "nav_menu": {
    "height": "48px",
    "width": "252px"
   },
   "navigate_menu": true,
   "number_sections": true,
   "sideBar": true,
   "threshold": 4,
   "toc_cell": false,
   "toc_section_display": "block",
   "toc_window_display": false
  },
  "widgets": {
   "application/vnd.jupyter.widget-state+json": {
    "state": {
     "013c68b73ccf4cc38fa0579462fd5ecb": {
      "model_module": "@jupyter-widgets/base",
      "model_module_version": "1.2.0",
      "model_name": "LayoutModel",
      "state": {
       "width": "95px"
      }
     },
     "03fd4a4751564c83a570e37451e64102": {
      "model_module": "@jupyter-widgets/base",
      "model_module_version": "1.2.0",
      "model_name": "LayoutModel",
      "state": {
       "width": "190px"
      }
     },
     "05bb3bc2366742a0a5cae739dad6c22b": {
      "model_module": "@jupyter-widgets/controls",
      "model_module_version": "1.5.0",
      "model_name": "DescriptionStyleModel",
      "state": {
       "description_width": ""
      }
     },
     "1c216a92dcfd4abf9ed5a7cc8693182d": {
      "model_module": "@jupyter-widgets/base",
      "model_module_version": "1.2.0",
      "model_name": "LayoutModel",
      "state": {
       "width": "70px"
      }
     },
     "1d5765d0f43c4dc9a69b28802c27d95d": {
      "model_module": "@jupyter-widgets/controls",
      "model_module_version": "1.5.0",
      "model_name": "GridBoxModel",
      "state": {
       "children": [
        "IPY_MODEL_caaeab09b7c64bbd99c477814046afe0"
       ],
       "layout": "IPY_MODEL_79034b512e7c4d8fb20950604374f6c4"
      }
     },
     "22b961a8d0b94e759835d851ca7c7215": {
      "model_module": "@jupyter-widgets/controls",
      "model_module_version": "1.5.0",
      "model_name": "HTMLModel",
      "state": {
       "layout": "IPY_MODEL_397d1ded464b47499f2561e3746f0de0",
       "style": "IPY_MODEL_05bb3bc2366742a0a5cae739dad6c22b",
       "value": "<h5>Message</h5>"
      }
     },
     "2327ac2c95b74d438ba097bcb1a480eb": {
      "model_module": "@jupyter-widgets/base",
      "model_module_version": "1.2.0",
      "model_name": "LayoutModel",
      "state": {
       "grid_area": "right",
       "padding": "0px 0px 0px 0px",
       "width": "70px"
      }
     },
     "2ecc040459f349958b77338dd9775446": {
      "model_module": "@jupyter-widgets/controls",
      "model_module_version": "1.5.0",
      "model_name": "HTMLModel",
      "state": {
       "layout": "IPY_MODEL_013c68b73ccf4cc38fa0579462fd5ecb",
       "style": "IPY_MODEL_a142d0ad16ed4501beac528b08ca03d0",
       "value": "<h5>Status</h5>"
      }
     },
     "397d1ded464b47499f2561e3746f0de0": {
      "model_module": "@jupyter-widgets/base",
      "model_module_version": "1.2.0",
      "model_name": "LayoutModel",
      "state": {}
     },
     "48b480a30c9542d3985f19b76f246456": {
      "model_module": "@jupyter-widgets/controls",
      "model_module_version": "1.5.0",
      "model_name": "ButtonStyleModel",
      "state": {}
     },
     "543bf5933229498584d83a583de290df": {
      "model_module": "@jupyter-widgets/base",
      "model_module_version": "1.2.0",
      "model_name": "LayoutModel",
      "state": {
       "margin": "0px 0px 10px 0px"
      }
     },
     "71b3aecacfa64ae39da63f913890e1d7": {
      "model_module": "@jupyter-widgets/controls",
      "model_module_version": "1.5.0",
      "model_name": "DescriptionStyleModel",
      "state": {
       "description_width": ""
      }
     },
     "79034b512e7c4d8fb20950604374f6c4": {
      "model_module": "@jupyter-widgets/base",
      "model_module_version": "1.2.0",
      "model_name": "LayoutModel",
      "state": {
       "grid_template_areas": "\n                                       \". . . . right \"\n                                        ",
       "grid_template_columns": "20% 20% 20% 20% 20%",
       "width": "100%"
      }
     },
     "7eb4b385101e4618ac659965d517960b": {
      "model_module": "@jupyter-widgets/controls",
      "model_module_version": "1.5.0",
      "model_name": "HTMLModel",
      "state": {
       "layout": "IPY_MODEL_1c216a92dcfd4abf9ed5a7cc8693182d",
       "style": "IPY_MODEL_bf370c1b855046b18659d87b48b697f6",
       "value": "<h5>Queue</h5>"
      }
     },
     "876375bb416041f89bdc4190ae89363a": {
      "model_module": "@jupyter-widgets/base",
      "model_module_version": "1.2.0",
      "model_name": "LayoutModel",
      "state": {
       "margin": "0px 0px 0px 37px",
       "width": "600px"
      }
     },
     "906ec02f6ef04220958670723f0621d6": {
      "model_module": "@jupyter-widgets/controls",
      "model_module_version": "1.5.0",
      "model_name": "HTMLModel",
      "state": {
       "layout": "IPY_MODEL_543bf5933229498584d83a583de290df",
       "style": "IPY_MODEL_71b3aecacfa64ae39da63f913890e1d7",
       "value": "<p style='font-family: IBM Plex Sans, Arial, Helvetica, sans-serif; font-size: 20px; font-weight: medium;'>Circuit Properties</p>"
      }
     },
     "a142d0ad16ed4501beac528b08ca03d0": {
      "model_module": "@jupyter-widgets/controls",
      "model_module_version": "1.5.0",
      "model_name": "DescriptionStyleModel",
      "state": {
       "description_width": ""
      }
     },
     "b9324dfed8bf410889fb89f868d343af": {
      "model_module": "@jupyter-widgets/controls",
      "model_module_version": "1.5.0",
      "model_name": "HTMLModel",
      "state": {
       "layout": "IPY_MODEL_dd14c7cb361647bb823137d014e66b6f",
       "style": "IPY_MODEL_cdeeea761e2c4796bd526b9b44045b9f",
       "value": "<h5>Backend</h5>"
      }
     },
     "bf370c1b855046b18659d87b48b697f6": {
      "model_module": "@jupyter-widgets/controls",
      "model_module_version": "1.5.0",
      "model_name": "DescriptionStyleModel",
      "state": {
       "description_width": ""
      }
     },
     "caaeab09b7c64bbd99c477814046afe0": {
      "model_module": "@jupyter-widgets/controls",
      "model_module_version": "1.5.0",
      "model_name": "ButtonModel",
      "state": {
       "button_style": "primary",
       "description": "Clear",
       "layout": "IPY_MODEL_2327ac2c95b74d438ba097bcb1a480eb",
       "style": "IPY_MODEL_48b480a30c9542d3985f19b76f246456"
      }
     },
     "cdd80e071012458d993e9f8885113984": {
      "model_module": "@jupyter-widgets/controls",
      "model_module_version": "1.5.0",
      "model_name": "DescriptionStyleModel",
      "state": {
       "description_width": ""
      }
     },
     "cdeeea761e2c4796bd526b9b44045b9f": {
      "model_module": "@jupyter-widgets/controls",
      "model_module_version": "1.5.0",
      "model_name": "DescriptionStyleModel",
      "state": {
       "description_width": ""
      }
     },
     "dd14c7cb361647bb823137d014e66b6f": {
      "model_module": "@jupyter-widgets/base",
      "model_module_version": "1.2.0",
      "model_name": "LayoutModel",
      "state": {
       "width": "145px"
      }
     },
     "f05de8b44f104a4a87c106e5eecdfbd5": {
      "model_module": "@jupyter-widgets/controls",
      "model_module_version": "1.5.0",
      "model_name": "HTMLModel",
      "state": {
       "layout": "IPY_MODEL_03fd4a4751564c83a570e37451e64102",
       "style": "IPY_MODEL_cdd80e071012458d993e9f8885113984",
       "value": "<h5>Job ID</h5>"
      }
     },
     "fe58933350a0461984af8520a4a4abca": {
      "model_module": "@jupyter-widgets/controls",
      "model_module_version": "1.5.0",
      "model_name": "HBoxModel",
      "state": {
       "children": [
        "IPY_MODEL_f05de8b44f104a4a87c106e5eecdfbd5",
        "IPY_MODEL_b9324dfed8bf410889fb89f868d343af",
        "IPY_MODEL_2ecc040459f349958b77338dd9775446",
        "IPY_MODEL_7eb4b385101e4618ac659965d517960b",
        "IPY_MODEL_22b961a8d0b94e759835d851ca7c7215"
       ],
       "layout": "IPY_MODEL_876375bb416041f89bdc4190ae89363a"
      }
     }
    },
    "version_major": 2,
    "version_minor": 0
   }
  }
 },
 "nbformat": 4,
 "nbformat_minor": 4
}
