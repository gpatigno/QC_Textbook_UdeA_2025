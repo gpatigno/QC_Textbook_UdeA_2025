{
 "cells": [
  {
   "cell_type": "code",
   "execution_count": null,
   "id": "23e039fd",
   "metadata": {},
   "outputs": [],
   "source": [
    "#****************************************************************************************************************#\n",
    "# Implementación de circuito Cuántico de Generación de Numéros Aleatorios (QRNG) en la plataforma Qiskit de IBM.\n",
    "#****************************************************************************************************************#\n",
    "\n",
    "#****************************************************************************************************************#\n",
    "# Para esta implementación se ha tenido en cuenta la descripción del circuito dada en el siguiente tutorial:\n",
    "# https://quantumcomputinguk.org/tutorials/qrng-web-application \n",
    "#****************************************************************************************************************#\n",
    "\n",
    "#****************************************************************************************************************#\n",
    "# Computación Cuántica\n",
    "# Prof. Gustavo Patino (adolfo.patino@udea.edu.co)\n",
    "# Facultad de Ingeniería\n",
    "# Universidad de Antioquia\n",
    "# Medellin, Colombia\n",
    "# Febrero, 2023\n",
    "#****************************************************************************************************************#"
   ]
  },
  {
   "cell_type": "code",
   "execution_count": null,
   "id": "e2d8dbe8-ac91-4b73-aa36-f8782e7b780a",
   "metadata": {
    "scrolled": true
   },
   "outputs": [],
   "source": [
    "import numpy as np\n",
    "\n",
    "# Importing standard Qiskit libraries\n",
    "from qiskit import QuantumCircuit, Aer, IBMQ\n",
    "from qiskit import QuantumRegister, ClassicalRegister, execute\n",
    "from qiskit.tools.jupyter import *\n",
    "from qiskit.visualization import *\n",
    "from qiskit.providers.aer import QasmSimulator\n",
    "from qiskit.tools.monitor import job_monitor\n",
    "\n",
    "# Loading your IBM Quantum account(s)\n",
    "\n"
   ]
  },
  {
   "cell_type": "code",
   "execution_count": null,
   "id": "39736156",
   "metadata": {},
   "outputs": [],
   "source": [
    "# Descomente la siguiente linea si desea ver las imágenes más grandes.\n",
    "%config InlineBackend.figure_format = 'svg' # Makes the images look nice"
   ]
  },
  {
   "cell_type": "code",
   "execution_count": null,
   "id": "20079e47-6ccd-4b89-9d79-da6f7d1f3d02",
   "metadata": {},
   "outputs": [],
   "source": [
    "\n",
    "min = \n",
    "max = \n"
   ]
  },
  {
   "cell_type": "code",
   "execution_count": null,
   "id": "bdcd3e55-4d5c-45a0-bbba-fcee22f37dca",
   "metadata": {},
   "outputs": [],
   "source": [
    "\n",
    "\n",
    "provider.backends()"
   ]
  },
  {
   "cell_type": "code",
   "execution_count": null,
   "id": "a3b0d81b-2133-4239-b8a0-448af527786d",
   "metadata": {},
   "outputs": [],
   "source": [
    "\n",
    "backend = \n"
   ]
  },
  {
   "cell_type": "code",
   "execution_count": null,
   "id": "e72fbf9b-b0ad-49cd-9d55-12a1a90678d3",
   "metadata": {},
   "outputs": [],
   "source": [
    "num_q = \n",
    "\n",
    "\n",
    "\n",
    "circuit.draw('mpl')"
   ]
  },
  {
   "cell_type": "code",
   "execution_count": null,
   "id": "54167f09-c527-445b-9d3c-28415c26f46e",
   "metadata": {},
   "outputs": [],
   "source": [
    "\n",
    "\n",
    "\n",
    "circuit.draw('mpl')"
   ]
  },
  {
   "cell_type": "code",
   "execution_count": null,
   "id": "1227efa0-93fb-48a8-8ff3-7890a0079479",
   "metadata": {},
   "outputs": [],
   "source": [
    "\n",
    "\n",
    "\n",
    "print('Ejecutando el circuito (job) en IBM ...\\n')"
   ]
  },
  {
   "cell_type": "code",
   "execution_count": null,
   "id": "4acf71cd-dd61-4335-8fe1-403950691f19",
   "metadata": {},
   "outputs": [],
   "source": [
    "job_monitor(job)"
   ]
  },
  {
   "cell_type": "code",
   "execution_count": null,
   "id": "18ceb225-146e-4be5-9848-e501564b1136",
   "metadata": {},
   "outputs": [],
   "source": [
    "conteos = \n",
    "print('Conteo de resultados por cada medida: ', conteos, '\\n')\n",
    "\n",
    "resultado = int(conteos.most_frequent(), 2)\n",
    "print('El resultado binario como un entero decimal es: ', resultado, '\\n')"
   ]
  },
  {
   "cell_type": "code",
   "execution_count": null,
   "id": "7f7757b5-4ccc-4fc6-b6eb-64a0464c9898",
   "metadata": {},
   "outputs": [],
   "source": [
    "resultado_aleat = \n",
    "\n",
    "print('El numero aleatorio entre',min ,'y',max, 'es:', resultado_aleat, '\\n')"
   ]
  },
  {
   "cell_type": "code",
   "execution_count": null,
   "id": "b6684a3a-75a5-4f30-ac10-19465a56e12a",
   "metadata": {},
   "outputs": [],
   "source": [
    "import qiskit.tools.jupyter\n",
    "%qiskit_version_table\n",
    "%qiskit_copyright"
   ]
  }
 ],
 "metadata": {
  "kernelspec": {
   "display_name": "Python 3 (ipykernel)",
   "language": "python",
   "name": "python3"
  },
  "language_info": {
   "codemirror_mode": {
    "name": "ipython",
    "version": 3
   },
   "file_extension": ".py",
   "mimetype": "text/x-python",
   "name": "python",
   "nbconvert_exporter": "python",
   "pygments_lexer": "ipython3",
   "version": "3.8.15"
  },
  "widgets": {
   "application/vnd.jupyter.widget-state+json": {
    "state": {},
    "version_major": 2,
    "version_minor": 0
   }
  }
 },
 "nbformat": 4,
 "nbformat_minor": 5
}
