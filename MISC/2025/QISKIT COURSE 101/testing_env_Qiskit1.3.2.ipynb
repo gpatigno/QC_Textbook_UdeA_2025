{
 "cells": [
  {
   "cell_type": "code",
   "execution_count": null,
   "metadata": {},
   "outputs": [],
   "source": [
    "from qiskit import QuantumCircuit\n",
    "from qiskit_ibm_runtime import QiskitRuntimeService, SamplerV2 as Sampler"
   ]
  },
  {
   "cell_type": "code",
   "execution_count": null,
   "metadata": {},
   "outputs": [],
   "source": [
    "# Create empty circuit\n",
    "example_circuit = QuantumCircuit(2)\n",
    "example_circuit.measure_all()"
   ]
  },
  {
   "cell_type": "code",
   "execution_count": null,
   "metadata": {},
   "outputs": [],
   "source": [
    "# You'll need to specify the credentials when initializing QiskitRuntimeService, if they were not previously saved.\n",
    "service = QiskitRuntimeService()\n",
    "backend = service.least_busy(operational=True, simulator=False, min_num_qubits=20)"
   ]
  },
  {
   "cell_type": "code",
   "execution_count": null,
   "metadata": {},
   "outputs": [],
   "source": [
    "sampler = Sampler(backend)\n",
    "job = sampler.run([example_circuit])\n",
    "print(f\"job id: {job.job_id()}\")\n",
    "result = job.result()\n",
    "print(result)"
   ]
  },
  {
   "cell_type": "code",
   "execution_count": null,
   "metadata": {},
   "outputs": [],
   "source": [
    "# Reinicie aqui para ver el resultado de la ejecución del Job."
   ]
  },
  {
   "cell_type": "code",
   "execution_count": 1,
   "metadata": {},
   "outputs": [],
   "source": [
    "from qiskit_ibm_runtime import QiskitRuntimeService"
   ]
  },
  {
   "cell_type": "code",
   "execution_count": 2,
   "metadata": {},
   "outputs": [],
   "source": [
    "service = QiskitRuntimeService()"
   ]
  },
  {
   "cell_type": "code",
   "execution_count": 3,
   "metadata": {},
   "outputs": [],
   "source": [
    "job = service.job('cyjm57m9b62g0082fshg')"
   ]
  },
  {
   "cell_type": "code",
   "execution_count": 4,
   "metadata": {},
   "outputs": [],
   "source": [
    "job_result = job.result()\n",
    "\n",
    "# To get counts for a particular pub result, use \n",
    "#\n",
    "# pub_result = job_result[<idx>].data.<classical register>.get_counts()\n",
    "#\n",
    "# where <idx> is the index of the pub and <classical register> is the name of the classical register. \n",
    "# You can use circuit.cregs to find the name of the classical registers."
   ]
  },
  {
   "cell_type": "code",
   "execution_count": 5,
   "metadata": {},
   "outputs": [
    {
     "name": "stdout",
     "output_type": "stream",
     "text": [
      "PrimitiveResult([SamplerPubResult(data=DataBin(meas=BitArray(<shape=(), num_shots=4096, num_bits=2>)), metadata={'circuit_metadata': {}})], metadata={'execution': {'execution_spans': ExecutionSpans([SliceSpan(<start='2025-02-07 04:52:12', stop='2025-02-07 04:52:24', size=4096>)])}, 'version': 2})\n"
     ]
    }
   ],
   "source": [
    "print(job_result)"
   ]
  }
 ],
 "metadata": {
  "kernelspec": {
   "display_name": "MyQiskit2025-V1",
   "language": "python",
   "name": "python3"
  },
  "language_info": {
   "codemirror_mode": {
    "name": "ipython",
    "version": 3
   },
   "file_extension": ".py",
   "mimetype": "text/x-python",
   "name": "python",
   "nbconvert_exporter": "python",
   "pygments_lexer": "ipython3",
   "version": "3.13.1"
  }
 },
 "nbformat": 4,
 "nbformat_minor": 2
}
