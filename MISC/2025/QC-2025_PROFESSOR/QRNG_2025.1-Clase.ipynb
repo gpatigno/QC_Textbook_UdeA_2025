{
 "cells": [
  {
   "cell_type": "code",
   "execution_count": null,
   "id": "23e039fd",
   "metadata": {},
   "outputs": [],
   "source": [
    "#****************************************************************************************************************#\n",
    "# Implementación de circuito Cuántico de Generación de Numéros Aleatorios (QRNG) en la plataforma Qiskit de IBM.\n",
    "#****************************************************************************************************************#\n",
    "\n",
    "#****************************************************************************************************************#\n",
    "# Para esta implementación se ha tenido en cuenta la descripción del circuito dada en el siguiente tutorial:\n",
    "# https://quantumcomputinguk.org/tutorials/qrng-web-application \n",
    "#****************************************************************************************************************#\n",
    "\n",
    "#****************************************************************************************************************#\n",
    "# Computación Cuántica\n",
    "# Prof. Gustavo Patino (adolfo.patino@udea.edu.co)\n",
    "# Facultad de Ingeniería\n",
    "# Universidad de Antioquia\n",
    "# Medellin, Colombia\n",
    "# Abril, 2025\n",
    "#****************************************************************************************************************#"
   ]
  },
  {
   "cell_type": "code",
   "execution_count": null,
   "id": "5ed3799e",
   "metadata": {},
   "outputs": [],
   "source": [
    "# Importing standard python libraries\n",
    "%matplotlib inline\n",
    "import matplotlib.pyplot as plt"
   ]
  },
  {
   "cell_type": "code",
   "execution_count": null,
   "id": "1f4a3507",
   "metadata": {},
   "outputs": [],
   "source": [
    "# Importing standard Qiskit libraries\n",
    "\n",
    "from qiskit import QuantumCircuit\n",
    "from qiskit import QuantumRegister, ClassicalRegister\n",
    "\n",
    "from qiskit.quantum_info import Statevector\n",
    "\n",
    "# from qiskit.visualization import plot_histogram\n",
    "from qiskit.visualization import array_to_latex\n",
    "from qiskit.result import Counts"
   ]
  },
  {
   "cell_type": "code",
   "execution_count": null,
   "id": "841022c9",
   "metadata": {},
   "outputs": [],
   "source": [
    "from qiskit_ibm_runtime import SamplerV2 as Sampler, QiskitRuntimeService\n",
    "from qiskit.transpiler import generate_preset_pass_manager\n",
    "\n",
    "# from qiskit_ibm_runtime.fake_provider import FakeKyiv"
   ]
  },
  {
   "cell_type": "code",
   "execution_count": null,
   "id": "39736156",
   "metadata": {},
   "outputs": [],
   "source": [
    "# Descomente la siguiente linea si desea ver las imágenes más grandes.\n",
    "%config InlineBackend.figure_format = 'svg' # Makes the images look nice"
   ]
  },
  {
   "cell_type": "code",
   "execution_count": null,
   "id": "1d3c463c",
   "metadata": {},
   "outputs": [],
   "source": [
    "# Loading your IBM Quantum account(s)\n",
    "\n",
    "\n"
   ]
  },
  {
   "cell_type": "code",
   "execution_count": null,
   "id": "1c6d527b",
   "metadata": {},
   "outputs": [],
   "source": [
    "\n",
    "\n",
    "\n",
    "service.backends()"
   ]
  },
  {
   "cell_type": "code",
   "execution_count": null,
   "id": "444d8f1a",
   "metadata": {},
   "outputs": [],
   "source": [
    "\n",
    "\n",
    "\n",
    "ibmq_backend = \n",
    "print(\"El computador cuántico de 127 qubits escogido es el\", ibmq_backend.name)"
   ]
  },
  {
   "cell_type": "code",
   "execution_count": null,
   "id": "20079e47-6ccd-4b89-9d79-da6f7d1f3d02",
   "metadata": {},
   "outputs": [],
   "source": [
    "min = \n",
    "max = "
   ]
  },
  {
   "cell_type": "code",
   "execution_count": null,
   "id": "e72fbf9b-b0ad-49cd-9d55-12a1a90678d3",
   "metadata": {},
   "outputs": [],
   "source": [
    "num_q = \n",
    "\n",
    "\n",
    "\n"
   ]
  },
  {
   "cell_type": "code",
   "execution_count": null,
   "id": "54167f09-c527-445b-9d3c-28415c26f46e",
   "metadata": {},
   "outputs": [],
   "source": [
    "\n",
    "\n",
    "\n",
    "circuit.draw('mpl')\n",
    "plt.show()"
   ]
  },
  {
   "cell_type": "code",
   "execution_count": null,
   "id": "5cc0c5a1",
   "metadata": {},
   "outputs": [],
   "source": [
    "display(array_to_latex(Statevector(circuit), prefix=\"\\\\ket{State_{out}} = \"))"
   ]
  },
  {
   "cell_type": "code",
   "execution_count": null,
   "id": "cb77af13",
   "metadata": {},
   "outputs": [],
   "source": [
    "\n",
    "\n",
    "\n",
    "circuit.draw('mpl')\n",
    "plt.show()"
   ]
  },
  {
   "cell_type": "code",
   "execution_count": null,
   "id": "6ccc712f",
   "metadata": {},
   "outputs": [],
   "source": [
    "pm = generate_preset_pass_manager(optimization_level=1, backend=ibmq_backend)\n",
    "\n",
    "\n",
    "\n",
    "# isa_circuit.draw('mpl')\n",
    "# plt.show()\n",
    "\n",
    "print(f\">>> Circuit ops (ISA): {isa_circuit.count_ops()}\")"
   ]
  },
  {
   "cell_type": "code",
   "execution_count": null,
   "id": "3cca3f07",
   "metadata": {},
   "outputs": [],
   "source": [
    "# Define the Sampler to run the circuit on a QPU\n",
    "\n",
    "\n",
    "\n",
    "# Define the number of shots for the execution. \n",
    "shotno=\n",
    "\n",
    "# Run the circuit on a real quantum computer. This may take a while.\n",
    "\n",
    "\n",
    "\n",
    "# ID del Job para rastrear la ejecución del circuito en tiempo real.\n",
    "print(f\">>> ID de la ejecución en el QPU escogido: {job.job_id()}\")\n",
    "\n",
    "# Consulta del estado de la ejecución del circuito cuántico\n",
    "print(f\">>> Estado de la ejecución en el QPU escogido: {job.status()}\")\n",
    "\n",
    "print('Ejecutando el circuito (job) en el QPU de IBM ...\\n')"
   ]
  },
  {
   "cell_type": "code",
   "execution_count": null,
   "id": "5f2cfab7",
   "metadata": {},
   "outputs": [],
   "source": [
    "# Nueva verificación del estado de la ejecución del circuito cuántico\n",
    "print(f\">>> Estado de la ejecución en el QPU escogido: {job.status()}\")"
   ]
  },
  {
   "cell_type": "code",
   "execution_count": null,
   "id": "1379359a",
   "metadata": {},
   "outputs": [],
   "source": [
    "\n",
    "\n",
    "\n",
    "\n",
    "counts =\n",
    "print('Conteo de resultados por cada medida: ', counts, '\\n')"
   ]
  },
  {
   "cell_type": "code",
   "execution_count": null,
   "id": "0651bf96-32c1-435d-8a04-755a36b9a13d",
   "metadata": {},
   "outputs": [],
   "source": [
    "random_obtained = Counts(counts).most_frequent()\n",
    "print(random_obtained)"
   ]
  },
  {
   "cell_type": "code",
   "execution_count": null,
   "id": "7249dc69-1d83-4eee-a877-3a024bb21359",
   "metadata": {},
   "outputs": [],
   "source": [
    "resultado = int(random_obtained, 2) #https://www.programiz.com/python-programming/methods/built-in/int\n",
    "print('El resultado binario como un entero decimal es: ', resultado, '\\n')"
   ]
  },
  {
   "cell_type": "code",
   "execution_count": null,
   "id": "7f7757b5-4ccc-4fc6-b6eb-64a0464c9898",
   "metadata": {},
   "outputs": [],
   "source": [
    "random_number = \n",
    "\n",
    "print('El numero aleatorio entre',min ,'y',max, 'es:', random_number, '\\n')"
   ]
  },
  {
   "cell_type": "code",
   "execution_count": null,
   "id": "b6684a3a-75a5-4f30-ac10-19465a56e12a",
   "metadata": {},
   "outputs": [],
   "source": [
    "from qiskit import __version__ as qiskit_version\n",
    "from qiskit_ibm_runtime import __version__ as runtime_version\n",
    "from qiskit_aer import __version__ as aer_version\n",
    "from IPython.display import display, Math\n",
    "from platform import python_version\n",
    "\n",
    "print('Qiskit Version:', qiskit_version)\n",
    "print('IBM RunTime Version:', runtime_version)\n",
    "print('Qiskit_Aer Version:', aer_version)\n",
    "print('Python Version:', python_version())\n",
    "print('2025 ©')"
   ]
  }
 ],
 "metadata": {
  "kernelspec": {
   "display_name": "MyQiskit2025-V1",
   "language": "python",
   "name": "python3"
  },
  "language_info": {
   "codemirror_mode": {
    "name": "ipython",
    "version": 3
   },
   "file_extension": ".py",
   "mimetype": "text/x-python",
   "name": "python",
   "nbconvert_exporter": "python",
   "pygments_lexer": "ipython3",
   "version": "3.13.1"
  },
  "widgets": {
   "application/vnd.jupyter.widget-state+json": {
    "state": {
     "08a7a3433abc49fc9cf48ee6457f5818": {
      "model_module": "@jupyter-widgets/controls",
      "model_module_version": "1.5.0",
      "model_name": "DescriptionStyleModel",
      "state": {
       "description_width": ""
      }
     },
     "0cb433300f5e460382e1666e96ea2451": {
      "model_module": "@jupyter-widgets/controls",
      "model_module_version": "1.5.0",
      "model_name": "HTMLModel",
      "state": {
       "layout": "IPY_MODEL_de1ab8c584e149aca98cf412e5b1bc63",
       "style": "IPY_MODEL_2ed0fec1740749029752ecc0d4d830f1",
       "value": "<h5>Queue</h5>"
      }
     },
     "256f42b50ec941a8a0773bb33add8416": {
      "model_module": "@jupyter-widgets/controls",
      "model_module_version": "1.5.0",
      "model_name": "ButtonModel",
      "state": {
       "button_style": "primary",
       "description": "Clear",
       "layout": "IPY_MODEL_c2aa196235b347fbaf54c4630bd08ce2",
       "style": "IPY_MODEL_4d3f4f02f34b46e0aeee9c289f2b410b"
      }
     },
     "2ed0fec1740749029752ecc0d4d830f1": {
      "model_module": "@jupyter-widgets/controls",
      "model_module_version": "1.5.0",
      "model_name": "DescriptionStyleModel",
      "state": {
       "description_width": ""
      }
     },
     "3172b79ca1ec4256b25a715189835a26": {
      "model_module": "@jupyter-widgets/controls",
      "model_module_version": "1.5.0",
      "model_name": "HTMLModel",
      "state": {
       "layout": "IPY_MODEL_901cef640e094a01a0724b4b029cbd48",
       "style": "IPY_MODEL_4edec97b45e342a5b55eec99b8e8d659",
       "value": "<p style='font-family: IBM Plex Sans, Arial, Helvetica, sans-serif; font-size: 20px; font-weight: medium;'>Circuit Properties</p>"
      }
     },
     "3238ae159df043e89bccebd5855a530d": {
      "model_module": "@jupyter-widgets/controls",
      "model_module_version": "1.5.0",
      "model_name": "DescriptionStyleModel",
      "state": {
       "description_width": ""
      }
     },
     "4d3f4f02f34b46e0aeee9c289f2b410b": {
      "model_module": "@jupyter-widgets/controls",
      "model_module_version": "1.5.0",
      "model_name": "ButtonStyleModel",
      "state": {}
     },
     "4edec97b45e342a5b55eec99b8e8d659": {
      "model_module": "@jupyter-widgets/controls",
      "model_module_version": "1.5.0",
      "model_name": "DescriptionStyleModel",
      "state": {
       "description_width": ""
      }
     },
     "54d778bdb917474195db50fbd15b795c": {
      "model_module": "@jupyter-widgets/base",
      "model_module_version": "1.2.0",
      "model_name": "LayoutModel",
      "state": {
       "grid_template_areas": "\n                                       \". . . . right \"\n                                        ",
       "grid_template_columns": "20% 20% 20% 20% 20%",
       "width": "100%"
      }
     },
     "54e25851a63e4d8ab4c7772474cdcee6": {
      "model_module": "@jupyter-widgets/base",
      "model_module_version": "1.2.0",
      "model_name": "LayoutModel",
      "state": {
       "margin": "0px 0px 0px 37px",
       "width": "600px"
      }
     },
     "69f4b0d7b90646018033895c89a46f4d": {
      "model_module": "@jupyter-widgets/controls",
      "model_module_version": "1.5.0",
      "model_name": "DescriptionStyleModel",
      "state": {
       "description_width": ""
      }
     },
     "6a3a2763d774415696d3365a7b9dc2ac": {
      "model_module": "@jupyter-widgets/base",
      "model_module_version": "1.2.0",
      "model_name": "LayoutModel",
      "state": {
       "width": "190px"
      }
     },
     "7c7e71adadaf41dc8d5317b669b03110": {
      "model_module": "@jupyter-widgets/base",
      "model_module_version": "1.2.0",
      "model_name": "LayoutModel",
      "state": {
       "width": "145px"
      }
     },
     "8108078773124056a429fdaca6be600f": {
      "model_module": "@jupyter-widgets/base",
      "model_module_version": "1.2.0",
      "model_name": "LayoutModel",
      "state": {}
     },
     "850a17d910e04a0bae61f517a998ee7b": {
      "model_module": "@jupyter-widgets/controls",
      "model_module_version": "1.5.0",
      "model_name": "HTMLModel",
      "state": {
       "layout": "IPY_MODEL_7c7e71adadaf41dc8d5317b669b03110",
       "style": "IPY_MODEL_69f4b0d7b90646018033895c89a46f4d",
       "value": "<h5>Backend</h5>"
      }
     },
     "873a1f8c56e640ee92c805a80df82b36": {
      "model_module": "@jupyter-widgets/controls",
      "model_module_version": "1.5.0",
      "model_name": "GridBoxModel",
      "state": {
       "children": [
        "IPY_MODEL_256f42b50ec941a8a0773bb33add8416"
       ],
       "layout": "IPY_MODEL_54d778bdb917474195db50fbd15b795c"
      }
     },
     "901cef640e094a01a0724b4b029cbd48": {
      "model_module": "@jupyter-widgets/base",
      "model_module_version": "1.2.0",
      "model_name": "LayoutModel",
      "state": {
       "margin": "0px 0px 10px 0px"
      }
     },
     "9fc8aa7f8b444e2480fd14857726dcda": {
      "model_module": "@jupyter-widgets/controls",
      "model_module_version": "1.5.0",
      "model_name": "HTMLModel",
      "state": {
       "layout": "IPY_MODEL_6a3a2763d774415696d3365a7b9dc2ac",
       "style": "IPY_MODEL_08a7a3433abc49fc9cf48ee6457f5818",
       "value": "<h5>Job ID</h5>"
      }
     },
     "ab04710334504f089e8ccf6f186f9aca": {
      "model_module": "@jupyter-widgets/controls",
      "model_module_version": "1.5.0",
      "model_name": "HTMLModel",
      "state": {
       "layout": "IPY_MODEL_8108078773124056a429fdaca6be600f",
       "style": "IPY_MODEL_3238ae159df043e89bccebd5855a530d",
       "value": "<h5>Message</h5>"
      }
     },
     "c2aa196235b347fbaf54c4630bd08ce2": {
      "model_module": "@jupyter-widgets/base",
      "model_module_version": "1.2.0",
      "model_name": "LayoutModel",
      "state": {
       "grid_area": "right",
       "padding": "0px 0px 0px 0px",
       "width": "70px"
      }
     },
     "d93d0b069a7b4c088410a8b89275d86e": {
      "model_module": "@jupyter-widgets/base",
      "model_module_version": "1.2.0",
      "model_name": "LayoutModel",
      "state": {
       "width": "95px"
      }
     },
     "d9ac0b54ee564ab8a96dbef3381ff8ca": {
      "model_module": "@jupyter-widgets/controls",
      "model_module_version": "1.5.0",
      "model_name": "HTMLModel",
      "state": {
       "layout": "IPY_MODEL_d93d0b069a7b4c088410a8b89275d86e",
       "style": "IPY_MODEL_e9d7175c3bf74db68fa4542646a776d5",
       "value": "<h5>Status</h5>"
      }
     },
     "da0ce283af5d41cead287b21a67c9631": {
      "model_module": "@jupyter-widgets/controls",
      "model_module_version": "1.5.0",
      "model_name": "HBoxModel",
      "state": {
       "children": [
        "IPY_MODEL_9fc8aa7f8b444e2480fd14857726dcda",
        "IPY_MODEL_850a17d910e04a0bae61f517a998ee7b",
        "IPY_MODEL_d9ac0b54ee564ab8a96dbef3381ff8ca",
        "IPY_MODEL_0cb433300f5e460382e1666e96ea2451",
        "IPY_MODEL_ab04710334504f089e8ccf6f186f9aca"
       ],
       "layout": "IPY_MODEL_54e25851a63e4d8ab4c7772474cdcee6"
      }
     },
     "de1ab8c584e149aca98cf412e5b1bc63": {
      "model_module": "@jupyter-widgets/base",
      "model_module_version": "1.2.0",
      "model_name": "LayoutModel",
      "state": {
       "width": "70px"
      }
     },
     "e9d7175c3bf74db68fa4542646a776d5": {
      "model_module": "@jupyter-widgets/controls",
      "model_module_version": "1.5.0",
      "model_name": "DescriptionStyleModel",
      "state": {
       "description_width": ""
      }
     }
    },
    "version_major": 2,
    "version_minor": 0
   }
  }
 },
 "nbformat": 4,
 "nbformat_minor": 5
}
