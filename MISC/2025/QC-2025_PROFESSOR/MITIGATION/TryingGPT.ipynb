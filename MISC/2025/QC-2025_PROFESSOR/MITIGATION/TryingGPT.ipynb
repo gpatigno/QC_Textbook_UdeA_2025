{
 "cells": [
  {
   "cell_type": "code",
   "execution_count": 6,
   "id": "e3f0f63b",
   "metadata": {},
   "outputs": [],
   "source": [
    "from qiskit_ibm_runtime import QiskitRuntimeService, SamplerV2, Options\n",
    "from qiskit import QuantumCircuit"
   ]
  },
  {
   "cell_type": "code",
   "execution_count": 7,
   "id": "40a658cc",
   "metadata": {},
   "outputs": [],
   "source": [
    "from qiskit_ibm_runtime.fake_provider import *"
   ]
  },
  {
   "cell_type": "code",
   "execution_count": 8,
   "id": "20329797",
   "metadata": {},
   "outputs": [],
   "source": [
    "# Initialize your IBM Quantum account\n",
    "service = QiskitRuntimeService(channel='ibm_quantum')"
   ]
  },
  {
   "cell_type": "code",
   "execution_count": 9,
   "id": "573baf62",
   "metadata": {},
   "outputs": [],
   "source": [
    "# Choose a real backend (change to one you have access to)\n",
    "# backend_name = 'ibmq_jakarta'  # or any other device available\n",
    "backend_name = FakeBrisbane()"
   ]
  },
  {
   "cell_type": "code",
   "execution_count": 10,
   "id": "df2a64b9",
   "metadata": {},
   "outputs": [],
   "source": [
    "# Build a quantum circuit\n",
    "qc = QuantumCircuit(2)\n",
    "qc.h(0)\n",
    "qc.cx(0, 1)\n",
    "qc.measure_all()\n",
    "\n",
    "# Configure error mitigation options\n",
    "options = Options()"
   ]
  },
  {
   "cell_type": "code",
   "execution_count": null,
   "id": "ff2e9972",
   "metadata": {},
   "outputs": [],
   "source": [
    "options.\n",
    "options.resilience_level = 2  # Medium level of error mitigation"
   ]
  },
  {
   "cell_type": "code",
   "execution_count": null,
   "id": "6f6143d6",
   "metadata": {},
   "outputs": [],
   "source": [
    "\n",
    "# Create the SamplerV2 primitive\n",
    "sampler = SamplerV2(backend=backend_name, options=options)\n",
    "\n",
    "# Submit the job\n",
    "job = sampler.run(circuits=[qc])\n",
    "\n",
    "# Get the result\n",
    "result = job.result()\n",
    "quasi_dists = result.quasi_dists\n",
    "\n",
    "# Print mitigated quasi-probabilities\n",
    "for i, quasi in enumerate(quasi_dists):\n",
    "    print(f\"Circuit {i} quasi-distribution (mitigated):\")\n",
    "    print(quasi)\n"
   ]
  }
 ],
 "metadata": {
  "kernelspec": {
   "display_name": "MyQiskit2025-V1",
   "language": "python",
   "name": "python3"
  },
  "language_info": {
   "codemirror_mode": {
    "name": "ipython",
    "version": 3
   },
   "file_extension": ".py",
   "mimetype": "text/x-python",
   "name": "python",
   "nbconvert_exporter": "python",
   "pygments_lexer": "ipython3",
   "version": "3.13.1"
  }
 },
 "nbformat": 4,
 "nbformat_minor": 5
}
