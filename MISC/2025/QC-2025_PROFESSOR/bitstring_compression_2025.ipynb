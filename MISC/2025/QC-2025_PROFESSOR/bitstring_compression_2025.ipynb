{
 "cells": [
  {
   "cell_type": "markdown",
   "metadata": {},
   "source": [
    "# Compressing bit strings in qubits using superposition effect"
   ]
  },
  {
   "cell_type": "markdown",
   "metadata": {},
   "source": [
    "### Contributors\n",
    "[Łukasz Herok](http://lukaszherok.com)\n",
    "\n",
    "This tutorial is based upon the \"Comparing Strings with Quantum Superposition\" tutorial by Rudy Raymond.\n"
   ]
  },
  {
   "cell_type": "markdown",
   "metadata": {},
   "source": [
    "## Motivation\n",
    "\n",
    "The aim of this tutorial is to show you how quantum computers can store information encoded in a bit string using  significantly fewer qubits than classical bits. It is possible thanks to **the superposition effect**. I will try to explain it through the example.\n",
    "\n",
    "This tutorial is designed to be an independent teaching material, so in the firsts sections  it repeats the basics that can be found in the other resources to make it easier to understand the final concept. If you are familiar with basics quantum computing rules you can just skip to the [Compressing bit strings in qubits using the superposition effect](#compressing) section.\n"
   ]
  },
  {
   "cell_type": "code",
   "execution_count": 1,
   "metadata": {},
   "outputs": [],
   "source": [
    "# Import of the modules and initialization of variables used in this tutorial\n",
    "import numpy as np\n",
    "import math"
   ]
  },
  {
   "cell_type": "code",
   "execution_count": 2,
   "metadata": {},
   "outputs": [],
   "source": [
    "from qiskit import QuantumCircuit, transpile\n",
    "from qiskit import QuantumRegister, ClassicalRegister\n",
    "\n",
    "from qiskit.quantum_info import Statevector\n",
    "\n",
    "from qiskit.visualization import plot_histogram\n",
    "from qiskit.visualization import array_to_latex\n",
    "from qiskit_aer import AerSimulator\n",
    "\n",
    "from qiskit.circuit.library import Initialize\n"
   ]
  },
  {
   "cell_type": "code",
   "execution_count": 3,
   "metadata": {},
   "outputs": [],
   "source": [
    "circuit_simulator = AerSimulator()\n",
    "statevector_simulator = AerSimulator(method='statevector')"
   ]
  },
  {
   "cell_type": "markdown",
   "metadata": {},
   "source": [
    "## Bit vs Qubit\n",
    "\n",
    "The computer bit can store and manipulate the two states `0` and `1`. These two states map to the two qubit  basis (orthonormal) states:\n",
    "\n",
    "\n",
    "$ \\left| 0 \\right\\rangle = {\\begin{bmatrix}1 \\\\ 0\\end{bmatrix}} $,\n",
    "\n",
    "$ \\left| 1 \\right\\rangle = {\\begin{bmatrix}0 \\\\ 1\\end{bmatrix}} $.\n",
    "\n",
    "In fact, the qubit state is represented by the linear *superposition* of these two basics states\n",
    "\n",
    "$ \\left| q \\right\\rangle = \\alpha \\left|0\\right\\rangle + \\beta \\left|1\\right\\rangle $\n",
    "so we can write\n",
    "$ \\left|q\\right\\rangle = {\\begin{bmatrix}\\alpha \\\\ 0\\end{bmatrix}} +  {\\begin{bmatrix}0 \\\\ \\beta \\end{bmatrix}} =  {\\begin{bmatrix} \\alpha \\\\ \\beta \\end{bmatrix}} $. \n",
    "\n",
    "The $ \\alpha $ and $ \\beta $ are the probability amplitudes and are the complex numbers. The formula $|\\alpha|^2$ tells us about the probability that the qubit is in state $\\left| 0 \\right\\rangle$. So these coefficients have to meet the normalization requirement $|\\alpha|^2 + |\\beta|^2  = 1$ to have the overall probability equals to one.\n",
    "\n",
    "So, as we can see a qubit can exist in a *superposition* of states. By the measurement, we can only check the probability of each state the qubit can take. For the quantum computing, besides the basis states $\\left| 0 \\right\\rangle$, $\\left| 1 \\right\\rangle$, we often encounter the superposition states marked by $\\left| + \\right\\rangle$, $\\left| - \\right\\rangle$. In these states there is the equal probability ($|\\alpha|^2$ = 0.5 and $|\\beta|^2 = 0.5 $) that the qubit is in one of the basis states $\\left| 0 \\right\\rangle$ or $\\left| 1 \\right\\rangle$. Any state for which both $\\alpha$ and $\\beta$ are non-zero is called a superposition state. There are also the mixed states which cannot be described with a single ket vector but instead, need matrices. \n",
    "We can switch a qubit into the superposition state from $\\left| 0 \\right\\rangle$ to $\\left| + \\right\\rangle$ and back to $\\left| 0 \\right\\rangle$ using the *Hadamard gate*. There is no similar operation available for bits as they operate only over two states `0,1`."
   ]
  },
  {
   "cell_type": "markdown",
   "metadata": {},
   "source": [
    "### Math\n",
    "The Hadamard gate is represented by the matrix: \n",
    "\n",
    "$H =  \\frac{1}{\\sqrt{2}} {\\begin{bmatrix}1 & 1\\\\1 & -1\\end{bmatrix}} $.\n",
    "\n",
    "To create a superposition state from the $\\left| 0 \\right\\rangle$, we need to multiply the matrices:\n",
    "\n",
    "$ H\\left| 0 \\right\\rangle \n",
    "= \\frac{1}{\\sqrt{2}} {\\begin{bmatrix}1 & 1\\\\1 & -1\\end{bmatrix}} {\\begin{bmatrix}1 \\\\0\\end{bmatrix}} \n",
    "= \\frac{1}{\\sqrt{2}} {\\begin{bmatrix}1\\cdot1 + 1\\cdot0 \\\\ 1\\cdot1 -1\\cdot0\\end{bmatrix}}\n",
    "=  {\\begin{bmatrix}0,7071 \\\\ 0,7071\\end{bmatrix}}\n",
    "= \\left| + \\right\\rangle\n",
    "$,\n",
    "\n",
    "so $\\alpha = 0.7071$, and $\\beta = 0.7071$. Making a square of these we can get $0.5$ probability that the qubit is in state $\\left| 0 \\right\\rangle$ and $0.5$ that it is in state $\\left| 1 \\right\\rangle$.\n",
    "\n",
    "We can, of course, go back to the $\\left| 0 \\right\\rangle$ state using the Hadamard gate again:\n",
    "\n",
    "$ H\\left| + \\right\\rangle\n",
    "= \\frac{1}{\\sqrt{2}} {\\begin{bmatrix}1 & 1\\\\1 & -1\\end{bmatrix}} {\\begin{bmatrix}\\frac{1}{\\sqrt{2}}  \\\\\\frac{1}{\\sqrt{2}} \\end{bmatrix}} \n",
    "= {\\begin{bmatrix}1 \\\\ 0\\end{bmatrix}}\n",
    "= \\left| 0 \\right\\rangle\n",
    "$\n"
   ]
  },
  {
   "cell_type": "markdown",
   "metadata": {},
   "source": [
    "### Numeric"
   ]
  },
  {
   "cell_type": "code",
   "execution_count": 4,
   "metadata": {},
   "outputs": [
    {
     "name": "stdout",
     "output_type": "stream",
     "text": [
      "Initial state |0> \n",
      " [[1.]\n",
      " [0.]] \n",
      "\n",
      " H|0> = |+> \n",
      " [[0.70710678]\n",
      " [0.70710678]]\n",
      "\n",
      " H|+> = |0> \n",
      " [[1.00000000e+00]\n",
      " [2.23711432e-17]]\n"
     ]
    }
   ],
   "source": [
    "# |0>\n",
    "Zero = np.array([[1.],\n",
    "                 [0.]]) \n",
    "\n",
    "H = 1./np.sqrt(2) * np.array([[1, 1],\n",
    "                              [1, -1]])\n",
    "\n",
    "print(\"Initial state |0> \\n %s \" % Zero)\n",
    "\n",
    "Sup = np.dot(H, Zero)\n",
    "print(\"\\n H|0> = |+> \\n %s\" % Sup)\n",
    "\n",
    "Back = np.dot(H, Sup)\n",
    "print(\"\\n H|+> = |0> \\n %s\" % Back)\n"
   ]
  },
  {
   "cell_type": "markdown",
   "metadata": {},
   "source": [
    "### Quantum"
   ]
  },
  {
   "cell_type": "code",
   "execution_count": 5,
   "metadata": {
    "scrolled": true
   },
   "outputs": [
    {
     "name": "stdout",
     "output_type": "stream",
     "text": [
      "    ┌───┐\n",
      "q1: ┤ H ├\n",
      "    └───┘\n"
     ]
    }
   ],
   "source": [
    "q1 = QuantumRegister(1) # Qubit in the |0> state.\n",
    "circ = QuantumCircuit(q1) # Circuit represents a quantum program.\n",
    "\n",
    "circ.h(q1) # H|0>\n",
    "\n",
    "print(circ)"
   ]
  },
  {
   "cell_type": "code",
   "execution_count": 6,
   "metadata": {},
   "outputs": [
    {
     "data": {
      "image/png": "[encoded data removed]",
      "text/plain": [
       "<Figure size 287.294x200.667 with 1 Axes>"
      ]
     },
     "execution_count": 6,
     "metadata": {},
     "output_type": "execute_result"
    }
   ],
   "source": [
    "# To get final results from the qubit we need a classical register to store measurements\n",
    "c1 = ClassicalRegister(1) \n",
    "circ.add_register(c1)\n",
    "circ.measure(q1, c1)\n",
    "circ.draw('mpl')"
   ]
  },
  {
   "cell_type": "code",
   "execution_count": 7,
   "metadata": {},
   "outputs": [
    {
     "name": "stdout",
     "output_type": "stream",
     "text": [
      "{'1': 511, '0': 513}\n"
     ]
    }
   ],
   "source": [
    "job = circuit_simulator.run(transpile(circ, circuit_simulator), shots=1024)\n",
    "result = job.result()\n",
    "\n",
    "print(result.get_counts())"
   ]
  },
  {
   "cell_type": "markdown",
   "metadata": {},
   "source": [
    "Analyzing the result of the quantum program, we can see how many times the states $\\left| 1 \\right\\rangle$ and $\\left| 0 \\right\\rangle$ were measured. We can see that both states were measured almost the same number of times.\n",
    "\n",
    "Let's check if using two H gates will bring us to the initial state:"
   ]
  },
  {
   "cell_type": "code",
   "execution_count": 8,
   "metadata": {},
   "outputs": [
    {
     "name": "stdout",
     "output_type": "stream",
     "text": [
      "    ┌───┐┌───┐\n",
      "q1: ┤ H ├┤ H ├\n",
      "    └───┘└───┘\n"
     ]
    }
   ],
   "source": [
    "circ = QuantumCircuit(q1)\n",
    "\n",
    "circ.h(q1) # H|0>\n",
    "circ.h(q1) # H|+>\n",
    "\n",
    "print(circ)"
   ]
  },
  {
   "cell_type": "code",
   "execution_count": 9,
   "metadata": {},
   "outputs": [
    {
     "data": {
      "image/png": "[encoded data removed]",
      "text/plain": [
       "<Figure size 370.906x200.667 with 1 Axes>"
      ]
     },
     "execution_count": 9,
     "metadata": {},
     "output_type": "execute_result"
    }
   ],
   "source": [
    "circ.add_register(c1)\n",
    "circ.measure(q1, c1)\n",
    "circ.draw('mpl')"
   ]
  },
  {
   "cell_type": "code",
   "execution_count": 10,
   "metadata": {},
   "outputs": [
    {
     "name": "stdout",
     "output_type": "stream",
     "text": [
      "{'0': 1024}\n"
     ]
    }
   ],
   "source": [
    "job = circuit_simulator.run(transpile(circ, circuit_simulator), shots=1024)\n",
    "result = job.result()\n",
    "\n",
    "print(result.get_counts())"
   ]
  },
  {
   "cell_type": "markdown",
   "metadata": {},
   "source": [
    "this time only the $\\left| 0 \\right\\rangle$ state was measured. So the qubit is back in the $\\left| 0 \\right\\rangle$ state."
   ]
  },
  {
   "cell_type": "markdown",
   "metadata": {},
   "source": [
    "For the classical bit there is no possibility to switch it into a *mixed state* and go back to the original state. That gives us a clue that in the quantum computer we gain a possibility to use more states using fewer resources to perform algorithms."
   ]
  },
  {
   "cell_type": "markdown",
   "metadata": {},
   "source": [
    "## Bit flip"
   ]
  },
  {
   "cell_type": "markdown",
   "metadata": {},
   "source": [
    "Before going further we will get to know one more gate to catch better the idea of qubits manipulation. The *Pauli-X gate* changes the state from $\\left| 0 \\right\\rangle$ to $\\left| 1 \\right\\rangle$. Its counterpart in the classical computers is the NOT logic gate.\n",
    "\n",
    "$ X = {\\begin{bmatrix}0 & 1\\\\1 & 0\\end{bmatrix}} $,\n",
    "\n",
    "\n",
    "### Math\n",
    "\n",
    "$ X\\left| 0 \\right\\rangle = {\\begin{bmatrix}0 & 1\\\\1 & 0\\end{bmatrix}} {\\begin{bmatrix}1 \\\\ 0\\end{bmatrix}} = {\\begin{bmatrix}0 \\\\ 1 \\end{bmatrix}} = \\left| 1 \\right\\rangle$,\n"
   ]
  },
  {
   "cell_type": "markdown",
   "metadata": {},
   "source": [
    "### Numeric"
   ]
  },
  {
   "cell_type": "code",
   "execution_count": 11,
   "metadata": {},
   "outputs": [
    {
     "data": {
      "text/plain": [
       "array([[0.],\n",
       "       [1.]])"
      ]
     },
     "execution_count": 11,
     "metadata": {},
     "output_type": "execute_result"
    }
   ],
   "source": [
    "X = np.array([[0, 1],\n",
    "              [1, 0]])\n",
    "\n",
    "np.dot(X, Zero)"
   ]
  },
  {
   "cell_type": "markdown",
   "metadata": {},
   "source": [
    "### Quantum"
   ]
  },
  {
   "cell_type": "code",
   "execution_count": 12,
   "metadata": {},
   "outputs": [
    {
     "name": "stdout",
     "output_type": "stream",
     "text": [
      "      ┌───┐\n",
      "  q1: ┤ X ├\n",
      "      └───┘\n",
      "c0: 1/═════\n",
      "           \n"
     ]
    }
   ],
   "source": [
    "circ = QuantumCircuit(q1)\n",
    "circ.x(q1)\n",
    "circ.add_register(c1)\n",
    "\n",
    "print(circ)"
   ]
  },
  {
   "cell_type": "code",
   "execution_count": 13,
   "metadata": {},
   "outputs": [
    {
     "data": {
      "text/plain": [
       "<qiskit.circuit.instructionset.InstructionSet at 0x7ffa5f2d39a0>"
      ]
     },
     "execution_count": 13,
     "metadata": {},
     "output_type": "execute_result"
    }
   ],
   "source": [
    "# Copia del circuito para obtener el vector de estado final resultante\n",
    "circ2SV = circ.copy()\n",
    "circ2SV.save_statevector()"
   ]
  },
  {
   "cell_type": "code",
   "execution_count": 14,
   "metadata": {},
   "outputs": [
    {
     "data": {
      "image/png": "[encoded data removed]",
      "text/plain": [
       "<Figure size 287.294x200.667 with 1 Axes>"
      ]
     },
     "execution_count": 14,
     "metadata": {},
     "output_type": "execute_result"
    }
   ],
   "source": [
    "circ.measure(q1, c1)\n",
    "circ.draw('mpl')"
   ]
  },
  {
   "cell_type": "code",
   "execution_count": 15,
   "metadata": {},
   "outputs": [
    {
     "data": {
      "image/png": "[encoded data removed]",
      "text/plain": [
       "<Figure size 370.906x200.667 with 1 Axes>"
      ]
     },
     "execution_count": 15,
     "metadata": {},
     "output_type": "execute_result"
    }
   ],
   "source": [
    "circ2SV.draw('mpl')"
   ]
  },
  {
   "cell_type": "code",
   "execution_count": 16,
   "metadata": {},
   "outputs": [
    {
     "name": "stdout",
     "output_type": "stream",
     "text": [
      "{'1': 1024}\n"
     ]
    }
   ],
   "source": [
    "job = circuit_simulator.run(transpile(circ, circuit_simulator), shots=1024)\n",
    "jobSV = statevector_simulator.run(transpile(circ2SV, statevector_simulator), shots=1024)\n",
    "\n",
    "print(job.result().get_counts())"
   ]
  },
  {
   "cell_type": "code",
   "execution_count": 17,
   "metadata": {},
   "outputs": [
    {
     "data": {
      "text/latex": [
       "$$\n",
       "\\ket{out_{statevector}} = \n",
       "\\begin{bmatrix}\n",
       "0 & 1  \\\\\n",
       " \\end{bmatrix}\n",
       "$$"
      ],
      "text/plain": [
       "<IPython.core.display.Latex object>"
      ]
     },
     "metadata": {},
     "output_type": "display_data"
    }
   ],
   "source": [
    "display(array_to_latex(Statevector(jobSV.result().get_statevector()), prefix=\"\\\\ket{out_{statevector}} = \"))"
   ]
  },
  {
   "cell_type": "markdown",
   "metadata": {},
   "source": [
    "## Making the qubytes\n",
    "\n",
    "To store more information we can combine multiple qubits creating qubytes. It's the same what we do with bits. But, as you will see, the same size of qubyte can store lots of more information than a byte.\n",
    "\n",
    "Using two qubits we can build states like: $\\left| 00 \\right\\rangle$, $\\left| 10 \\right\\rangle$, $\\left| 0+ \\right\\rangle$, etc. To do that we make a tensor product of two qubits.\n",
    "\n",
    "### Math\n",
    "\n",
    "$ \\left| 01 \\right\\rangle = \\left| 0 \\right\\rangle \\otimes \\left| 1 \\right\\rangle \n",
    "= {\\begin{bmatrix}1 \\\\ 0\\end{bmatrix}} \\otimes {\\begin{bmatrix}0 \\\\ 1\\end{bmatrix}} \n",
    "= {\\begin{bmatrix}1 \\\\ 0\\end{bmatrix}}  {\\begin{bmatrix}0 \\\\ 1\\end{bmatrix}}^{T}\n",
    "= {\\begin{bmatrix}1 \\\\ 0\\end{bmatrix}} {\\begin{bmatrix}0 & 1\\end{bmatrix}}\n",
    "= {\\begin{bmatrix}0\\\\ 1 \\\\ 0 \\\\ 0\\end{bmatrix}} \n",
    "$\n"
   ]
  },
  {
   "cell_type": "markdown",
   "metadata": {},
   "source": [
    "### Numeric"
   ]
  },
  {
   "cell_type": "code",
   "execution_count": 18,
   "metadata": {},
   "outputs": [
    {
     "data": {
      "text/plain": [
       "array([[0.],\n",
       "       [1.],\n",
       "       [0.],\n",
       "       [0.]])"
      ]
     },
     "execution_count": 18,
     "metadata": {},
     "output_type": "execute_result"
    }
   ],
   "source": [
    "One = np.array([[0.],\n",
    "                [1.]]) \n",
    "\n",
    "# Tensor product (Kronecker prodcut in numpy)\n",
    "np.kron(Zero, One)"
   ]
  },
  {
   "cell_type": "markdown",
   "metadata": {},
   "source": [
    "### Quantum"
   ]
  },
  {
   "cell_type": "code",
   "execution_count": 19,
   "metadata": {},
   "outputs": [
    {
     "name": "stdout",
     "output_type": "stream",
     "text": [
      "      ┌───┐\n",
      "q2_0: ┤ X ├\n",
      "      └───┘\n",
      "q2_1: ─────\n",
      "           \n"
     ]
    }
   ],
   "source": [
    "q2 = QuantumRegister(2) # |00>\n",
    "circ = QuantumCircuit(q2)\n",
    "circ.x(q2[0]) # bit filp on a first qubit (right to left - little endian)\n",
    "\n",
    "print(circ)"
   ]
  },
  {
   "cell_type": "code",
   "execution_count": 20,
   "metadata": {},
   "outputs": [],
   "source": [
    "# Add measurement & Run\n",
    "c2 = ClassicalRegister(2)\n",
    "circ.add_register(c2)\n"
   ]
  },
  {
   "cell_type": "code",
   "execution_count": 21,
   "metadata": {},
   "outputs": [
    {
     "data": {
      "text/plain": [
       "<qiskit.circuit.instructionset.InstructionSet at 0x7ffa4c3b23b0>"
      ]
     },
     "execution_count": 21,
     "metadata": {},
     "output_type": "execute_result"
    }
   ],
   "source": [
    "circ2SV = circ.copy()\n",
    "circ2SV.save_statevector()"
   ]
  },
  {
   "cell_type": "code",
   "execution_count": 22,
   "metadata": {},
   "outputs": [
    {
     "data": {
      "image/png": "[encoded data removed]",
      "text/plain": [
       "<Figure size 305.727x284.278 with 1 Axes>"
      ]
     },
     "execution_count": 22,
     "metadata": {},
     "output_type": "execute_result"
    }
   ],
   "source": [
    "circ.measure(q2, c2)\n",
    "circ.draw('mpl')"
   ]
  },
  {
   "cell_type": "code",
   "execution_count": 23,
   "metadata": {},
   "outputs": [
    {
     "data": {
      "image/png": "[encoded data removed]",
      "text/plain": [
       "<Figure size 472.949x284.278 with 1 Axes>"
      ]
     },
     "execution_count": 23,
     "metadata": {},
     "output_type": "execute_result"
    }
   ],
   "source": [
    "circ2SV.draw('mpl')"
   ]
  },
  {
   "cell_type": "code",
   "execution_count": 24,
   "metadata": {},
   "outputs": [
    {
     "name": "stdout",
     "output_type": "stream",
     "text": [
      "{'01': 1024}\n"
     ]
    }
   ],
   "source": [
    "job = circuit_simulator.run(transpile(circ, circuit_simulator), shots=1024)\n",
    "jobSV = statevector_simulator.run(transpile(circ2SV, statevector_simulator), shots=1024)\n",
    "\n",
    "print(job.result().get_counts())"
   ]
  },
  {
   "cell_type": "code",
   "execution_count": 25,
   "metadata": {},
   "outputs": [
    {
     "data": {
      "text/latex": [
       "$$\n",
       "\\ket{out_{statevector}} = \n",
       "\\begin{bmatrix}\n",
       "0 & 1 & 0 & 0  \\\\\n",
       " \\end{bmatrix}\n",
       "$$"
      ],
      "text/plain": [
       "<IPython.core.display.Latex object>"
      ]
     },
     "metadata": {},
     "output_type": "display_data"
    }
   ],
   "source": [
    "display(array_to_latex(Statevector(jobSV.result().get_statevector()), prefix=\"\\\\ket{out_{statevector}} = \"))"
   ]
  },
  {
   "cell_type": "markdown",
   "metadata": {},
   "source": [
    "Initializing more complex states could be tedious task, so for that purpose we can also use a `initialize()`  function which will prepare the appropriate gates set for us:"
   ]
  },
  {
   "cell_type": "code",
   "execution_count": 26,
   "metadata": {},
   "outputs": [
    {
     "name": "stdout",
     "output_type": "stream",
     "text": [
      "           ┌───────────────────────────┐\n",
      "q2_0: ─|0>─┤0                          ├\n",
      "           │  isometry_to_uncompute_dg │\n",
      "q2_1: ─|0>─┤1                          ├\n",
      "           └───────────────────────────┘\n"
     ]
    }
   ],
   "source": [
    "circ = QuantumCircuit(q2)\n",
    "circ.initialize([0., 1, 0, 0.], q2)\n",
    "\n",
    "print(circ.decompose(reps=2))\n"
   ]
  },
  {
   "cell_type": "markdown",
   "metadata": {},
   "source": [
    "We can see that it used CNOT and Ry gates, but the effect is the same:"
   ]
  },
  {
   "cell_type": "code",
   "execution_count": 27,
   "metadata": {},
   "outputs": [
    {
     "data": {
      "image/png": "[encoded data removed]",
      "text/plain": [
       "<Figure size 472.949x284.278 with 1 Axes>"
      ]
     },
     "execution_count": 27,
     "metadata": {},
     "output_type": "execute_result"
    }
   ],
   "source": [
    "c2 = ClassicalRegister(2)\n",
    "circ.add_register(c2)\n",
    "circ.measure(q2, c2)\n",
    "\n",
    "circ.draw('mpl')"
   ]
  },
  {
   "cell_type": "code",
   "execution_count": 28,
   "metadata": {},
   "outputs": [
    {
     "name": "stdout",
     "output_type": "stream",
     "text": [
      "{'01': 1024}\n"
     ]
    }
   ],
   "source": [
    "job = circuit_simulator.run(transpile(circ, circuit_simulator), shots=1024)\n",
    "print(job.result().get_counts())"
   ]
  },
  {
   "cell_type": "markdown",
   "metadata": {},
   "source": [
    "The `initialize()` function implements a recursive initialization algorithm according to [\"Synthesis of Quantum Logic Circuits\" Shende, Bullock, Markov](https://arxiv.org/abs/quant-ph/0406176v5)."
   ]
  },
  {
   "cell_type": "markdown",
   "metadata": {},
   "source": [
    "<a id='compressing'></a>\n",
    "## Compressing bit strings in qubits using the superposition effect\n",
    "\n",
    "In this section, we will try to save bit string `1001` in the quantum chip, and read it back. In this case, the advantage of using qubits instead of bits is not surprising, but working on the short string will be much easier to catch the concept.\n"
   ]
  },
  {
   "cell_type": "markdown",
   "metadata": {},
   "source": [
    "To store a bit string: `1001` in a classical computer we will need to use 4 bits.\n",
    "For the same purpose, in a quantum computer it is enough to use only 3 qubits. To take advantage of the quantum computer advantage we need to use a notation which will allow us to **store multiple states in the qubyte**. That's the thing that is impossible on classical computers. The way for that is to write down the bit string in the notation where firsts qubits describe the position (address) in a bit string, and the last one, the value on this position. For our `1001` it will be:\n",
    "\n",
    "```\n",
    "   bs | aa v \n",
    "  ----|------- \n",
    "    1 | 00 1  # the first position  (00) holds 1\n",
    "    0 | 01 0  # the second position (01) holds 0\n",
    "    0 | 10 0\n",
    "    1 | 11 1   \n",
    "```\n",
    "\n",
    "The first two qubits `aa` will be storing the address, and the third qubit `v` the value under this address. We will hold the information in a quantum chip for every of the **four address-value information at the same time**. That would be impossible using this notation and the bits because then at the same time we can address only one position of the bit string in the computer's memory.\n",
    "Looking at the table above we see that we need three qubits (`aav`) to store information about four states ($\\left| 001 \\right\\rangle$, $\\left| 010 \\right\\rangle$, $\\left| 100 \\right\\rangle$, $\\left| 111 \\right\\rangle$) that describe the bit string. The listed states will be encoded in the quantum chip with the same probability:\n",
    "\n",
    "$\\left| bs \\right\\rangle = \\alpha \\left| 001 \\right\\rangle + \\alpha \\left| 010 \\right\\rangle + \\alpha\\left| 100 \\right\\rangle + \\alpha\\left| 111 \\right\\rangle$\n",
    "\n",
    "The other states that do not occur (eg. $\\left| 000 \\right\\rangle$) get the amplitude equals to 0 ($\\beta = 0$). We can write the full quantum state:\n",
    "\n",
    "$|bs> = \\beta \\left| 000 \\right\\rangle + \\alpha \\left| 001 \\right\\rangle + \\alpha \\left| 010 \\right\\rangle + \\beta \\left| 011 \\right\\rangle + \\alpha\\left| 100 \\right\\rangle + \\beta \\left| 101 \\right\\rangle + \\beta \\left| 110 \\right\\rangle + \\alpha\\left| 111 \\right\\rangle$\n",
    "\n",
    "as the $\\alpha$ needs to meet the normalization constraint in our case should be equal to $\\frac{1}{2}$.\n",
    "\n",
    "Summarizing, using the quantum gates we need to set up our system in that way, that after the measurement it will return only the states $\\left| 001 \\right\\rangle$, $\\left| 010 \\right\\rangle$, $\\left| 100 \\right\\rangle$, $\\left| 111 \\right\\rangle$  with similar probability."
   ]
  },
  {
   "cell_type": "code",
   "execution_count": 29,
   "metadata": {
    "scrolled": true
   },
   "outputs": [
    {
     "data": {
      "text/plain": [
       "<qiskit.circuit.instructionset.InstructionSet at 0x7ffa146e9bd0>"
      ]
     },
     "execution_count": 29,
     "metadata": {},
     "output_type": "execute_result"
    }
   ],
   "source": [
    "q3 = QuantumRegister(3)\n",
    "c3 = ClassicalRegister(3)\n",
    "circ = QuantumCircuit(q3, c3)\n",
    "\n",
    "alpha = .5\n",
    "beta = .0\n",
    "\n",
    "init = Initialize([beta, alpha, alpha, beta, alpha, beta, beta, alpha])\n",
    "circ.append(init, circ.qubits)"
   ]
  },
  {
   "cell_type": "markdown",
   "metadata": {},
   "source": [
    "Above we can see a composition of quantum gates that are required to setup up qubits to represent our bit string. To check if the sequence is really making our bit string we have to add measurement at the and of the circuit and run the quantum program (the quantum circuit):"
   ]
  },
  {
   "cell_type": "code",
   "execution_count": 30,
   "metadata": {},
   "outputs": [
    {
     "data": {
      "image/png": "[encoded data removed]",
      "text/plain": [
       "<Figure size 640.373x367.889 with 1 Axes>"
      ]
     },
     "execution_count": 30,
     "metadata": {},
     "output_type": "execute_result"
    }
   ],
   "source": [
    "# Run & plot\n",
    "circ.measure(q3, c3)\n",
    "circ.draw('mpl')"
   ]
  },
  {
   "cell_type": "code",
   "execution_count": 31,
   "metadata": {},
   "outputs": [
    {
     "data": {
      "image/png": "[encoded data removed]",
      "text/plain": [
       "<Figure size 640x480 with 1 Axes>"
      ]
     },
     "execution_count": 31,
     "metadata": {},
     "output_type": "execute_result"
    }
   ],
   "source": [
    "job = circuit_simulator.run(transpile(circ, circuit_simulator), shots=1024)\n",
    "\n",
    "st = job.result().get_counts()\n",
    "plot_histogram(st)"
   ]
  },
  {
   "cell_type": "markdown",
   "metadata": {},
   "source": [
    "Running the quantum circuit, that encodes a bit string, gives us as feedback information on how many times the specific state was counted. Basing on this we can recalculate the probability, that is shown on the chart.\n",
    "\n",
    "Looking at the chart we see that it was measured that state $\\left| 001 \\right\\rangle$ exists with probability around $0.2$. The lack of the $\\left| 000 \\right\\rangle$ state means that it didn't occur. It makes us sure that on the position `00` in a bit string there should be `1`.\n",
    "\n",
    "In real life, imperfections happen. So you could use the probability to resolve ambiguities: if you find both `000` and `001` in your results, accept the most probable and reject the other as noise."
   ]
  },
  {
   "cell_type": "markdown",
   "metadata": {},
   "source": [
    "### Compression effectivity"
   ]
  },
  {
   "cell_type": "markdown",
   "metadata": {},
   "source": [
    "The example a for four-length bit string is good for the step by step explanation but doesn't show the real power of quantum computing. Making the bit string longer shows clearer the advantage of the superposition effect:"
   ]
  },
  {
   "cell_type": "code",
   "execution_count": 32,
   "metadata": {},
   "outputs": [
    {
     "name": "stdout",
     "output_type": "stream",
     "text": [
      "qubits 3, \t bits: 4\n",
      "qubits 4, \t bits: 8\n",
      "qubits 5, \t bits: 16\n",
      "qubits 6, \t bits: 32\n",
      "qubits 9, \t bits: 256\n",
      "qubits 11, \t bits: 1024\n",
      "qubits 21, \t bits: 1048576\n",
      "qubits 31, \t bits: 1073741824\n"
     ]
    }
   ],
   "source": [
    "for i in [4, 8, 16, 32, 256, 1024, 1024*1024, 1024*1024*1024]:\n",
    "    n = math.ceil(math.log2(i)) + 1\n",
    "    print(\"qubits %s, \\t bits: %s\" % (n, i))"
   ]
  },
  {
   "cell_type": "markdown",
   "metadata": {},
   "source": [
    "We have to have in mind that this compression comes at a price. Many repetitions of the process would be needed to read out the bit string. The advantage comes when we do not try to read out but do other things with the encoded string instead, such as the string comparison that this is all leading up to."
   ]
  },
  {
   "cell_type": "markdown",
   "metadata": {},
   "source": [
    "## Inverting the circuit\n",
    "\n",
    "We can use the `inverse()` function to reverse the order of the gates in the quantum circuit. It is like running the program in a backward direction."
   ]
  },
  {
   "cell_type": "code",
   "execution_count": 33,
   "metadata": {},
   "outputs": [
    {
     "data": {
      "image/png": "[encoded data removed]",
      "text/plain": [
       "<Figure size 640.373x367.889 with 1 Axes>"
      ]
     },
     "execution_count": 33,
     "metadata": {},
     "output_type": "execute_result"
    }
   ],
   "source": [
    "circ_inv = QuantumCircuit(q3, c3)\n",
    "\n",
    "init = Initialize([0, .5, .5, .0, .5, .0, .0, .5])\n",
    "\n",
    "uncompute = init.gates_to_uncompute()\n",
    "circ_inv.append(uncompute, circ_inv.qubits)\n",
    "\n",
    "circ_inv.measure(q3, c3)\n",
    "circ.draw('mpl')"
   ]
  },
  {
   "cell_type": "code",
   "execution_count": 34,
   "metadata": {},
   "outputs": [
    {
     "data": {
      "image/png": "[encoded data removed]",
      "text/plain": [
       "<Figure size 640x480 with 1 Axes>"
      ]
     },
     "execution_count": 34,
     "metadata": {},
     "output_type": "execute_result"
    }
   ],
   "source": [
    "job = circuit_simulator.run(transpile(circ_inv, circuit_simulator), shots=1024)\n",
    "\n",
    "st = job.result().get_counts()\n",
    "plot_histogram(st)"
   ]
  },
  {
   "cell_type": "markdown",
   "metadata": {},
   "source": [
    "If we run the inverted circuit, we can find that we will not end up with the inverted bit string nor with negated one. Analyzing the result states we can see that we have got the bitstring `1111`.\n",
    "\n",
    "Let's see what will happen if we will attach the inverted circuit to the circuit that we were using to initialize the quantum chip."
   ]
  },
  {
   "cell_type": "code",
   "execution_count": 35,
   "metadata": {},
   "outputs": [
    {
     "data": {
      "image/png": "[encoded data removed]",
      "text/plain": [
       "<Figure size 1058.43x367.889 with 1 Axes>"
      ]
     },
     "execution_count": 35,
     "metadata": {},
     "output_type": "execute_result"
    }
   ],
   "source": [
    "circ = QuantumCircuit(q3, c3)\n",
    "\n",
    "init = Initialize([0, .5, .5, .0, .5, .0, .0, .5])\n",
    "circ.append(init, circ.qubits)\n",
    "\n",
    "circ.barrier()\n",
    "\n",
    "circ_inv = QuantumCircuit(q3, c3)\n",
    "\n",
    "uncompute = init.gates_to_uncompute()\n",
    "circ_inv.append(uncompute, circ_inv.qubits)\n",
    "\n",
    "circ_sum = circ.compose(circ_inv)\n",
    "\n",
    "# Run and plot\n",
    "circ_sum.measure(q3, c3)\n",
    "circ_sum.draw('mpl')"
   ]
  },
  {
   "cell_type": "code",
   "execution_count": 36,
   "metadata": {},
   "outputs": [
    {
     "data": {
      "image/png": "[encoded data removed]",
      "text/plain": [
       "<Figure size 640x480 with 1 Axes>"
      ]
     },
     "execution_count": 36,
     "metadata": {},
     "output_type": "execute_result"
    }
   ],
   "source": [
    "job = circuit_simulator.run(transpile(circ_sum, circuit_simulator), shots=8192)\n",
    "\n",
    "st = job.result().get_counts()\n",
    "plot_histogram(st)"
   ]
  },
  {
   "cell_type": "markdown",
   "metadata": {},
   "source": [
    "We get back to the initial state of our qubits. That confirms that the quantum gates works perfectly. If we use a quantum circuit to change the state from the initial state to the desired state, and then we will run a circuit backward we will finish with the initial state.\n",
    "\n",
    "If we would like to negate the bit string (flip all its bits) we should use a *Pauli X gate* on all of the qubits:"
   ]
  },
  {
   "cell_type": "code",
   "execution_count": 37,
   "metadata": {},
   "outputs": [
    {
     "data": {
      "image/png": "[encoded data removed]",
      "text/plain": [
       "<Figure size 723.984x367.889 with 1 Axes>"
      ]
     },
     "execution_count": 37,
     "metadata": {},
     "output_type": "execute_result"
    }
   ],
   "source": [
    "circ = QuantumCircuit(q3, c3)\n",
    "\n",
    "init = Initialize([0, .5, .5, .0, .5, .0, .0, .5])\n",
    "circ.append(init, circ.qubits)\n",
    "circ.x(q3)\n",
    "\n",
    "# Run and plot\n",
    "circ.measure(q3, c3)\n",
    "circ.draw('mpl')"
   ]
  },
  {
   "cell_type": "code",
   "execution_count": 38,
   "metadata": {},
   "outputs": [
    {
     "data": {
      "image/png": "[encoded data removed]",
      "text/plain": [
       "<Figure size 640x480 with 1 Axes>"
      ]
     },
     "execution_count": 38,
     "metadata": {},
     "output_type": "execute_result"
    }
   ],
   "source": [
    "job = circuit_simulator.run(transpile(circ, circuit_simulator), shots=8192)\n",
    "\n",
    "st = job.result().get_counts()\n",
    "plot_histogram(st)"
   ]
  },
  {
   "cell_type": "markdown",
   "metadata": {},
   "source": [
    "Decoding all the bits from the probabilities:\n",
    "\n",
    "```\n",
    "   bs | aa v \n",
    "  ----|------- \n",
    "    0 | 00 0 \n",
    "    1 | 01 1\n",
    "    1 | 10 1\n",
    "    0 | 11 0   \n",
    "```\n",
    "we end up, as expected, with `0110`."
   ]
  },
  {
   "cell_type": "markdown",
   "metadata": {},
   "source": [
    "## Comparing bit strings"
   ]
  },
  {
   "cell_type": "markdown",
   "metadata": {},
   "source": [
    "As it was said above if we invert the circuit and act on the desired state then we will go back to the initial state. But what will happen if we use the other inverted circuit? We should receive the initial state only with some probability. We can use this fact to compare similarities of bit strings. The highest probability to get to the initial state is, the more similar bit string should be."
   ]
  },
  {
   "cell_type": "code",
   "execution_count": 39,
   "metadata": {},
   "outputs": [
    {
     "name": "stdout",
     "output_type": "stream",
     "text": [
      "Similarity (probability) with 1001:\n",
      "1000: 0.57421875\n",
      "0110: 0\n",
      "1101: 0.5498046875\n",
      "0011: 0.2578125\n"
     ]
    }
   ],
   "source": [
    "shots = 1024\n",
    "circ = QuantumCircuit(q3, c3)\n",
    "init = Initialize([0, .5, .5, .0, .5, .0, .0, .5])\n",
    "circ.append(init, circ.qubits)\n",
    "circ.barrier()\n",
    "\n",
    "bs = {'1000': [.0, .5, .5, .0, .5, .0, .5, .0],\n",
    "      '0110': [.5, .0, .0, .5, .0, .5, .5, .0],\n",
    "      '1101': [.0, .5, .0, .5, .5, .0, .0, .5],\n",
    "      '0011': [.5, .0, .5, .0, .0, .5, .0, .5]}\n",
    "\n",
    "print(\"Similarity (probability) with 1001:\")\n",
    "for bitstr, ampl in bs.items():\n",
    "    \n",
    "      circ_inv = QuantumCircuit(q3, c3)\n",
    "\n",
    "      init = Initialize(ampl)\n",
    "      uncompute = init.gates_to_uncompute()\n",
    "      circ_inv.append(uncompute, circ_inv.qubits)\n",
    "\n",
    "      circ_sum = circ.compose(circ_inv)\n",
    "      circ_sum.measure(q3, c3)\n",
    "\n",
    "      # display(circ_sum.draw('mpl'))\n",
    "\n",
    "      job = circuit_simulator.run(transpile(circ_sum, circuit_simulator), shots=shots)\n",
    "      st = job.result().get_counts()\n",
    "\n",
    "      # display(plot_histogram(st))\n",
    "\n",
    "      p = st['000'] / shots if '000' in st.keys() else 0\n",
    "      print(\"%s: %s\" % (bitstr, p))"
   ]
  },
  {
   "cell_type": "markdown",
   "metadata": {},
   "source": [
    "If all bits are different (`1001` vs `0110`) then the similarity is 0. If there are three bits in common then the probability is $0.556$. If only two bits are the same then we've got $0.242$."
   ]
  },
  {
   "cell_type": "markdown",
   "metadata": {},
   "source": [
    "## Acknowledgments\n",
    "\n",
    "This tutorial is based upon the \"Comparing Strings with Quantum Superposition\" tutorial by Rudy Raymond.\n",
    "\n",
    "I would like to thank James Wootton and Rudy Raymond for their help, extensive explanations, and interesting discussion over the content of this tutorial during [Qiskit Camp ‘19](https://qiskit.camp/)."
   ]
  },
  {
   "cell_type": "markdown",
   "metadata": {},
   "source": [
    "## References\n",
    "\n",
    "1. [Comparing Strings with Quantum Superpositon, Rudy Raymond](string_comparison.ipynb)\n",
    "2. [Qiskit’s documentation - Circuits and Registers](https://qiskit.org/documentation/terra/quantum_circuits.html)\n",
    "3. [Basic quantum circuit simulation in Python, Jarrod McClean](https://jarrodmcclean.com/basic-quantum-circuit-simulation-in-python/)\n",
    "4. [Wikipedia - Qubit](https://en.wikipedia.org/wiki/Qubit)\n",
    "5. [Wikipedia - Quantum logic gate](https://en.wikipedia.org/wiki/Quantum_logic_gate)"
   ]
  }
 ],
 "metadata": {
  "kernelspec": {
   "display_name": "MyQiskit2025-V1",
   "language": "python",
   "name": "python3"
  },
  "language_info": {
   "codemirror_mode": {
    "name": "ipython",
    "version": 3
   },
   "file_extension": ".py",
   "mimetype": "text/x-python",
   "name": "python",
   "nbconvert_exporter": "python",
   "pygments_lexer": "ipython3",
   "version": "3.13.1"
  }
 },
 "nbformat": 4,
 "nbformat_minor": 2
}
