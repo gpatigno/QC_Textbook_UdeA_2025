{
 "cells": [
  {
   "cell_type": "code",
   "execution_count": 1,
   "id": "691276bf",
   "metadata": {},
   "outputs": [
    {
     "name": "stdout",
     "output_type": "stream",
     "text": [
      "Fidelity estimate: 1.5258789062458174e-05\n"
     ]
    },
    {
     "name": "stderr",
     "output_type": "stream",
     "text": [
      "/tmp/ipykernel_90288/3853861544.py:19: DeprecationWarning: The class ``qiskit.primitives.estimator.Estimator`` is deprecated as of qiskit 1.2. It will be removed no earlier than 3 months after the release date. All implementations of the `BaseEstimatorV1` interface have been deprecated in favor of their V2 counterparts. The V2 alternative for the `Estimator` class is `StatevectorEstimator`.\n",
      "  estimator = Estimator()\n"
     ]
    }
   ],
   "source": [
    "from qiskit import QuantumCircuit\n",
    "from qiskit.quantum_info import SparsePauliOp\n",
    "from qiskit.primitives import Estimator\n",
    "\n",
    "# Number of qubits\n",
    "n = 16\n",
    "\n",
    "# Sample circuit (replace with your own)\n",
    "qc = QuantumCircuit(n)\n",
    "qc.h(range(n))  # Apply Hadamard on all qubits\n",
    "\n",
    "# Build the observable: (I + Z)/2 ^⊗ n = projector onto |0^n⟩\n",
    "terms = ['I' * i + 'Z' + 'I' * (n - i - 1) for i in range(n)]\n",
    "coeffs = [0.5] * n\n",
    "op = SparsePauliOp.from_list([(t, c) for t, c in zip(terms, coeffs)])\n",
    "observable = op + 0.5**n * SparsePauliOp('I' * n)  # Full projector approximation\n",
    "\n",
    "# Use the Estimator\n",
    "estimator = Estimator()\n",
    "job = estimator.run(circuits=[qc], observables=[observable])\n",
    "result = job.result()\n",
    "print(\"Fidelity estimate:\", result.values[0])\n"
   ]
  }
 ],
 "metadata": {
  "kernelspec": {
   "display_name": "MyQiskit2025-V1",
   "language": "python",
   "name": "python3"
  },
  "language_info": {
   "codemirror_mode": {
    "name": "ipython",
    "version": 3
   },
   "file_extension": ".py",
   "mimetype": "text/x-python",
   "name": "python",
   "nbconvert_exporter": "python",
   "pygments_lexer": "ipython3",
   "version": "3.13.1"
  }
 },
 "nbformat": 4,
 "nbformat_minor": 5
}
