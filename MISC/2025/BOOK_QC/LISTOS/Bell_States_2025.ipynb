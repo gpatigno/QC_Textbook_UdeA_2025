{
 "cells": [
  {
   "cell_type": "code",
   "execution_count": null,
   "metadata": {},
   "outputs": [],
   "source": [
    "%matplotlib inline\n",
    "\n",
    "from qiskit import QuantumCircuit\n",
    "from qiskit.visualization import plot_histogram\n",
    "import matplotlib.pyplot as plt"
   ]
  },
  {
   "cell_type": "code",
   "execution_count": null,
   "metadata": {},
   "outputs": [],
   "source": [
    "# Define a function to create and measure a given Bell state\n",
    "def create_bell_state(state_label):\n",
    "    circuit = QuantumCircuit(2, 2)  # Two qubits, two classical bits\n",
    "    circuit.h(0)  # Apply Hadamard gate to the first qubit\n",
    "    circuit.cx(0, 1)  # Apply CNOT gate with qubit 0 as control and qubit 1 as target\n",
    "    \n",
    "    if state_label == 'Phi-':\n",
    "        circuit.z(0)  # Apply Z gate to first qubit\n",
    "    elif state_label == 'Psi+':\n",
    "        circuit.x(1)  # Apply X gate to second qubit\n",
    "    elif state_label == 'Psi-':\n",
    "        circuit.x(1)  # Apply X gate to second qubit\n",
    "        circuit.z(0)  # Apply Z gate to first qubit\n",
    "    \n",
    "    circuit.barrier([0,1])\n",
    "    # Measure the qubits\n",
    "    circuit.measure_all()\n",
    "    \n",
    "    return circuit"
   ]
  },
  {
   "cell_type": "code",
   "execution_count": null,
   "metadata": {},
   "outputs": [],
   "source": [
    "# Define the four Bell states\n",
    "bell_states = {'Phi+': create_bell_state('Phi+'),\n",
    "               'Phi-': create_bell_state('Phi-'),\n",
    "               'Psi+': create_bell_state('Psi+'),\n",
    "               'Psi-': create_bell_state('Psi-')}"
   ]
  },
  {
   "cell_type": "code",
   "execution_count": null,
   "metadata": {},
   "outputs": [],
   "source": [
    "bell_states['Phi+'].draw(\"mpl\", style=\"iqp\")"
   ]
  },
  {
   "cell_type": "code",
   "execution_count": null,
   "metadata": {},
   "outputs": [],
   "source": [
    "bell_states['Phi-'].draw(\"mpl\", style=\"iqp\")"
   ]
  },
  {
   "cell_type": "code",
   "execution_count": null,
   "metadata": {},
   "outputs": [],
   "source": [
    "bell_states['Psi+'].draw(\"mpl\", style=\"iqp\")"
   ]
  },
  {
   "cell_type": "code",
   "execution_count": null,
   "metadata": {},
   "outputs": [],
   "source": [
    "bell_states['Psi-'].draw(\"mpl\", style=\"iqp\")"
   ]
  },
  {
   "cell_type": "code",
   "execution_count": null,
   "metadata": {},
   "outputs": [],
   "source": [
    "# # Use Qiskit's Aer simulator\n",
    "# aer_sim = Aer.get_backend('aer_simulator')\n",
    "\n",
    "# Generate a pass manager without providing a backend\n",
    "from qiskit.transpiler.preset_passmanagers import generate_preset_pass_manager\n",
    "from qiskit.primitives import StatevectorSampler\n",
    "\n",
    "pm = generate_preset_pass_manager(optimization_level=1)\n",
    "sampler = StatevectorSampler()"
   ]
  },
  {
   "cell_type": "code",
   "execution_count": null,
   "metadata": {},
   "outputs": [],
   "source": [
    "# Run and display results for each Bell state\n",
    "results = {}\n",
    "for label, circuit in bell_states.items():\n",
    "    isa_circuit = pm.run(circuit)\n",
    "    # execute 1 circuit with Sampler\n",
    "    job = sampler.run([isa_circuit])\n",
    "    pub_result = job.result()[0]\n",
    "\n",
    "    # print(f\" > Result class: {type(pub_result)}\")\n",
    "\n",
    "    data_pub = pub_result.data\n",
    "    bitstrings = data_pub.meas.get_bitstrings()\n",
    "    # print(f\"The number of bitstrings is: {len(bitstrings)}\")\n",
    "    counts = data_pub.meas.get_counts()\n",
    "\n",
    "    results[label] = counts\n",
    "    # print(f\"Results for {label} are: {counts}\")\n",
    "\n",
    "    circuit.draw(\"mpl\", style=\"iqp\")\n",
    "    plt.show()\n",
    "    plot_histogram(counts, title=f'Measurement Outcomes for {label}')\n",
    "    plt.show()\n",
    "\n",
    "\n",
    "\n",
    "    # qobj = assemble(transpiled_circuit)\n",
    "    # result = aer_sim.run(qobj).result()\n",
    "    # counts = result.get_counts()\n",
    "    # results[label] = counts\n",
    "    \n",
    "    # print(f\"Results for {label}:\")\n",
    "    # print(counts)\n",
    "    # circuit.draw(output='mpl')\n",
    "    # plt.show()\n",
    "    # plot_histogram(counts, title=f'Measurement Outcomes for {label}')\n",
    "    # plt.show()\n"
   ]
  },
  {
   "cell_type": "code",
   "execution_count": null,
   "metadata": {},
   "outputs": [],
   "source": []
  }
 ],
 "metadata": {
  "kernelspec": {
   "display_name": "MyQiskit2025-V1",
   "language": "python",
   "name": "python3"
  },
  "language_info": {
   "codemirror_mode": {
    "name": "ipython",
    "version": 3
   },
   "file_extension": ".py",
   "mimetype": "text/x-python",
   "name": "python",
   "nbconvert_exporter": "python",
   "pygments_lexer": "ipython3",
   "version": "3.13.1"
  }
 },
 "nbformat": 4,
 "nbformat_minor": 2
}
